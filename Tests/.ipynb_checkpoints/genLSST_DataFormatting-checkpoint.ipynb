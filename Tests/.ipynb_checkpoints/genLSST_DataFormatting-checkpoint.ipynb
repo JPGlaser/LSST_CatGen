{
 "metadata": {
  "name": "",
  "signature": "sha256:3a3900921152953900b9d291b0ed90353c4b9666c4e1ba00c2584c61be286e3b"
 },
 "nbformat": 3,
 "nbformat_minor": 0,
 "worksheets": []
}