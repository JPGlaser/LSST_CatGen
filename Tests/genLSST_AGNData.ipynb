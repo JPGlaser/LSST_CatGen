{
 "metadata": {
  "name": "",
  "signature": "sha256:0563683d2c53fe1f5527de455da4871b937bc3b69fa886e14d558b4aa687a340"
 },
 "nbformat": 3,
 "nbformat_minor": 0,
 "worksheets": [
  {
   "cells": [
    {
     "cell_type": "heading",
     "level": 1,
     "metadata": {},
     "source": [
      "Generating Mock AGN Data with LSST's Simulation Stack"
     ]
    },
    {
     "cell_type": "heading",
     "level": 2,
     "metadata": {},
     "source": [
      "Setup"
     ]
    },
    {
     "cell_type": "markdown",
     "metadata": {},
     "source": [
      "Before running this code, please make sure you have run the following commands within your working directory:"
     ]
    },
    {
     "cell_type": "raw",
     "metadata": {},
     "source": [
      "source ~/lsst/loadLSST.bash\n",
      "setup lsst_sims\n",
      "setup sims_catUtils\n",
      "setup sims_maf -t sims"
     ]
    },
    {
     "cell_type": "markdown",
     "metadata": {},
     "source": [
      "To make things easier, we will go ahead and initialize some basic python commands here."
     ]
    },
    {
     "cell_type": "code",
     "collapsed": false,
     "input": [
      "import numpy as np\n",
      "import scipy\n",
      "import matplotlib.pyplot as plt"
     ],
     "language": "python",
     "metadata": {},
     "outputs": [],
     "prompt_number": 1
    },
    {
     "cell_type": "heading",
     "level": 2,
     "metadata": {},
     "source": [
      "Creating the Set of Observations"
     ]
    },
    {
     "cell_type": "markdown",
     "metadata": {},
     "source": [
      "In order to generate our instance catalogs, we first have to have a set of LSST observation meta-data (basically information about the observation, such as its MJD, RA, Dec, Airmass, etc). We can do this in a variety of ways within the LSST_Sims package. To generate data-sets that closely match the caidance of LSST, we will utalize the LSST OpSim team's 'enigma_1189_sqlite.db' observation history database. This SQLite database was simulated with all observation proposals (as of early 2015) included as well as physical parameters taken into account and recorded. For a comprehensive look into the database, visit the following link:\n",
      "\n",
      "http://tusken.astro.washington.edu:8080/allMetricResults?runId=2"
     ]
    },
    {
     "cell_type": "heading",
     "level": 3,
     "metadata": {},
     "source": [
      "Querying the Operation Simulator's (OpSim) SQL Database"
     ]
    },
    {
     "cell_type": "markdown",
     "metadata": {},
     "source": [
      "First, let us define what physical parameters we want to include in our query:"
     ]
    },
    {
     "cell_type": "code",
     "collapsed": false,
     "input": [
      "AperatureType = 'circle'\n",
      "#AperatureRadius = 0.05 #FoV in degrees\n",
      "AperatureRadius = 1.75 #FoV in degrees\n",
      "SearchRegionRA = (40.0,50.0)\n",
      "SearchRegionDec = (-50.0,-40.0)\n",
      "SearchAirmass = (1.0,1.5)\n",
      "DesiredFilter = None\n",
      "#DesiredFilter = 'g'"
     ],
     "language": "python",
     "metadata": {},
     "outputs": [],
     "prompt_number": 2
    },
    {
     "cell_type": "markdown",
     "metadata": {},
     "source": [
      "To query this database, we will need to utalize the _lsst_sims_, and _sims_catUtils_, _eups_ LSST Stack packages. Thus, import the following:"
     ]
    },
    {
     "cell_type": "code",
     "collapsed": false,
     "input": [
      "import eups\n",
      "import os\n",
      "from lsst.sims.catUtils.utils import ObservationMetaDataGenerator\n",
      "from lsst.sims.catalogs.generation.db import ObservationMetaData\n",
      "#help(ObservationMetaDataGenerator)"
     ],
     "language": "python",
     "metadata": {},
     "outputs": [],
     "prompt_number": 3
    },
    {
     "cell_type": "markdown",
     "metadata": {},
     "source": [
      "Now we will create the path to the Enigma 1189 SQLite database, which is easily found and downloaded on the LSST Sim's group's Confluence documentation. Then, we'll initialize the ObservationMetaDataGenerator to bridge python and the SQLite database. Finally, we will run the getObservationMetaData command on it given our physical parameters."
     ]
    },
    {
     "cell_type": "code",
     "collapsed": false,
     "input": [
      "opsimdb = os.path.join(eups.productDir('sims_data'),'OpSimData','enigma_1189_sqlite.db')\n",
      "gen = ObservationMetaDataGenerator(driver='sqlite', database=opsimdb)\n",
      "SimObData = gen.getObservationMetaData(boundType=AperatureType, boundLength=AperatureRadius, \n",
      "                                       fieldRA=SearchRegionRA, fieldDec=SearchRegionDec,\n",
      "                                       airmass=SearchAirmass, telescopeFilter=DesiredFilter)\n",
      "NumOfObservations = len(SimObData)\n",
      "#print SimsObData[0].__dict__"
     ],
     "language": "python",
     "metadata": {},
     "outputs": [],
     "prompt_number": 4
    },
    {
     "cell_type": "heading",
     "level": 3,
     "metadata": {},
     "source": [
      "Viewing a Sample of the Returned Meta-Data"
     ]
    },
    {
     "cell_type": "markdown",
     "metadata": {},
     "source": [
      "Let us go ahead view a sample of our observation metadata. To do so in an easy way, we'll use the PrettyTable python package."
     ]
    },
    {
     "cell_type": "code",
     "collapsed": false,
     "input": [
      "from prettytable import PrettyTable\n",
      "\n",
      "print 'Number of Matched Observations:', NumOfObservations,'\\n'\n",
      "\n",
      "table1 = PrettyTable([\"Pointing RA\",\"Pointing Dec\",\"Obs. MJD\",\"Obs. Airmass\", \"Filter\"])\n",
      "for o in SimObData[0:10]:\n",
      "    table1.add_row([o.unrefractedRA, o.unrefractedDec, o.mjd, o.phoSimMetaData['airmass'][0], o.bandpass])\n",
      "print table1"
     ],
     "language": "python",
     "metadata": {},
     "outputs": [
      {
       "output_type": "stream",
       "stream": "stdout",
       "text": [
        "Number of Matched Observations: 8338 \n",
        "\n",
        "+---------------+----------------+--------------+--------------+--------+\n",
        "|  Pointing RA  |  Pointing Dec  |   Obs. MJD   | Obs. Airmass | Filter |\n",
        "+---------------+----------------+--------------+--------------+--------+\n",
        "| 40.1126033498 | -46.9631732273 | 49579.271847 |   1.337734   |   i    |\n",
        "| 40.1126033498 | -46.9631732273 | 49579.291909 |   1.248072   |   i    |\n",
        "| 40.1126033498 | -46.9631732273 | 49579.361145 |   1.077242   |   i    |\n",
        "| 40.1126033498 | -46.9631732273 | 49579.384506 |   1.054991   |   i    |\n",
        "| 40.1126033498 | -46.9631732273 | 49580.28442  |   1.267273   |   z    |\n",
        "| 40.1126033498 | -46.9631732273 | 49580.304296 |   1.194605   |   z    |\n",
        "| 40.1126033498 | -46.9631732273 | 49581.28017  |   1.273645   |   y    |\n",
        "| 40.1126033498 | -46.9631732273 | 49581.288706 |   1.239397   |   y    |\n",
        "| 40.1126033498 | -46.9631732273 |  49581.2896  |   1.236008   |   y    |\n",
        "| 40.1126033498 | -46.9631732273 | 49581.300037 |   1.19952    |   y    |\n",
        "+---------------+----------------+--------------+--------------+--------+\n"
       ]
      }
     ],
     "prompt_number": 5
    },
    {
     "cell_type": "heading",
     "level": 3,
     "metadata": {},
     "source": [
      "Seperating Pointings to Ease Object Searching"
     ]
    },
    {
     "cell_type": "markdown",
     "metadata": {},
     "source": [
      "As we can see, our the resulting list of OpSim objects from our query is not as neatly organized as it could be for use later down the line. It is useful to add a secondary layer of structure onto the list by sorting all OpSim objects with the same pointings into sublists of a master list. First, let us look at exactly how many unique points our query has generated for us:"
     ]
    },
    {
     "cell_type": "code",
     "collapsed": false,
     "input": [
      "UniquePointings = list({(o.unrefractedRA,o.unrefractedDec) for o in SimObData})\n",
      "NumOfPointings = len(UniquePointings)\n",
      "print 'Number of Unique Pointings:', NumOfPointings,'\\n'\n",
      "\n",
      "table2 = PrettyTable([\"Pointing RA\",\"Pointing Dec\"])\n",
      "for x in UniquePointings:\n",
      "    table2.add_row([x[0], x[1]])\n",
      "print table2"
     ],
     "language": "python",
     "metadata": {},
     "outputs": [
      {
       "output_type": "stream",
       "stream": "stdout",
       "text": [
        "Number of Unique Pointings: 9 \n",
        "\n",
        "+---------------+----------------+\n",
        "|  Pointing RA  |  Pointing Dec  |\n",
        "+---------------+----------------+\n",
        "| 48.1327519745 | -46.1697985683 |\n",
        "| 47.5551532212 | -43.3664879641 |\n",
        "| 48.7929712418 | -48.9665201579 |\n",
        "|  43.979266326 | -45.2778751687 |\n",
        "| 40.3330775093 | -49.7545090136 |\n",
        "| 47.0348502474 | -40.5505722884 |\n",
        "|  44.386983093 | -48.0665753491 |\n",
        "| 43.6247773381 | -42.4928419181 |\n",
        "| 40.1126033498 | -46.9631732273 |\n",
        "+---------------+----------------+\n"
       ]
      }
     ],
     "prompt_number": 6
    },
    {
     "cell_type": "markdown",
     "metadata": {},
     "source": [
      "Now, lets add the previously mentioned structure to the master list, ObMetaData. Thus whenever we want to get an observation that was taken at the pointing (48.13, -46.17), we just ask for ObMetatData[0][_Numbered Index_].[_OpSim Object Attribute_] ."
     ]
    },
    {
     "cell_type": "code",
     "collapsed": false,
     "input": [
      "ObMetaData = [[] for _ in xrange(NumOfPointings)]\n",
      "for i in xrange(NumOfPointings):\n",
      "    for o in SimObData:\n",
      "        if UniquePointings[i][0] == o.unrefractedRA and UniquePointings[i][1] == o.unrefractedDec:\n",
      "            ObMetaData[i].append(o)"
     ],
     "language": "python",
     "metadata": {},
     "outputs": [],
     "prompt_number": 7
    },
    {
     "cell_type": "heading",
     "level": 3,
     "metadata": {},
     "source": [
      "Useful Metrics for the Queired Pointings"
     ]
    },
    {
     "cell_type": "markdown",
     "metadata": {},
     "source": [
      "Now that we have our observations broken up into sets of unique points, its a good idea to get a feel for what kind of observation meta-data we can expect from the results. For example, a common question to ask would be \"For a given unique pointing, how many visits are there with a specific bandpass filter?\" We can create a quick little script to search through our master ObMetaData to find out the answer in a very simplistic way."
     ]
    },
    {
     "cell_type": "code",
     "collapsed": false,
     "input": [
      "VisitBandHist = []\n",
      "for i in xrange(NumOfPointings):\n",
      "    uCount, gCount, rCount, iCount, zCount, yCount = 0,0,0,0,0,0\n",
      "    for o in ObMetaData[i]:\n",
      "        if o.bandpass=='u':\n",
      "            uCount += 1\n",
      "        if o.bandpass=='g':\n",
      "            gCount += 1\n",
      "        if o.bandpass=='r':\n",
      "            rCount += 1\n",
      "        if o.bandpass=='i':\n",
      "            iCount += 1\n",
      "        if o.bandpass=='z':\n",
      "            zCount += 1\n",
      "        if o.bandpass=='y':\n",
      "            yCount += 1\n",
      "    VisitBandHist.append([uCount, gCount, rCount, iCount, zCount, yCount]) "
     ],
     "language": "python",
     "metadata": {},
     "outputs": [],
     "prompt_number": 8
    },
    {
     "cell_type": "markdown",
     "metadata": {},
     "source": [
      "Now, let's print out these results and others into a table for easy viewing:"
     ]
    },
    {
     "cell_type": "code",
     "collapsed": false,
     "input": [
      "table3 = PrettyTable([\"Pointing RA\",\"Pointing Dec\", \"Number of Visits\", \n",
      "                      \"U-Band\", \"G-Band\", \"R-Band\", \n",
      "                      \"I-Band\", \"Z-Band\", \"Y-Band\"])\n",
      "i = 0\n",
      "for x in UniquePointings:\n",
      "    table3.add_row([x[0], x[1], len(ObMetaData[i]),\n",
      "                    VisitBandHist[i][0], VisitBandHist[i][1], VisitBandHist[i][2],\n",
      "                    VisitBandHist[i][3], VisitBandHist[i][4], VisitBandHist[i][5]])\n",
      "    i += 1\n",
      "print table3"
     ],
     "language": "python",
     "metadata": {},
     "outputs": [
      {
       "output_type": "stream",
       "stream": "stdout",
       "text": [
        "+---------------+----------------+------------------+--------+--------+--------+--------+--------+--------+\n",
        "|  Pointing RA  |  Pointing Dec  | Number of Visits | U-Band | G-Band | R-Band | I-Band | Z-Band | Y-Band |\n",
        "+---------------+----------------+------------------+--------+--------+--------+--------+--------+--------+\n",
        "| 48.1327519745 | -46.1697985683 |       925        |   64   |   91   |  203   |  203   |  183   |  181   |\n",
        "| 47.5551532212 | -43.3664879641 |       923        |   64   |   89   |  205   |  203   |  181   |  181   |\n",
        "| 48.7929712418 | -48.9665201579 |       925        |   64   |   90   |  203   |  202   |  184   |  182   |\n",
        "|  43.979266326 | -45.2778751687 |       927        |   64   |   90   |  205   |  202   |  184   |  182   |\n",
        "| 40.3330775093 | -49.7545090136 |       929        |   64   |   91   |  204   |  206   |  182   |  182   |\n",
        "| 47.0348502474 | -40.5505722884 |       927        |   64   |   90   |  202   |  205   |  184   |  182   |\n",
        "|  44.386983093 | -48.0665753491 |       926        |   64   |   91   |  204   |  202   |  183   |  182   |\n",
        "| 43.6247773381 | -42.4928419181 |       927        |   64   |   91   |  203   |  203   |  183   |  183   |\n",
        "| 40.1126033498 | -46.9631732273 |       929        |   64   |   91   |  205   |  204   |  183   |  182   |\n",
        "+---------------+----------------+------------------+--------+--------+--------+--------+--------+--------+\n"
       ]
      }
     ],
     "prompt_number": 9
    },
    {
     "cell_type": "markdown",
     "metadata": {},
     "source": [
      "If we want a visual way to see what amount of the sky we are observing with our quiry's results, we can do so by producing a simple python plot. This shows the search bounds with the FoV circles of each unique pointing (represented as a point). "
     ]
    },
    {
     "cell_type": "code",
     "collapsed": false,
     "input": [
      "fig = plt.figure(figsize=(5,5))\n",
      "ax = fig.add_axes([0.1, 0.1, 0.8, 0.8])\n",
      "ax.set_xlabel('RA (Degrees)')\n",
      "ax.set_ylabel('Dec (Degrees)')\n",
      "ax.set_title('Observation Querry Results for Unique Pointings')\n",
      "ax.axis([SearchRegionRA[0], SearchRegionRA[1], SearchRegionDec[0], SearchRegionDec[1]])\n",
      "for o in UniquePointings:\n",
      "    ax.scatter(o[0], o[1])\n",
      "    viewingCircle = plt.Circle((o[0],o[1]), AperatureRadius, color='r', fill=False)\n",
      "    fig.gca().add_artist(viewingCircle)\n",
      "plt.show()"
     ],
     "language": "python",
     "metadata": {},
     "outputs": [
      {
       "metadata": {},
       "output_type": "display_data",
       "png": "[encoded data removed]",
       "text": [
        "<matplotlib.figure.Figure at 0x111b3a510>"
       ]
      }
     ],
     "prompt_number": 10
    },
    {
     "cell_type": "heading",
     "level": 2,
     "metadata": {},
     "source": [
      "Creating the Set of Instance Catalogs"
     ]
    },
    {
     "cell_type": "heading",
     "level": 3,
     "metadata": {},
     "source": [
      "Importing the Source Databases"
     ]
    },
    {
     "cell_type": "markdown",
     "metadata": {},
     "source": [
      "To generated catalogs, we first need to define the database we wish to pull from. To do this, we connect to the Fatboy server located at Washington University. For information on how to connect to the database, see the documentation located here: https://confluence.lsstcorp.org/display/SIM/Accessing+the+UW+CATSIM+Database\n",
      "\n",
      "We are most interested in AGNs, so we define our source database to be that of GalaxyTileObj, which is handled by the baseCatalogModels package in catUtils."
     ]
    },
    {
     "cell_type": "code",
     "collapsed": false,
     "input": [
      "from lsst.sims.catUtils.baseCatalogModels import GalaxyTileObj\n",
      "galaxyDB = GalaxyTileObj()"
     ],
     "language": "python",
     "metadata": {},
     "outputs": [
      {
       "output_type": "stream",
       "stream": "stderr",
       "text": [
        "/Users/jglaser/lsst/DarwinX86/anaconda/master-g68783b1848/lib/python2.7/site-packages/sqlalchemy/dialects/mssql/base.py:1294: SAWarning: Did not recognize type 'geography' of column 'geopoint'\n",
        "  return fn(*arg, **kw)\n"
       ]
      }
     ],
     "prompt_number": 6
    },
    {
     "cell_type": "heading",
     "level": 3,
     "metadata": {},
     "source": [
      "Creating the Instance Catalog's Format via the Catalog Simulator (CatSim)"
     ]
    },
    {
     "cell_type": "markdown",
     "metadata": {},
     "source": [
      "Now, we create a daughter of the Instance Catalog class which will pull visible sources from the database and store the information requested by column_outputs variable in RAM. We utilize a small cheat to quicken the catalog generation time by letting the catalog class think that the galaxies don't have disks or bulges (as they are not needed in our catalog) so it doesn't unload the AGN SED with each new object (this SED is the same for all AGN in GalaxyTileObj)."
     ]
    },
    {
     "cell_type": "code",
     "collapsed": true,
     "input": [
      "from lsst.sims.catalogs.measures.instance import InstanceCatalog, compound\n",
      "from lsst.sims.photUtils import PhotometryGalaxies, VariabilityGalaxies\n",
      "\n",
      "class variableAgnCatalogCheat(InstanceCatalog, PhotometryGalaxies, VariabilityGalaxies):\n",
      "    \n",
      "    cannot_be_null = ['uAgn'] #Locating only the AGNs in the FoV.\n",
      "    \n",
      "    column_outputs = ['AGNID', 'redshift', \n",
      "                      'raJ2000', 'decJ2000', \n",
      "                      'uAgn', 'gAgn', 'rAgn',  'iAgn', 'zAgn', 'yAgn',\n",
      "                      'sigma_uAgn', 'sigma_gAgn', 'sigma_rAgn',\n",
      "                      'sigma_iAgn', 'sigma_zAgn', 'sigma_yAgn']\n",
      "    \n",
      "    transformations = {'raJ2000':numpy.degrees, 'decJ2000':numpy.degrees}\n",
      "    \n",
      "    @compound('sedFilenameBulge', 'sedFilenameDisk')\n",
      "    def get_nonsenseSED(self):\n",
      "        ra = self.column_by_name('raJ2000') #Finding how many objects are in the column.\n",
      "        names = []\n",
      "        for r in ra:\n",
      "            names.append('None') #Tricking the catalog into thinking these galaxies don't have bulges or disks.\n",
      "        return numpy.array([names, names])"
     ],
     "language": "python",
     "metadata": {},
     "outputs": [],
     "prompt_number": 7
    },
    {
     "cell_type": "markdown",
     "metadata": {},
     "source": [
      "To make our catalogs a bit more useful, we will want to include an additional header to each generated Instance Catalog which outputs relevant OpSim observation meta-data. The following function does just that in a simplistic fashion:"
     ]
    },
    {
     "cell_type": "code",
     "collapsed": false,
     "input": [
      "def ObsHeader(IC, file_handle):\n",
      "    ObsHeaderTransformations = {'Unrefracted_RA':numpy.degrees, 'Unrefracted_Dec':numpy.degrees,\n",
      "                               'Opsim_moonra':numpy.degrees, 'Opsim_moondec':numpy.degrees,\n",
      "                               'Opsim_rotskypos':numpy.degrees, 'Opsim_rottelpos':numpy.degrees,\n",
      "                               'Opsim_sunalt':numpy.degrees, 'Opsim_moonalt':numpy.degrees,\n",
      "                               'Opsim_dist2moon':numpy.degrees, 'Opsim_altitude':numpy.degrees,\n",
      "                               'Opsim_azimuth':numpy.degrees\n",
      "                               }\n",
      "    md = IC.obs_metadata.phoSimMetaData\n",
      "    for k in md:\n",
      "        if k in ObsHeaderTransformations.keys():\n",
      "            file_handle.write(str(k)+\" \"+str(ObsHeaderTransformations[k](md[k][0]))+\"\\n\")\n",
      "        else:\n",
      "            file_handle.write(str(k)+\" \"+str(md[k][0])+\"\\n\")"
     ],
     "language": "python",
     "metadata": {},
     "outputs": [],
     "prompt_number": 8
    },
    {
     "cell_type": "heading",
     "level": 3,
     "metadata": {},
     "source": [
      "Running CatSim & Writing the Instance Catalogs"
     ]
    },
    {
     "cell_type": "markdown",
     "metadata": {},
     "source": [
      "With our daughter of the InstanceCatalog class created and a header function created, we can now run CatSim for the various observations queried earlier. Each time the catalog is generated, we write it out to a text file so it can be read back in at a later time."
     ]
    },
    {
     "cell_type": "code",
     "collapsed": false,
     "input": [
      "primarydir = 'TestCats/OpSimTest'\n",
      "catdir = 'Catalogs'\n",
      "\n",
      "for i in xrange(len(SimObData)):\n",
      "    o = SimObData[i]\n",
      "    if not os.path.exists(primarydir+'/'+catdir):\n",
      "        os.makedirs(primarydir+'/'+catdir)\n",
      "    catFileName = 'AGNTestCatalog_%f.txt' %o.mjd\n",
      "    if os.path.isfile(primarydir+'/'+catdir+'/'+catFileName) == False:\n",
      "        variableAgn = variableAgnCatalogCheat(galaxyDB, obs_metadata=o)\n",
      "        # Writing the Observational Meta-Data Header\n",
      "        with open(primarydir+'/'+catdir+'/'+catFileName, \"w\") as fh:\n",
      "            ObsHeader(variableAgn, fh)\n",
      "            fh.write(\"\\n\")\n",
      "            fh.close()\n",
      "        variableAgn.write_catalog(primarydir+'/'+catdir+'/'+catFileName, write_mode='a')"
     ],
     "language": "python",
     "metadata": {},
     "outputs": [],
     "prompt_number": 9
    },
    {
     "cell_type": "heading",
     "level": 2,
     "metadata": {},
     "source": [
      "Preforming Basic Science on the Instance Catalogs"
     ]
    },
    {
     "cell_type": "heading",
     "level": 3,
     "metadata": {},
     "source": [
      "Reading in the Instance Catalogs"
     ]
    },
    {
     "cell_type": "code",
     "collapsed": false,
     "input": [],
     "language": "python",
     "metadata": {},
     "outputs": []
    },
    {
     "cell_type": "heading",
     "level": 3,
     "metadata": {},
     "source": [
      "Plotting Field of View & AGN Locations"
     ]
    },
    {
     "cell_type": "code",
     "collapsed": false,
     "input": [],
     "language": "python",
     "metadata": {},
     "outputs": []
    },
    {
     "cell_type": "heading",
     "level": 3,
     "metadata": {},
     "source": [
      "Generating Time-Series Datafiles for Each Object"
     ]
    },
    {
     "cell_type": "code",
     "collapsed": false,
     "input": [],
     "language": "python",
     "metadata": {},
     "outputs": []
    },
    {
     "cell_type": "heading",
     "level": 3,
     "metadata": {},
     "source": [
      "Producing Light-Curves"
     ]
    },
    {
     "cell_type": "code",
     "collapsed": false,
     "input": [],
     "language": "python",
     "metadata": {},
     "outputs": []
    }
   ],
   "metadata": {}
  }
 ]
}