{
 "metadata": {
  "name": "",
  "signature": "sha256:7facef4e4e5e55bca60e4200658c68892de9a79a6b0fa027df5395779de0fdd1"
 },
 "nbformat": 3,
 "nbformat_minor": 0,
 "worksheets": [
  {
   "cells": [
    {
     "cell_type": "heading",
     "level": 1,
     "metadata": {},
     "source": [
      "Generating Mock AGN Data with LSST's Simulation Stack"
     ]
    },
    {
     "cell_type": "heading",
     "level": 2,
     "metadata": {},
     "source": [
      "Setup"
     ]
    },
    {
     "cell_type": "markdown",
     "metadata": {},
     "source": [
      "Before running this code, please make sure you have run the following commands within your working directory:"
     ]
    },
    {
     "cell_type": "raw",
     "metadata": {},
     "source": [
      "source ~/lsst/loadLSST.bash\n",
      "setup lsst_sims\n",
      "setup sims_catUtils\n",
      "setup sims_maf -t sims"
     ]
    },
    {
     "cell_type": "markdown",
     "metadata": {},
     "source": [
      "To make things easier, we will go ahead and initialize some basic python commands here."
     ]
    },
    {
     "cell_type": "code",
     "collapsed": false,
     "input": [
      "import numpy as np\n",
      "import scipy\n",
      "import matplotlib.pyplot as plt"
     ],
     "language": "python",
     "metadata": {},
     "outputs": [],
     "prompt_number": 1
    },
    {
     "cell_type": "heading",
     "level": 2,
     "metadata": {},
     "source": [
      "Creating the Set of Observations"
     ]
    },
    {
     "cell_type": "markdown",
     "metadata": {},
     "source": [
      "In order to generate our instance catalogs, we first have to have a set of LSST observation meta-data (basically information about the observation, such as its MJD, RA, Dec, Airmass, etc). We can do this in a variety of ways within the LSST_Sims package. To generate data-sets that closely match the caidance of LSST, we will utalize the LSST OpSim team's 'enigma_1189_sqlite.db' observation history database. This SQLite database was simulated with all observation proposals (as of early 2015) included as well as physical parameters taken into account and recorded. For a comprehensive look into the database, visit the following link:\n",
      "\n",
      "http://tusken.astro.washington.edu:8080/allMetricResults?runId=2"
     ]
    },
    {
     "cell_type": "heading",
     "level": 3,
     "metadata": {},
     "source": [
      "Querying the Operation Simulator's (OpSim) SQL Database"
     ]
    },
    {
     "cell_type": "markdown",
     "metadata": {},
     "source": [
      "First, let us define what physical parameters we want to include in our query:"
     ]
    },
    {
     "cell_type": "code",
     "collapsed": false,
     "input": [
      "AperatureType = 'circle'\n",
      "AperatureRadius = 0.5 #FoV in degrees\n",
      "#AperatureRadius = 1.75 #LSST's Actual FoV in degrees\n",
      "SearchRegionRA = (40.0,45.0)\n",
      "SearchRegionDec = (-45.0,-40.0)\n",
      "SearchAirmass = (1.0,1.5)\n",
      "DesiredFilter = None\n",
      "#DesiredFilter = 'g'"
     ],
     "language": "python",
     "metadata": {},
     "outputs": [],
     "prompt_number": 2
    },
    {
     "cell_type": "markdown",
     "metadata": {},
     "source": [
      "To query this database, we will need to utalize the _lsst_sims_, and _sims_catUtils_, _eups_ LSST Stack packages. Thus, import the following:"
     ]
    },
    {
     "cell_type": "code",
     "collapsed": false,
     "input": [
      "import eups\n",
      "import os\n",
      "from lsst.sims.catUtils.utils import ObservationMetaDataGenerator\n",
      "from lsst.sims.catalogs.generation.db import ObservationMetaData\n",
      "#help(ObservationMetaDataGenerator)"
     ],
     "language": "python",
     "metadata": {},
     "outputs": [],
     "prompt_number": 3
    },
    {
     "cell_type": "markdown",
     "metadata": {},
     "source": [
      "Now we will create the path to the Enigma 1189 SQLite database, which is easily found and downloaded on the LSST Sim's group's Confluence documentation. Then, we'll initialize the ObservationMetaDataGenerator to bridge python and the SQLite database. Finally, we will run the getObservationMetaData command on it given our physical parameters."
     ]
    },
    {
     "cell_type": "code",
     "collapsed": false,
     "input": [
      "opsimdb = os.path.join(eups.productDir('sims_data'),'OpSimData','enigma_1189_sqlite.db')\n",
      "gen = ObservationMetaDataGenerator(driver='sqlite', database=opsimdb)\n",
      "SimObData = gen.getObservationMetaData(boundType=AperatureType, boundLength=AperatureRadius, \n",
      "                                       fieldRA=SearchRegionRA, fieldDec=SearchRegionDec,\n",
      "                                       airmass=SearchAirmass, telescopeFilter=DesiredFilter)\n",
      "NumOfObservations = len(SimObData)\n",
      "#print SimsObData[0].__dict__"
     ],
     "language": "python",
     "metadata": {},
     "outputs": [],
     "prompt_number": 4
    },
    {
     "cell_type": "heading",
     "level": 3,
     "metadata": {},
     "source": [
      "Viewing a Sample of the Returned Meta-Data"
     ]
    },
    {
     "cell_type": "markdown",
     "metadata": {},
     "source": [
      "Let us go ahead view a sample of our observation metadata. To do so in an easy way, we'll use the PrettyTable python package."
     ]
    },
    {
     "cell_type": "code",
     "collapsed": false,
     "input": [
      "from prettytable import PrettyTable\n",
      "\n",
      "print 'Number of Matched Observations:', NumOfObservations,'\\n'\n",
      "\n",
      "table1 = PrettyTable([\"Pointing RA\",\"Pointing Dec\",\"Obs. MJD\",\"Obs. Airmass\", \"Filter\"])\n",
      "for o in SimObData[0:10]:\n",
      "    table1.add_row([o.unrefractedRA, o.unrefractedDec, o.mjd, o.phoSimMetaData['airmass'][0], o.bandpass])\n",
      "print table1"
     ],
     "language": "python",
     "metadata": {},
     "outputs": [
      {
       "output_type": "stream",
       "stream": "stdout",
       "text": [
        "Number of Matched Observations: 927 \n",
        "\n",
        "+---------------+----------------+--------------+--------------+--------+\n",
        "|  Pointing RA  |  Pointing Dec  |   Obs. MJD   | Obs. Airmass | Filter |\n",
        "+---------------+----------------+--------------+--------------+--------+\n",
        "| 43.6247773381 | -42.4928419181 | 49583.279867 |   1.284256   |   y    |\n",
        "| 43.6247773381 | -42.4928419181 | 49583.394049 |   1.028035   |   y    |\n",
        "| 43.6247773381 | -42.4928419181 | 49584.276571 |   1.28698    |   y    |\n",
        "| 43.6247773381 | -42.4928419181 | 49584.286926 |   1.240279   |   y    |\n",
        "| 43.6247773381 | -42.4928419181 | 49584.290077 |   1.227326   |   y    |\n",
        "| 43.6247773381 | -42.4928419181 | 49584.295033 |   1.208072   |   y    |\n",
        "| 43.6247773381 | -42.4928419181 | 49585.291573 |   1.210831   |   y    |\n",
        "| 43.6247773381 | -42.4928419181 | 49585.346073 |   1.06891    |   y    |\n",
        "| 43.6247773381 | -42.4928419181 | 49585.349248 |   1.06402    |   y    |\n",
        "| 43.6247773381 | -42.4928419181 | 49586.425953 |   1.035108   |   z    |\n",
        "+---------------+----------------+--------------+--------------+--------+\n"
       ]
      }
     ],
     "prompt_number": 5
    },
    {
     "cell_type": "heading",
     "level": 3,
     "metadata": {},
     "source": [
      "Seperating Pointings to Ease Object Searching"
     ]
    },
    {
     "cell_type": "markdown",
     "metadata": {},
     "source": [
      "As we can see, our the resulting list of OpSim objects from our query is not as neatly organized as it could be for use later down the line. It is useful to add a secondary layer of structure onto the list by sorting all OpSim objects with the same pointings into sublists of a master list. First, let us look at exactly how many unique points our query has generated for us:"
     ]
    },
    {
     "cell_type": "code",
     "collapsed": false,
     "input": [
      "UniquePointings = list({(o.unrefractedRA,o.unrefractedDec) for o in SimObData})\n",
      "NumOfPointings = len(UniquePointings)\n",
      "print 'Number of Unique Pointings:', NumOfPointings,'\\n'\n",
      "\n",
      "table2 = PrettyTable([\"Pointing RA\",\"Pointing Dec\"])\n",
      "for x in UniquePointings:\n",
      "    table2.add_row([x[0], x[1]])\n",
      "print table2"
     ],
     "language": "python",
     "metadata": {},
     "outputs": [
      {
       "output_type": "stream",
       "stream": "stdout",
       "text": [
        "Number of Unique Pointings: 1 \n",
        "\n",
        "+---------------+----------------+\n",
        "|  Pointing RA  |  Pointing Dec  |\n",
        "+---------------+----------------+\n",
        "| 43.6247773381 | -42.4928419181 |\n",
        "+---------------+----------------+\n"
       ]
      }
     ],
     "prompt_number": 6
    },
    {
     "cell_type": "markdown",
     "metadata": {},
     "source": [
      "Now, lets add the previously mentioned structure to the master list, ObMetaData. Thus whenever we want to get an observation that was taken at the pointing (48.13, -46.17), we just ask for ObMetatData[0][_Numbered Index_].[_OpSim Object Attribute_] ."
     ]
    },
    {
     "cell_type": "code",
     "collapsed": false,
     "input": [
      "ObMetaData = [[] for _ in xrange(NumOfPointings)]\n",
      "for i in xrange(NumOfPointings):\n",
      "    for o in SimObData:\n",
      "        if UniquePointings[i][0] == o.unrefractedRA and UniquePointings[i][1] == o.unrefractedDec:\n",
      "            ObMetaData[i].append(o)"
     ],
     "language": "python",
     "metadata": {},
     "outputs": [],
     "prompt_number": 7
    },
    {
     "cell_type": "heading",
     "level": 3,
     "metadata": {},
     "source": [
      "Useful Metrics for the Queired Pointings"
     ]
    },
    {
     "cell_type": "markdown",
     "metadata": {},
     "source": [
      "Now that we have our observations broken up into sets of unique points, its a good idea to get a feel for what kind of observation meta-data we can expect from the results. For example, a common question to ask would be \"For a given unique pointing, how many visits are there with a specific bandpass filter?\" We can create a quick little script to search through our master ObMetaData to find out the answer in a very simplistic way."
     ]
    },
    {
     "cell_type": "code",
     "collapsed": false,
     "input": [
      "VisitBandHist = []\n",
      "for i in xrange(NumOfPointings):\n",
      "    uCount, gCount, rCount, iCount, zCount, yCount = 0,0,0,0,0,0\n",
      "    for o in ObMetaData[i]:\n",
      "        if o.bandpass=='u':\n",
      "            uCount += 1\n",
      "        if o.bandpass=='g':\n",
      "            gCount += 1\n",
      "        if o.bandpass=='r':\n",
      "            rCount += 1\n",
      "        if o.bandpass=='i':\n",
      "            iCount += 1\n",
      "        if o.bandpass=='z':\n",
      "            zCount += 1\n",
      "        if o.bandpass=='y':\n",
      "            yCount += 1\n",
      "    VisitBandHist.append([uCount, gCount, rCount, iCount, zCount, yCount]) "
     ],
     "language": "python",
     "metadata": {},
     "outputs": [],
     "prompt_number": 8
    },
    {
     "cell_type": "markdown",
     "metadata": {},
     "source": [
      "Now, let's print out these results and others into a table for easy viewing:"
     ]
    },
    {
     "cell_type": "code",
     "collapsed": false,
     "input": [
      "table3 = PrettyTable([\"Pointing RA\",\"Pointing Dec\", \"Number of Visits\", \n",
      "                      \"U-Band\", \"G-Band\", \"R-Band\", \n",
      "                      \"I-Band\", \"Z-Band\", \"Y-Band\"])\n",
      "i = 0\n",
      "for x in UniquePointings:\n",
      "    table3.add_row([x[0], x[1], len(ObMetaData[i]),\n",
      "                    VisitBandHist[i][0], VisitBandHist[i][1], VisitBandHist[i][2],\n",
      "                    VisitBandHist[i][3], VisitBandHist[i][4], VisitBandHist[i][5]])\n",
      "    i += 1\n",
      "print table3"
     ],
     "language": "python",
     "metadata": {},
     "outputs": [
      {
       "output_type": "stream",
       "stream": "stdout",
       "text": [
        "+---------------+----------------+------------------+--------+--------+--------+--------+--------+--------+\n",
        "|  Pointing RA  |  Pointing Dec  | Number of Visits | U-Band | G-Band | R-Band | I-Band | Z-Band | Y-Band |\n",
        "+---------------+----------------+------------------+--------+--------+--------+--------+--------+--------+\n",
        "| 43.6247773381 | -42.4928419181 |       927        |   64   |   91   |  203   |  203   |  183   |  183   |\n",
        "+---------------+----------------+------------------+--------+--------+--------+--------+--------+--------+\n"
       ]
      }
     ],
     "prompt_number": 9
    },
    {
     "cell_type": "markdown",
     "metadata": {},
     "source": [
      "If we want a visual way to see what amount of the sky we are observing with our quiry's results, we can do so by producing a simple python plot. This shows the search bounds with the FoV circles of each unique pointing (represented as a point). "
     ]
    },
    {
     "cell_type": "code",
     "collapsed": false,
     "input": [
      "fig = plt.figure(figsize=(5,5))\n",
      "ax = fig.add_axes([0.1, 0.1, 0.8, 0.8])\n",
      "ax.set_xlabel('RA (Degrees)')\n",
      "ax.set_ylabel('Dec (Degrees)')\n",
      "ax.set_title('Observation Querry Results for Unique Pointings')\n",
      "ax.axis([SearchRegionRA[0], SearchRegionRA[1], SearchRegionDec[0], SearchRegionDec[1]])\n",
      "for o in UniquePointings:\n",
      "    ax.scatter(o[0], o[1])\n",
      "    viewingCircle = plt.Circle((o[0],o[1]), AperatureRadius, color='r', fill=False)\n",
      "    fig.gca().add_artist(viewingCircle)\n",
      "plt.show()"
     ],
     "language": "python",
     "metadata": {},
     "outputs": [
      {
       "metadata": {},
       "output_type": "display_data",
       "png": "[encoded data removed]",
       "text": [
        "<matplotlib.figure.Figure at 0x10dabfad0>"
       ]
      }
     ],
     "prompt_number": 10
    },
    {
     "cell_type": "heading",
     "level": 2,
     "metadata": {},
     "source": [
      "Creating the Set of Instance Catalogs"
     ]
    },
    {
     "cell_type": "heading",
     "level": 3,
     "metadata": {},
     "source": [
      "Importing the Source Databases"
     ]
    },
    {
     "cell_type": "markdown",
     "metadata": {},
     "source": [
      "To generated catalogs, we first need to define the database we wish to pull from. To do this, we connect to the Fatboy server located at Washington University. For information on how to connect to the database, see the documentation located here: https://confluence.lsstcorp.org/display/SIM/Accessing+the+UW+CATSIM+Database\n",
      "\n",
      "We are most interested in AGNs, so we define our source database to be that of GalaxyTileObj, which is handled by the baseCatalogModels package in catUtils."
     ]
    },
    {
     "cell_type": "code",
     "collapsed": false,
     "input": [
      "from lsst.sims.catUtils.baseCatalogModels import GalaxyTileObj\n",
      "galaxyDB = GalaxyTileObj()\n",
      "#galaxyDB.show_mapped_columns()"
     ],
     "language": "python",
     "metadata": {},
     "outputs": [
      {
       "output_type": "stream",
       "stream": "stderr",
       "text": [
        "/Users/jglaser/lsst/DarwinX86/anaconda/master-g68783b1848/lib/python2.7/site-packages/sqlalchemy/dialects/mssql/base.py:1294: SAWarning: Did not recognize type 'geography' of column 'geopoint'\n",
        "  return fn(*arg, **kw)\n"
       ]
      }
     ],
     "prompt_number": 12
    },
    {
     "cell_type": "heading",
     "level": 3,
     "metadata": {},
     "source": [
      "Creating the Instance Catalog's Format via the Catalog Simulator (CatSim)"
     ]
    },
    {
     "cell_type": "markdown",
     "metadata": {},
     "source": [
      "Now, we create a daughter of the Instance Catalog class which will pull visible sources from the database and store the information requested by column_outputs variable in RAM. We utilize a small cheat to quicken the catalog generation time by letting the catalog class think that the galaxies don't have disks or bulges (as they are not needed in our catalog) so it doesn't unload the AGN SED with each new object (this SED is the same for all AGN in GalaxyTileObj)."
     ]
    },
    {
     "cell_type": "code",
     "collapsed": false,
     "input": [
      "from lsst.sims.catalogs.measures.instance import InstanceCatalog, compound\n",
      "from lsst.sims.photUtils import PhotometryGalaxies, VariabilityGalaxies\n",
      "\n",
      "class FastVarAgnCat(InstanceCatalog, PhotometryGalaxies, VariabilityGalaxies):\n",
      "    \n",
      "    cannot_be_null = ['uAgn'] #Locating only the AGNs in the FoV.\n",
      "    \n",
      "    column_outputs = ['AGNID', 'redshift', 'raJ2000', 'decJ2000', 'ObsAgn', 'sigma_ObsAgn']\n",
      "    \n",
      "    transformations = {'raJ2000':numpy.degrees, 'decJ2000':numpy.degrees}\n",
      "    \n",
      "    #Only Append the Column of AGN Magnitudes in the Observed Bandpass\n",
      "    @compound('ObsAgn', 'sigma_ObsAgn')\n",
      "    def get_PhotometryCols(self):\n",
      "        mag = None\n",
      "        sigma = None\n",
      "        if self.obs_metadata.bandpass is not None:\n",
      "            if not hasattr(self.obs_metadata.bandpass, '__iter__'):\n",
      "                Filter = self.obs_metadata.bandpass\n",
      "                mag = self.column_by_name(Filter+'Agn')\n",
      "                sigma = self.column_by_name('sigma_'+Filter+'Agn')\n",
      "        return np.array([mag, sigma])\n",
      "    \n",
      "    @compound('sedFilenameBulge', 'sedFilenameDisk')\n",
      "    def get_QuickSED(self):\n",
      "        ra = self.column_by_name('raJ2000') #Finding how many objects are in the column.\n",
      "        names = []\n",
      "        for r in ra:\n",
      "            names.append('None') #Tricking the catalog into thinking these galaxies don't have bulges or disks.\n",
      "        return np.array([names, names])"
     ],
     "language": "python",
     "metadata": {},
     "outputs": [],
     "prompt_number": 13
    },
    {
     "cell_type": "markdown",
     "metadata": {},
     "source": [
      "To make our catalogs a bit more useful, we will want to include an additional header to each generated Instance Catalog which outputs relevant OpSim observation meta-data. The following function does just that in a simplistic fashion:"
     ]
    },
    {
     "cell_type": "code",
     "collapsed": false,
     "input": [
      "def ObsHeader(IC, file_handle):\n",
      "    ObsHeaderTransformations = {'Unrefracted_RA':numpy.degrees, 'Unrefracted_Dec':numpy.degrees,\n",
      "                               'Opsim_moonra':numpy.degrees, 'Opsim_moondec':numpy.degrees,\n",
      "                               'Opsim_rotskypos':numpy.degrees, 'Opsim_rottelpos':numpy.degrees,\n",
      "                               'Opsim_sunalt':numpy.degrees, 'Opsim_moonalt':numpy.degrees,\n",
      "                               'Opsim_dist2moon':numpy.degrees, 'Opsim_altitude':numpy.degrees,\n",
      "                               'Opsim_azimuth':numpy.degrees\n",
      "                               }\n",
      "    md = IC.obs_metadata.phoSimMetaData\n",
      "    for k in md:\n",
      "        if k in ObsHeaderTransformations.keys():\n",
      "            file_handle.write(str(k)+\" \"+str(ObsHeaderTransformations[k](md[k][0]))+\"\\n\")\n",
      "        else:\n",
      "            file_handle.write(str(k)+\" \"+str(md[k][0])+\"\\n\")"
     ],
     "language": "python",
     "metadata": {},
     "outputs": [],
     "prompt_number": 14
    },
    {
     "cell_type": "heading",
     "level": 3,
     "metadata": {},
     "source": [
      "Running CatSim & Writing the Instance Catalogs"
     ]
    },
    {
     "cell_type": "markdown",
     "metadata": {},
     "source": [
      "With our daughter of the InstanceCatalog class created and a header function created, we can now run CatSim for the various observations queried earlier. Each time the catalog is generated, we write it out to a text file so it can be read back in at a later time."
     ]
    },
    {
     "cell_type": "code",
     "collapsed": false,
     "input": [
      "import time\n",
      "PrimaryDir = 'TestCats/QuickSurvey_R%.2f' %(AperatureRadius)\n",
      "CatDir = 'Catalogs'\n",
      "if not os.path.exists(PrimaryDir+'/'+CatDir):\n",
      "        os.makedirs(PrimaryDir+'/'+CatDir)\n",
      "startT = time.clock()\n",
      "for Pointing in ObMetaData:\n",
      "    PointingDir = 'RA[%.2f]_DEC[%.2f]' %(Pointing[0].unrefractedRA, Pointing[0].unrefractedDec)\n",
      "    WorkingDir = PrimaryDir+'/'+CatDir+'/'+PointingDir\n",
      "    if not os.path.exists(WorkingDir):\n",
      "        os.makedirs(WorkingDir)\n",
      "    for Observation in Pointing:\n",
      "        start = time.clock()\n",
      "        CatFileName = 'LSSTAGN_%.5f.txt' %(Observation.mjd)\n",
      "        if os.path.isfile(WorkingDir+'/'+CatFileName) == False:\n",
      "            SQLRules = '(sedname_agn IS NOT NULL) AND (magnorm_agn < 24.0)'\n",
      "            variableAgn = FastVarAgnCat(galaxyDB, obs_metadata=Observation, constraint=SQLRules)\n",
      "            # Writing the Observational Meta-Data Header\n",
      "            with open(WorkingDir+'/'+CatFileName, \"w\") as fh:\n",
      "                ObsHeader(variableAgn, fh)\n",
      "                fh.write(\"\\n\")\n",
      "                fh.close()\n",
      "            variableAgn.write_catalog(WorkingDir+'/'+CatFileName, write_mode='a')\n",
      "        end = time.clock()\n",
      "        print end - start\n",
      "endT = time.clock()\n",
      "print endT - startT"
     ],
     "language": "python",
     "metadata": {},
     "outputs": [
      {
       "output_type": "stream",
       "stream": "stdout",
       "text": [
        "2.712593\n",
        "2.726623"
       ]
      },
      {
       "output_type": "stream",
       "stream": "stdout",
       "text": [
        "\n",
        "2.743856"
       ]
      },
      {
       "output_type": "stream",
       "stream": "stdout",
       "text": [
        "\n",
        "2.694585"
       ]
      },
      {
       "output_type": "stream",
       "stream": "stdout",
       "text": [
        "\n",
        "2.711467"
       ]
      },
      {
       "output_type": "stream",
       "stream": "stdout",
       "text": [
        "\n",
        "2.722951"
       ]
      },
      {
       "output_type": "stream",
       "stream": "stdout",
       "text": [
        "\n",
        "2.73669"
       ]
      }
     ]
    },
    {
     "cell_type": "heading",
     "level": 2,
     "metadata": {},
     "source": [
      "Preforming Basic Science on the Instance Catalogs"
     ]
    },
    {
     "cell_type": "heading",
     "level": 3,
     "metadata": {},
     "source": [
      "Reading in the Instance Catalogs"
     ]
    },
    {
     "cell_type": "markdown",
     "metadata": {},
     "source": [
      "With the last section, our set of instance catalogs are created for the desired observations and exported for long-term storage. However, we would now like to read in the data to do some basic science with it. To do so, we run the following command:"
     ]
    },
    {
     "cell_type": "code",
     "collapsed": false,
     "input": [
      "#PrimaryDir = 'TestCats/LSST_AGNTest_R%.2f' %(AperatureRadius)\n",
      "CatDir = 'Catalogs'\n",
      "\n",
      "dtype = numpy.dtype([('AGNID', int), ('redshift', float), \\\n",
      "                     ('raJ2000', float), ('decJ2000', float), \\\n",
      "                     ('uAgn', float), ('gAgn', float), \\\n",
      "                     ('rAgn', float), ('iAgn', float), \\\n",
      "                     ('zAgn', float), ('yAgn', float), \\\n",
      "                     ('sigma_uAgn', float), ('sigma_gAgn', float), \\\n",
      "                     ('sigma_rAgn', float), ('sigma_iAgn', float), \\\n",
      "                     ('sigma_zAgn', float), ('sigma_yAgn', float) \\\n",
      "                    ])\n",
      "AGNData = [[] for _ in xrange(NumOfPointings)]\n",
      "PointingIndex=0\n",
      "for Pointing in ObMetaData:\n",
      "    PointingDir = 'RA[%.2f]_DEC[%.2f]' %(Pointing[0].unrefractedRA, Pointing[0].unrefractedDec)\n",
      "    WorkingDir = PrimaryDir+'/'+CatDir+'/'+PointingDir\n",
      "    for Observation in Pointing:\n",
      "        CatFileName = 'LSSTAGN_%.5f.txt' %(Observation.mjd)\n",
      "        InstCat = numpy.loadtxt(WorkingDir+'/'+CatFileName, delimiter=',', dtype=dtype, skiprows=20)\n",
      "        AGNData[PointingIndex].append(InstCat)\n",
      "    PointingIndex+=1"
     ],
     "language": "python",
     "metadata": {},
     "outputs": [],
     "prompt_number": 16
    },
    {
     "cell_type": "markdown",
     "metadata": {},
     "source": [
      "Now, let us check to make sure we've read in the data correctly by counting the number of AGNS found and creating an array of their IDs."
     ]
    },
    {
     "cell_type": "code",
     "collapsed": false,
     "input": [
      "AGNIDList = []\n",
      "for Pointing in AGNData:\n",
      "    AGNIDList.extend(Pointing[0]['AGNID'])\n",
      "TotalNumOfAGN = len(AGNIDList)\n",
      "print TotalNumOfAGN"
     ],
     "language": "python",
     "metadata": {},
     "outputs": [
      {
       "output_type": "stream",
       "stream": "stdout",
       "text": [
        "5589\n"
       ]
      }
     ],
     "prompt_number": 17
    },
    {
     "cell_type": "heading",
     "level": 3,
     "metadata": {},
     "source": [
      "Plotting Field of View & AGN Locations"
     ]
    },
    {
     "cell_type": "code",
     "collapsed": false,
     "input": [],
     "language": "python",
     "metadata": {},
     "outputs": [],
     "prompt_number": 18
    },
    {
     "cell_type": "heading",
     "level": 3,
     "metadata": {},
     "source": [
      "Generating Time-Series Datafiles for Each Object"
     ]
    },
    {
     "cell_type": "code",
     "collapsed": false,
     "input": [],
     "language": "python",
     "metadata": {},
     "outputs": [],
     "prompt_number": 73
    },
    {
     "cell_type": "code",
     "collapsed": false,
     "input": [],
     "language": "python",
     "metadata": {},
     "outputs": [],
     "prompt_number": 73
    },
    {
     "cell_type": "heading",
     "level": 3,
     "metadata": {},
     "source": [
      "Producing Light-Curves"
     ]
    },
    {
     "cell_type": "code",
     "collapsed": false,
     "input": [],
     "language": "python",
     "metadata": {},
     "outputs": [],
     "prompt_number": 73
    },
    {
     "cell_type": "code",
     "collapsed": false,
     "input": [],
     "language": "python",
     "metadata": {},
     "outputs": [],
     "prompt_number": 16
    },
    {
     "cell_type": "code",
     "collapsed": false,
     "input": [],
     "language": "python",
     "metadata": {},
     "outputs": []
    }
   ],
   "metadata": {}
  }
 ]
}