{
 "metadata": {
  "name": "",
  "signature": "sha256:679eb2df54936a406854da7bf3aa5f9ad6ad97bb9c74b0f265033f7a3f9221fa"
 },
 "nbformat": 3,
 "nbformat_minor": 0,
 "worksheets": [
  {
   "cells": [
    {
     "cell_type": "heading",
     "level": 1,
     "metadata": {},
     "source": [
      "Generating Mock AGN Data with LSST's Simulation Stack"
     ]
    },
    {
     "cell_type": "heading",
     "level": 2,
     "metadata": {},
     "source": [
      "Setup"
     ]
    },
    {
     "cell_type": "markdown",
     "metadata": {},
     "source": [
      "Before running this code, please make sure you have run the following commands within your working directory:"
     ]
    },
    {
     "cell_type": "raw",
     "metadata": {},
     "source": [
      "source ~/lsst/loadLSST.bash\n",
      "setup lsst_sims\n",
      "setup sims_catUtils\n",
      "setup sims_maf -t sims"
     ]
    },
    {
     "cell_type": "markdown",
     "metadata": {},
     "source": [
      "To make things easier, we will go ahead and initialize some basic python commands here."
     ]
    },
    {
     "cell_type": "code",
     "collapsed": false,
     "input": [
      "import numpy as np\n",
      "import scipy\n",
      "import matplotlib.pyplot as plt"
     ],
     "language": "python",
     "metadata": {},
     "outputs": [],
     "prompt_number": 1
    },
    {
     "cell_type": "heading",
     "level": 2,
     "metadata": {},
     "source": [
      "Creating the Set of Observations"
     ]
    },
    {
     "cell_type": "markdown",
     "metadata": {},
     "source": [
      "In order to generate our instance catalogs, we first have to have a set of LSST observation meta-data (basically information about the observation, such as its MJD, RA, Dec, Airmass, etc). We can do this in a variety of ways within the LSST_Sims package. To generate data-sets that closely match the caidance of LSST, we will utalize the LSST OpSim team's 'enigma_1189_sqlite.db' observation history database. This SQLite database was simulated with all observation proposals (as of early 2015) included as well as physical parameters taken into account and recorded. For a comprehensive look into the database, visit the following link:\n",
      "\n",
      "http://tusken.astro.washington.edu:8080/allMetricResults?runId=2"
     ]
    },
    {
     "cell_type": "heading",
     "level": 3,
     "metadata": {},
     "source": [
      "Querying the Operation Simulator's (OpSim) SQL Database"
     ]
    },
    {
     "cell_type": "markdown",
     "metadata": {},
     "source": [
      "First, let us define what physical parameters we want to include in our query:"
     ]
    },
    {
     "cell_type": "code",
     "collapsed": false,
     "input": [
      "AperatureType = 'circle'\n",
      "AperatureRadius = 0.5 #FoV in degrees\n",
      "#AperatureRadius = 1.75 #LSST's Actual FoV in degrees\n",
      "SearchRegionRA = (40.0,45.0)\n",
      "SearchRegionDec = (-45.0,-40.0)\n",
      "SearchAirmass = (1.0,1.5)\n",
      "DesiredFilter = None\n",
      "#DesiredFilter = 'g'"
     ],
     "language": "python",
     "metadata": {},
     "outputs": [],
     "prompt_number": 2
    },
    {
     "cell_type": "markdown",
     "metadata": {},
     "source": [
      "To query this database, we will need to utalize the _lsst_sims_, and _sims_catUtils_, _eups_ LSST Stack packages. Thus, import the following:"
     ]
    },
    {
     "cell_type": "code",
     "collapsed": false,
     "input": [
      "import eups\n",
      "import os\n",
      "from lsst.sims.catUtils.utils import ObservationMetaDataGenerator\n",
      "from lsst.sims.catalogs.generation.db import ObservationMetaData\n",
      "#help(ObservationMetaDataGenerator)"
     ],
     "language": "python",
     "metadata": {},
     "outputs": [],
     "prompt_number": 3
    },
    {
     "cell_type": "markdown",
     "metadata": {},
     "source": [
      "Now we will create the path to the Enigma 1189 SQLite database, which is easily found and downloaded on the LSST Sim's group's Confluence documentation. Then, we'll initialize the ObservationMetaDataGenerator to bridge python and the SQLite database. Finally, we will run the getObservationMetaData command on it given our physical parameters."
     ]
    },
    {
     "cell_type": "code",
     "collapsed": false,
     "input": [
      "opsimdb = os.path.join(eups.productDir('sims_data'),'OpSimData','enigma_1189_sqlite.db')\n",
      "gen = ObservationMetaDataGenerator(driver='sqlite', database=opsimdb)\n",
      "SimObData = gen.getObservationMetaData(boundType=AperatureType, boundLength=AperatureRadius, \n",
      "                                       fieldRA=SearchRegionRA, fieldDec=SearchRegionDec,\n",
      "                                       airmass=SearchAirmass, telescopeFilter=DesiredFilter)\n",
      "NumOfObservations = len(SimObData)\n",
      "#print SimsObData[0].__dict__"
     ],
     "language": "python",
     "metadata": {},
     "outputs": [],
     "prompt_number": 4
    },
    {
     "cell_type": "heading",
     "level": 3,
     "metadata": {},
     "source": [
      "Viewing a Sample of the Returned Meta-Data"
     ]
    },
    {
     "cell_type": "markdown",
     "metadata": {},
     "source": [
      "Let us go ahead view a sample of our observation metadata. To do so in an easy way, we'll use the PrettyTable python package."
     ]
    },
    {
     "cell_type": "code",
     "collapsed": false,
     "input": [
      "from prettytable import PrettyTable\n",
      "\n",
      "print 'Number of Matched Observations:', NumOfObservations,'\\n'\n",
      "\n",
      "table1 = PrettyTable([\"Pointing RA\",\"Pointing Dec\",\"Obs. MJD\",\"Obs. Airmass\", \"Filter\"])\n",
      "for o in SimObData[0:10]:\n",
      "    table1.add_row([o.unrefractedRA, o.unrefractedDec, o.mjd, o.phoSimMetaData['airmass'][0], o.bandpass])\n",
      "print table1"
     ],
     "language": "python",
     "metadata": {},
     "outputs": [
      {
       "output_type": "stream",
       "stream": "stdout",
       "text": [
        "Number of Matched Observations: 927 \n",
        "\n",
        "+---------------+----------------+--------------+--------------+--------+\n",
        "|  Pointing RA  |  Pointing Dec  |   Obs. MJD   | Obs. Airmass | Filter |\n",
        "+---------------+----------------+--------------+--------------+--------+\n",
        "| 43.6247773381 | -42.4928419181 | 49583.279867 |   1.284256   |   y    |\n",
        "| 43.6247773381 | -42.4928419181 | 49583.394049 |   1.028035   |   y    |\n",
        "| 43.6247773381 | -42.4928419181 | 49584.276571 |   1.28698    |   y    |\n",
        "| 43.6247773381 | -42.4928419181 | 49584.286926 |   1.240279   |   y    |\n",
        "| 43.6247773381 | -42.4928419181 | 49584.290077 |   1.227326   |   y    |\n",
        "| 43.6247773381 | -42.4928419181 | 49584.295033 |   1.208072   |   y    |\n",
        "| 43.6247773381 | -42.4928419181 | 49585.291573 |   1.210831   |   y    |\n",
        "| 43.6247773381 | -42.4928419181 | 49585.346073 |   1.06891    |   y    |\n",
        "| 43.6247773381 | -42.4928419181 | 49585.349248 |   1.06402    |   y    |\n",
        "| 43.6247773381 | -42.4928419181 | 49586.425953 |   1.035108   |   z    |\n",
        "+---------------+----------------+--------------+--------------+--------+\n"
       ]
      }
     ],
     "prompt_number": 5
    },
    {
     "cell_type": "heading",
     "level": 3,
     "metadata": {},
     "source": [
      "Seperating Pointings to Ease Object Searching"
     ]
    },
    {
     "cell_type": "markdown",
     "metadata": {},
     "source": [
      "As we can see, our the resulting list of OpSim objects from our query is not as neatly organized as it could be for use later down the line. It is useful to add a secondary layer of structure onto the list by sorting all OpSim objects with the same pointings into sublists of a master list. First, let us look at exactly how many unique points our query has generated for us:"
     ]
    },
    {
     "cell_type": "code",
     "collapsed": false,
     "input": [
      "UniquePointings = list({(o.unrefractedRA,o.unrefractedDec) for o in SimObData})\n",
      "NumOfPointings = len(UniquePointings)\n",
      "print 'Number of Unique Pointings:', NumOfPointings,'\\n'\n",
      "\n",
      "table2 = PrettyTable([\"Pointing RA\",\"Pointing Dec\"])\n",
      "for x in UniquePointings:\n",
      "    table2.add_row([x[0], x[1]])\n",
      "print table2"
     ],
     "language": "python",
     "metadata": {},
     "outputs": [
      {
       "output_type": "stream",
       "stream": "stdout",
       "text": [
        "Number of Unique Pointings: 1 \n",
        "\n",
        "+---------------+----------------+\n",
        "|  Pointing RA  |  Pointing Dec  |\n",
        "+---------------+----------------+\n",
        "| 43.6247773381 | -42.4928419181 |\n",
        "+---------------+----------------+\n"
       ]
      }
     ],
     "prompt_number": 6
    },
    {
     "cell_type": "markdown",
     "metadata": {},
     "source": [
      "Now, lets add the previously mentioned structure to the master list, ObMetaData. Thus whenever we want to get an observation that was taken at the pointing (48.13, -46.17), we just ask for ObMetatData[0][_Numbered Index_].[_OpSim Object Attribute_] ."
     ]
    },
    {
     "cell_type": "code",
     "collapsed": false,
     "input": [
      "ObMetaData = [[] for _ in xrange(NumOfPointings)]\n",
      "for i in xrange(NumOfPointings):\n",
      "    for o in SimObData:\n",
      "        if UniquePointings[i][0] == o.unrefractedRA and UniquePointings[i][1] == o.unrefractedDec:\n",
      "            ObMetaData[i].append(o)"
     ],
     "language": "python",
     "metadata": {},
     "outputs": [],
     "prompt_number": 7
    },
    {
     "cell_type": "heading",
     "level": 3,
     "metadata": {},
     "source": [
      "Useful Metrics for the Queired Pointings"
     ]
    },
    {
     "cell_type": "markdown",
     "metadata": {},
     "source": [
      "Now that we have our observations broken up into sets of unique points, its a good idea to get a feel for what kind of observation meta-data we can expect from the results. For example, a common question to ask would be \"For a given unique pointing, how many visits are there with a specific bandpass filter?\" We can create a quick little script to search through our master ObMetaData to find out the answer in a very simplistic way."
     ]
    },
    {
     "cell_type": "code",
     "collapsed": false,
     "input": [
      "VisitBandHist = []\n",
      "for i in xrange(NumOfPointings):\n",
      "    uCount, gCount, rCount, iCount, zCount, yCount = 0,0,0,0,0,0\n",
      "    for o in ObMetaData[i]:\n",
      "        if o.bandpass=='u':\n",
      "            uCount += 1\n",
      "        if o.bandpass=='g':\n",
      "            gCount += 1\n",
      "        if o.bandpass=='r':\n",
      "            rCount += 1\n",
      "        if o.bandpass=='i':\n",
      "            iCount += 1\n",
      "        if o.bandpass=='z':\n",
      "            zCount += 1\n",
      "        if o.bandpass=='y':\n",
      "            yCount += 1\n",
      "    VisitBandHist.append([uCount, gCount, rCount, iCount, zCount, yCount]) "
     ],
     "language": "python",
     "metadata": {},
     "outputs": [],
     "prompt_number": 8
    },
    {
     "cell_type": "markdown",
     "metadata": {},
     "source": [
      "Now, let's print out these results and others into a table for easy viewing:"
     ]
    },
    {
     "cell_type": "code",
     "collapsed": false,
     "input": [
      "table3 = PrettyTable([\"Pointing RA\",\"Pointing Dec\", \"Number of Visits\", \n",
      "                      \"U-Band\", \"G-Band\", \"R-Band\", \n",
      "                      \"I-Band\", \"Z-Band\", \"Y-Band\"])\n",
      "i = 0\n",
      "for x in UniquePointings:\n",
      "    table3.add_row([x[0], x[1], len(ObMetaData[i]),\n",
      "                    VisitBandHist[i][0], VisitBandHist[i][1], VisitBandHist[i][2],\n",
      "                    VisitBandHist[i][3], VisitBandHist[i][4], VisitBandHist[i][5]])\n",
      "    i += 1\n",
      "print table3"
     ],
     "language": "python",
     "metadata": {},
     "outputs": [
      {
       "output_type": "stream",
       "stream": "stdout",
       "text": [
        "+---------------+----------------+------------------+--------+--------+--------+--------+--------+--------+\n",
        "|  Pointing RA  |  Pointing Dec  | Number of Visits | U-Band | G-Band | R-Band | I-Band | Z-Band | Y-Band |\n",
        "+---------------+----------------+------------------+--------+--------+--------+--------+--------+--------+\n",
        "| 43.6247773381 | -42.4928419181 |       927        |   64   |   91   |  203   |  203   |  183   |  183   |\n",
        "+---------------+----------------+------------------+--------+--------+--------+--------+--------+--------+\n"
       ]
      }
     ],
     "prompt_number": 9
    },
    {
     "cell_type": "markdown",
     "metadata": {},
     "source": [
      "If we want a visual way to see what amount of the sky we are observing with our quiry's results, we can do so by producing a simple python plot. This shows the search bounds with the FoV circles of each unique pointing (represented as a point). "
     ]
    },
    {
     "cell_type": "code",
     "collapsed": false,
     "input": [
      "fig = plt.figure(figsize=(5,5))\n",
      "ax = fig.add_axes([0.1, 0.1, 0.8, 0.8])\n",
      "ax.set_xlabel('RA (Degrees)')\n",
      "ax.set_ylabel('Dec (Degrees)')\n",
      "ax.set_title('Observation Querry Results for Unique Pointings')\n",
      "ax.axis([SearchRegionRA[0], SearchRegionRA[1], SearchRegionDec[0], SearchRegionDec[1]])\n",
      "for o in UniquePointings:\n",
      "    ax.scatter(o[0], o[1])\n",
      "    viewingCircle = plt.Circle((o[0],o[1]), AperatureRadius, color='r', fill=False)\n",
      "    fig.gca().add_artist(viewingCircle)\n",
      "plt.show()"
     ],
     "language": "python",
     "metadata": {},
     "outputs": [
      {
       "metadata": {},
       "output_type": "display_data",
       "png": "[encoded data removed]",
       "text": [
        "<matplotlib.figure.Figure at 0x10dabfad0>"
       ]
      }
     ],
     "prompt_number": 10
    },
    {
     "cell_type": "heading",
     "level": 2,
     "metadata": {},
     "source": [
      "Creating the Set of Instance Catalogs"
     ]
    },
    {
     "cell_type": "heading",
     "level": 3,
     "metadata": {},
     "source": [
      "Importing the Source Databases"
     ]
    },
    {
     "cell_type": "markdown",
     "metadata": {},
     "source": [
      "To generated catalogs, we first need to define the database we wish to pull from. To do this, we connect to the Fatboy server located at Washington University. For information on how to connect to the database, see the documentation located here: https://confluence.lsstcorp.org/display/SIM/Accessing+the+UW+CATSIM+Database\n",
      "\n",
      "We are most interested in AGNs, so we define our source database to be that of GalaxyTileObj, which is handled by the baseCatalogModels package in catUtils."
     ]
    },
    {
     "cell_type": "code",
     "collapsed": false,
     "input": [
      "from lsst.sims.catUtils.baseCatalogModels import GalaxyTileObj\n",
      "galaxyDB = GalaxyTileObj()\n",
      "#galaxyDB.show_mapped_columns()"
     ],
     "language": "python",
     "metadata": {},
     "outputs": [
      {
       "output_type": "stream",
       "stream": "stderr",
       "text": [
        "/Users/jglaser/lsst/DarwinX86/anaconda/master-g68783b1848/lib/python2.7/site-packages/sqlalchemy/dialects/mssql/base.py:1294: SAWarning: Did not recognize type 'geography' of column 'geopoint'\n",
        "  return fn(*arg, **kw)\n"
       ]
      }
     ],
     "prompt_number": 12
    },
    {
     "cell_type": "heading",
     "level": 3,
     "metadata": {},
     "source": [
      "Creating the Instance Catalog's Format via the Catalog Simulator (CatSim)"
     ]
    },
    {
     "cell_type": "markdown",
     "metadata": {},
     "source": [
      "Now, we create a daughter of the Instance Catalog class which will pull visible sources from the database and store the information requested by column_outputs variable in RAM. We utilize a small cheat to quicken the catalog generation time by letting the catalog class think that the galaxies don't have disks or bulges (as they are not needed in our catalog) so it doesn't unload the AGN SED with each new object (this SED is the same for all AGN in GalaxyTileObj)."
     ]
    },
    {
     "cell_type": "code",
     "collapsed": false,
     "input": [
      "from lsst.sims.catalogs.measures.instance import InstanceCatalog, compound\n",
      "from lsst.sims.photUtils import PhotometryGalaxies, VariabilityGalaxies\n",
      "\n",
      "class FastVarAgnCat(InstanceCatalog, PhotometryGalaxies, VariabilityGalaxies):\n",
      "    \n",
      "    cannot_be_null = ['uAgn'] #Locating only the AGNs in the FoV.\n",
      "    \n",
      "    column_outputs = ['AGNID', 'redshift', 'raJ2000', 'decJ2000', 'ObsAgn', 'sigma_ObsAgn']\n",
      "    \n",
      "    transformations = {'raJ2000':numpy.degrees, 'decJ2000':numpy.degrees}\n",
      "    \n",
      "    #Only Append the Column of AGN Magnitudes in the Observed Bandpass\n",
      "    @compound('ObsAgn', 'sigma_ObsAgn')\n",
      "    def get_PhotometryCols(self):\n",
      "        mag = None\n",
      "        sigma = None\n",
      "        if self.obs_metadata.bandpass is not None:\n",
      "            if not hasattr(self.obs_metadata.bandpass, '__iter__'):\n",
      "                Filter = self.obs_metadata.bandpass\n",
      "                mag = self.column_by_name(Filter+'Agn')\n",
      "                sigma = self.column_by_name('sigma_'+Filter+'Agn')\n",
      "        return np.array([mag, sigma])\n",
      "    \n",
      "    @compound('sedFilenameBulge', 'sedFilenameDisk')\n",
      "    def get_QuickSED(self):\n",
      "        ra = self.column_by_name('raJ2000') #Finding how many objects are in the column.\n",
      "        names = []\n",
      "        for r in ra:\n",
      "            names.append('None') #Tricking the catalog into thinking these galaxies don't have bulges or disks.\n",
      "        return np.array([names, names])"
     ],
     "language": "python",
     "metadata": {},
     "outputs": [],
     "prompt_number": 13
    },
    {
     "cell_type": "markdown",
     "metadata": {},
     "source": [
      "To make our catalogs a bit more useful, we will want to include an additional header to each generated Instance Catalog which outputs relevant OpSim observation meta-data. The following function does just that in a simplistic fashion:"
     ]
    },
    {
     "cell_type": "code",
     "collapsed": false,
     "input": [
      "def ObsHeader(IC, file_handle):\n",
      "    ObsHeaderTransformations = {'Unrefracted_RA':numpy.degrees, 'Unrefracted_Dec':numpy.degrees,\n",
      "                               'Opsim_moonra':numpy.degrees, 'Opsim_moondec':numpy.degrees,\n",
      "                               'Opsim_rotskypos':numpy.degrees, 'Opsim_rottelpos':numpy.degrees,\n",
      "                               'Opsim_sunalt':numpy.degrees, 'Opsim_moonalt':numpy.degrees,\n",
      "                               'Opsim_dist2moon':numpy.degrees, 'Opsim_altitude':numpy.degrees,\n",
      "                               'Opsim_azimuth':numpy.degrees\n",
      "                               }\n",
      "    md = IC.obs_metadata.phoSimMetaData\n",
      "    for k in md:\n",
      "        if k in ObsHeaderTransformations.keys():\n",
      "            file_handle.write(str(k)+\" \"+str(ObsHeaderTransformations[k](md[k][0]))+\"\\n\")\n",
      "        else:\n",
      "            file_handle.write(str(k)+\" \"+str(md[k][0])+\"\\n\")"
     ],
     "language": "python",
     "metadata": {},
     "outputs": [],
     "prompt_number": 14
    },
    {
     "cell_type": "heading",
     "level": 3,
     "metadata": {},
     "source": [
      "Running CatSim & Writing the Instance Catalogs"
     ]
    },
    {
     "cell_type": "markdown",
     "metadata": {},
     "source": [
      "With our daughter of the InstanceCatalog class created and a header function created, we can now run CatSim for the various observations queried earlier. Each time the catalog is generated, we write it out to a text file so it can be read back in at a later time."
     ]
    },
    {
     "cell_type": "code",
     "collapsed": false,
     "input": [
      "import time\n",
      "PrimaryDir = 'TestCats/QuickSurvey_R%.2f' %(AperatureRadius)\n",
      "CatDir = 'Catalogs'\n",
      "if not os.path.exists(PrimaryDir+'/'+CatDir):\n",
      "        os.makedirs(PrimaryDir+'/'+CatDir)\n",
      "startT = time.clock()\n",
      "for Pointing in ObMetaData:\n",
      "    PointingDir = 'RA[%.2f]_DEC[%.2f]' %(Pointing[0].unrefractedRA, Pointing[0].unrefractedDec)\n",
      "    WorkingDir = PrimaryDir+'/'+CatDir+'/'+PointingDir\n",
      "    if not os.path.exists(WorkingDir):\n",
      "        os.makedirs(WorkingDir)\n",
      "    for Observation in Pointing:\n",
      "        start = time.clock()\n",
      "        CatFileName = 'LSSTAGN_%.5f.txt' %(Observation.mjd)\n",
      "        if os.path.isfile(WorkingDir+'/'+CatFileName) == False:\n",
      "            SQLRules = '(sedname_agn IS NOT NULL) AND (magnorm_agn < 24.0)'\n",
      "            variableAgn = FastVarAgnCat(galaxyDB, obs_metadata=Observation, constraint=SQLRules)\n",
      "            # Writing the Observational Meta-Data Header\n",
      "            with open(WorkingDir+'/'+CatFileName, \"w\") as fh:\n",
      "                ObsHeader(variableAgn, fh)\n",
      "                fh.write(\"\\n\")\n",
      "                fh.close()\n",
      "            variableAgn.write_catalog(WorkingDir+'/'+CatFileName, write_mode='a')\n",
      "        end = time.clock()\n",
      "        print end - start\n",
      "endT = time.clock()\n",
      "print endT - startT"
     ],
     "language": "python",
     "metadata": {},
     "outputs": [
      {
       "output_type": "stream",
       "stream": "stdout",
       "text": [
        "2.712593\n",
        "2.726623"
       ]
      },
      {
       "output_type": "stream",
       "stream": "stdout",
       "text": [
        "\n",
        "2.743856"
       ]
      },
      {
       "output_type": "stream",
       "stream": "stdout",
       "text": [
        "\n",
        "2.694585"
       ]
      },
      {
       "output_type": "stream",
       "stream": "stdout",
       "text": [
        "\n",
        "2.711467"
       ]
      },
      {
       "output_type": "stream",
       "stream": "stdout",
       "text": [
        "\n",
        "2.722951"
       ]
      },
      {
       "output_type": "stream",
       "stream": "stdout",
       "text": [
        "\n",
        "2.73669"
       ]
      },
      {
       "output_type": "stream",
       "stream": "stdout",
       "text": [
        "\n",
        "2.720906"
       ]
      },
      {
       "output_type": "stream",
       "stream": "stdout",
       "text": [
        "\n",
        "2.72167"
       ]
      },
      {
       "output_type": "stream",
       "stream": "stdout",
       "text": [
        "\n",
        "2.71564"
       ]
      },
      {
       "output_type": "stream",
       "stream": "stdout",
       "text": [
        "\n",
        "2.755897"
       ]
      },
      {
       "output_type": "stream",
       "stream": "stdout",
       "text": [
        "\n",
        "2.749437"
       ]
      },
      {
       "output_type": "stream",
       "stream": "stdout",
       "text": [
        "\n",
        "2.759852"
       ]
      },
      {
       "output_type": "stream",
       "stream": "stdout",
       "text": [
        "\n",
        "2.742455"
       ]
      },
      {
       "output_type": "stream",
       "stream": "stdout",
       "text": [
        "\n",
        "2.767018"
       ]
      },
      {
       "output_type": "stream",
       "stream": "stdout",
       "text": [
        "\n",
        "2.746112"
       ]
      },
      {
       "output_type": "stream",
       "stream": "stdout",
       "text": [
        "\n",
        "2.756255"
       ]
      },
      {
       "output_type": "stream",
       "stream": "stdout",
       "text": [
        "\n",
        "2.750131"
       ]
      },
      {
       "output_type": "stream",
       "stream": "stdout",
       "text": [
        "\n",
        "2.765364"
       ]
      },
      {
       "output_type": "stream",
       "stream": "stdout",
       "text": [
        "\n",
        "2.738918"
       ]
      },
      {
       "output_type": "stream",
       "stream": "stdout",
       "text": [
        "\n",
        "2.748591"
       ]
      },
      {
       "output_type": "stream",
       "stream": "stdout",
       "text": [
        "\n",
        "2.766554"
       ]
      },
      {
       "output_type": "stream",
       "stream": "stdout",
       "text": [
        "\n",
        "2.796783"
       ]
      },
      {
       "output_type": "stream",
       "stream": "stdout",
       "text": [
        "\n",
        "2.825568"
       ]
      },
      {
       "output_type": "stream",
       "stream": "stdout",
       "text": [
        "\n",
        "2.784586"
       ]
      },
      {
       "output_type": "stream",
       "stream": "stdout",
       "text": [
        "\n",
        "2.772639"
       ]
      },
      {
       "output_type": "stream",
       "stream": "stdout",
       "text": [
        "\n",
        "2.798382"
       ]
      },
      {
       "output_type": "stream",
       "stream": "stdout",
       "text": [
        "\n",
        "2.781776"
       ]
      },
      {
       "output_type": "stream",
       "stream": "stdout",
       "text": [
        "\n",
        "2.784811"
       ]
      },
      {
       "output_type": "stream",
       "stream": "stdout",
       "text": [
        "\n",
        "2.770732"
       ]
      },
      {
       "output_type": "stream",
       "stream": "stdout",
       "text": [
        "\n",
        "2.792239"
       ]
      },
      {
       "output_type": "stream",
       "stream": "stdout",
       "text": [
        "\n",
        "2.789503"
       ]
      },
      {
       "output_type": "stream",
       "stream": "stdout",
       "text": [
        "\n",
        "2.784098"
       ]
      },
      {
       "output_type": "stream",
       "stream": "stdout",
       "text": [
        "\n",
        "2.816471"
       ]
      },
      {
       "output_type": "stream",
       "stream": "stdout",
       "text": [
        "\n",
        "2.790546"
       ]
      },
      {
       "output_type": "stream",
       "stream": "stdout",
       "text": [
        "\n",
        "2.789599"
       ]
      },
      {
       "output_type": "stream",
       "stream": "stdout",
       "text": [
        "\n",
        "2.778576"
       ]
      },
      {
       "output_type": "stream",
       "stream": "stdout",
       "text": [
        "\n",
        "2.810054"
       ]
      },
      {
       "output_type": "stream",
       "stream": "stdout",
       "text": [
        "\n",
        "2.794775"
       ]
      },
      {
       "output_type": "stream",
       "stream": "stdout",
       "text": [
        "\n",
        "2.822271"
       ]
      },
      {
       "output_type": "stream",
       "stream": "stdout",
       "text": [
        "\n",
        "2.814984"
       ]
      },
      {
       "output_type": "stream",
       "stream": "stdout",
       "text": [
        "\n",
        "2.83381"
       ]
      },
      {
       "output_type": "stream",
       "stream": "stdout",
       "text": [
        "\n",
        "2.842027"
       ]
      },
      {
       "output_type": "stream",
       "stream": "stdout",
       "text": [
        "\n",
        "2.826423"
       ]
      },
      {
       "output_type": "stream",
       "stream": "stdout",
       "text": [
        "\n",
        "2.85635"
       ]
      },
      {
       "output_type": "stream",
       "stream": "stdout",
       "text": [
        "\n",
        "2.866245"
       ]
      },
      {
       "output_type": "stream",
       "stream": "stdout",
       "text": [
        "\n",
        "2.859043"
       ]
      },
      {
       "output_type": "stream",
       "stream": "stdout",
       "text": [
        "\n",
        "2.831461"
       ]
      },
      {
       "output_type": "stream",
       "stream": "stdout",
       "text": [
        "\n",
        "2.870524"
       ]
      },
      {
       "output_type": "stream",
       "stream": "stdout",
       "text": [
        "\n",
        "2.858231"
       ]
      },
      {
       "output_type": "stream",
       "stream": "stdout",
       "text": [
        "\n",
        "2.872936"
       ]
      },
      {
       "output_type": "stream",
       "stream": "stdout",
       "text": [
        "\n",
        "2.881592"
       ]
      },
      {
       "output_type": "stream",
       "stream": "stdout",
       "text": [
        "\n",
        "2.881438"
       ]
      },
      {
       "output_type": "stream",
       "stream": "stdout",
       "text": [
        "\n",
        "2.902576"
       ]
      },
      {
       "output_type": "stream",
       "stream": "stdout",
       "text": [
        "\n",
        "2.861314"
       ]
      },
      {
       "output_type": "stream",
       "stream": "stdout",
       "text": [
        "\n",
        "2.973714"
       ]
      },
      {
       "output_type": "stream",
       "stream": "stdout",
       "text": [
        "\n",
        "2.878053"
       ]
      },
      {
       "output_type": "stream",
       "stream": "stdout",
       "text": [
        "\n",
        "2.923933"
       ]
      },
      {
       "output_type": "stream",
       "stream": "stdout",
       "text": [
        "\n",
        "2.917236"
       ]
      },
      {
       "output_type": "stream",
       "stream": "stdout",
       "text": [
        "\n",
        "2.900564"
       ]
      },
      {
       "output_type": "stream",
       "stream": "stdout",
       "text": [
        "\n",
        "2.895526"
       ]
      },
      {
       "output_type": "stream",
       "stream": "stdout",
       "text": [
        "\n",
        "2.906344"
       ]
      },
      {
       "output_type": "stream",
       "stream": "stdout",
       "text": [
        "\n",
        "2.915772"
       ]
      },
      {
       "output_type": "stream",
       "stream": "stdout",
       "text": [
        "\n",
        "2.918067"
       ]
      },
      {
       "output_type": "stream",
       "stream": "stdout",
       "text": [
        "\n",
        "2.943294"
       ]
      },
      {
       "output_type": "stream",
       "stream": "stdout",
       "text": [
        "\n",
        "2.915684"
       ]
      },
      {
       "output_type": "stream",
       "stream": "stdout",
       "text": [
        "\n",
        "2.898902"
       ]
      },
      {
       "output_type": "stream",
       "stream": "stdout",
       "text": [
        "\n",
        "2.906556"
       ]
      },
      {
       "output_type": "stream",
       "stream": "stdout",
       "text": [
        "\n",
        "2.967473"
       ]
      },
      {
       "output_type": "stream",
       "stream": "stdout",
       "text": [
        "\n",
        "2.970242"
       ]
      },
      {
       "output_type": "stream",
       "stream": "stdout",
       "text": [
        "\n",
        "3.009465"
       ]
      },
      {
       "output_type": "stream",
       "stream": "stdout",
       "text": [
        "\n",
        "3.002627"
       ]
      },
      {
       "output_type": "stream",
       "stream": "stdout",
       "text": [
        "\n",
        "3.00709"
       ]
      },
      {
       "output_type": "stream",
       "stream": "stdout",
       "text": [
        "\n",
        "2.981832"
       ]
      },
      {
       "output_type": "stream",
       "stream": "stdout",
       "text": [
        "\n",
        "3.002224"
       ]
      },
      {
       "output_type": "stream",
       "stream": "stdout",
       "text": [
        "\n",
        "2.998585"
       ]
      },
      {
       "output_type": "stream",
       "stream": "stdout",
       "text": [
        "\n",
        "3.031211"
       ]
      },
      {
       "output_type": "stream",
       "stream": "stdout",
       "text": [
        "\n",
        "3.083549"
       ]
      },
      {
       "output_type": "stream",
       "stream": "stdout",
       "text": [
        "\n",
        "3.07509"
       ]
      },
      {
       "output_type": "stream",
       "stream": "stdout",
       "text": [
        "\n",
        "3.093674"
       ]
      },
      {
       "output_type": "stream",
       "stream": "stdout",
       "text": [
        "\n",
        "3.091874"
       ]
      },
      {
       "output_type": "stream",
       "stream": "stdout",
       "text": [
        "\n",
        "3.316267"
       ]
      },
      {
       "output_type": "stream",
       "stream": "stdout",
       "text": [
        "\n",
        "3.325894"
       ]
      },
      {
       "output_type": "stream",
       "stream": "stdout",
       "text": [
        "\n",
        "3.348124"
       ]
      },
      {
       "output_type": "stream",
       "stream": "stdout",
       "text": [
        "\n",
        "3.387163"
       ]
      },
      {
       "output_type": "stream",
       "stream": "stdout",
       "text": [
        "\n",
        "3.361964"
       ]
      },
      {
       "output_type": "stream",
       "stream": "stdout",
       "text": [
        "\n",
        "3.426122"
       ]
      },
      {
       "output_type": "stream",
       "stream": "stdout",
       "text": [
        "\n",
        "3.337016"
       ]
      },
      {
       "output_type": "stream",
       "stream": "stdout",
       "text": [
        "\n",
        "3.340984"
       ]
      },
      {
       "output_type": "stream",
       "stream": "stdout",
       "text": [
        "\n",
        "3.35103"
       ]
      },
      {
       "output_type": "stream",
       "stream": "stdout",
       "text": [
        "\n",
        "3.346183"
       ]
      },
      {
       "output_type": "stream",
       "stream": "stdout",
       "text": [
        "\n",
        "3.384544"
       ]
      },
      {
       "output_type": "stream",
       "stream": "stdout",
       "text": [
        "\n",
        "3.377437"
       ]
      },
      {
       "output_type": "stream",
       "stream": "stdout",
       "text": [
        "\n",
        "3.382301"
       ]
      },
      {
       "output_type": "stream",
       "stream": "stdout",
       "text": [
        "\n",
        "3.377867"
       ]
      },
      {
       "output_type": "stream",
       "stream": "stdout",
       "text": [
        "\n",
        "3.365688"
       ]
      },
      {
       "output_type": "stream",
       "stream": "stdout",
       "text": [
        "\n",
        "3.426546"
       ]
      },
      {
       "output_type": "stream",
       "stream": "stdout",
       "text": [
        "\n",
        "3.399388"
       ]
      },
      {
       "output_type": "stream",
       "stream": "stdout",
       "text": [
        "\n",
        "3.383071"
       ]
      },
      {
       "output_type": "stream",
       "stream": "stdout",
       "text": [
        "\n",
        "3.407911"
       ]
      },
      {
       "output_type": "stream",
       "stream": "stdout",
       "text": [
        "\n",
        "3.39512"
       ]
      },
      {
       "output_type": "stream",
       "stream": "stdout",
       "text": [
        "\n",
        "3.401749"
       ]
      },
      {
       "output_type": "stream",
       "stream": "stdout",
       "text": [
        "\n",
        "3.401971"
       ]
      },
      {
       "output_type": "stream",
       "stream": "stdout",
       "text": [
        "\n",
        "3.416048"
       ]
      },
      {
       "output_type": "stream",
       "stream": "stdout",
       "text": [
        "\n",
        "3.404736"
       ]
      },
      {
       "output_type": "stream",
       "stream": "stdout",
       "text": [
        "\n",
        "3.392869"
       ]
      },
      {
       "output_type": "stream",
       "stream": "stdout",
       "text": [
        "\n",
        "3.434842"
       ]
      },
      {
       "output_type": "stream",
       "stream": "stdout",
       "text": [
        "\n",
        "3.438287"
       ]
      },
      {
       "output_type": "stream",
       "stream": "stdout",
       "text": [
        "\n",
        "3.430119"
       ]
      },
      {
       "output_type": "stream",
       "stream": "stdout",
       "text": [
        "\n",
        "3.449884"
       ]
      },
      {
       "output_type": "stream",
       "stream": "stdout",
       "text": [
        "\n",
        "3.441151"
       ]
      },
      {
       "output_type": "stream",
       "stream": "stdout",
       "text": [
        "\n",
        "3.423998"
       ]
      },
      {
       "output_type": "stream",
       "stream": "stdout",
       "text": [
        "\n",
        "3.434891"
       ]
      },
      {
       "output_type": "stream",
       "stream": "stdout",
       "text": [
        "\n",
        "3.442134"
       ]
      },
      {
       "output_type": "stream",
       "stream": "stdout",
       "text": [
        "\n",
        "3.434352"
       ]
      },
      {
       "output_type": "stream",
       "stream": "stdout",
       "text": [
        "\n",
        "3.426666"
       ]
      },
      {
       "output_type": "stream",
       "stream": "stdout",
       "text": [
        "\n",
        "3.458014"
       ]
      },
      {
       "output_type": "stream",
       "stream": "stdout",
       "text": [
        "\n",
        "3.440431"
       ]
      },
      {
       "output_type": "stream",
       "stream": "stdout",
       "text": [
        "\n",
        "3.453513"
       ]
      },
      {
       "output_type": "stream",
       "stream": "stdout",
       "text": [
        "\n",
        "3.468826"
       ]
      },
      {
       "output_type": "stream",
       "stream": "stdout",
       "text": [
        "\n",
        "3.458747"
       ]
      },
      {
       "output_type": "stream",
       "stream": "stdout",
       "text": [
        "\n",
        "3.454308"
       ]
      },
      {
       "output_type": "stream",
       "stream": "stdout",
       "text": [
        "\n",
        "3.460301"
       ]
      },
      {
       "output_type": "stream",
       "stream": "stdout",
       "text": [
        "\n",
        "3.469668"
       ]
      },
      {
       "output_type": "stream",
       "stream": "stdout",
       "text": [
        "\n",
        "3.464376"
       ]
      },
      {
       "output_type": "stream",
       "stream": "stdout",
       "text": [
        "\n",
        "3.487151"
       ]
      },
      {
       "output_type": "stream",
       "stream": "stdout",
       "text": [
        "\n",
        "3.489675"
       ]
      },
      {
       "output_type": "stream",
       "stream": "stdout",
       "text": [
        "\n",
        "3.500591"
       ]
      },
      {
       "output_type": "stream",
       "stream": "stdout",
       "text": [
        "\n",
        "3.514368"
       ]
      },
      {
       "output_type": "stream",
       "stream": "stdout",
       "text": [
        "\n",
        "3.501663"
       ]
      },
      {
       "output_type": "stream",
       "stream": "stdout",
       "text": [
        "\n",
        "3.527543"
       ]
      },
      {
       "output_type": "stream",
       "stream": "stdout",
       "text": [
        "\n",
        "3.532922"
       ]
      },
      {
       "output_type": "stream",
       "stream": "stdout",
       "text": [
        "\n",
        "3.534284"
       ]
      },
      {
       "output_type": "stream",
       "stream": "stdout",
       "text": [
        "\n",
        "3.530339"
       ]
      },
      {
       "output_type": "stream",
       "stream": "stdout",
       "text": [
        "\n",
        "3.581819"
       ]
      },
      {
       "output_type": "stream",
       "stream": "stdout",
       "text": [
        "\n",
        "3.561957"
       ]
      },
      {
       "output_type": "stream",
       "stream": "stdout",
       "text": [
        "\n",
        "3.596653"
       ]
      },
      {
       "output_type": "stream",
       "stream": "stdout",
       "text": [
        "\n",
        "3.595055"
       ]
      },
      {
       "output_type": "stream",
       "stream": "stdout",
       "text": [
        "\n",
        "3.586877"
       ]
      },
      {
       "output_type": "stream",
       "stream": "stdout",
       "text": [
        "\n",
        "3.623652"
       ]
      },
      {
       "output_type": "stream",
       "stream": "stdout",
       "text": [
        "\n",
        "3.595618"
       ]
      },
      {
       "output_type": "stream",
       "stream": "stdout",
       "text": [
        "\n",
        "3.6444"
       ]
      },
      {
       "output_type": "stream",
       "stream": "stdout",
       "text": [
        "\n",
        "3.710565"
       ]
      },
      {
       "output_type": "stream",
       "stream": "stdout",
       "text": [
        "\n",
        "3.732649"
       ]
      },
      {
       "output_type": "stream",
       "stream": "stdout",
       "text": [
        "\n",
        "3.762612"
       ]
      },
      {
       "output_type": "stream",
       "stream": "stdout",
       "text": [
        "\n",
        "3.98279"
       ]
      },
      {
       "output_type": "stream",
       "stream": "stdout",
       "text": [
        "\n",
        "3.98232"
       ]
      },
      {
       "output_type": "stream",
       "stream": "stdout",
       "text": [
        "\n",
        "3.995676"
       ]
      },
      {
       "output_type": "stream",
       "stream": "stdout",
       "text": [
        "\n",
        "3.976536"
       ]
      },
      {
       "output_type": "stream",
       "stream": "stdout",
       "text": [
        "\n",
        "3.980794"
       ]
      },
      {
       "output_type": "stream",
       "stream": "stdout",
       "text": [
        "\n",
        "3.985722"
       ]
      },
      {
       "output_type": "stream",
       "stream": "stdout",
       "text": [
        "\n",
        "3.989319"
       ]
      },
      {
       "output_type": "stream",
       "stream": "stdout",
       "text": [
        "\n",
        "4.017235"
       ]
      },
      {
       "output_type": "stream",
       "stream": "stdout",
       "text": [
        "\n",
        "4.006861"
       ]
      },
      {
       "output_type": "stream",
       "stream": "stdout",
       "text": [
        "\n",
        "4.013654"
       ]
      },
      {
       "output_type": "stream",
       "stream": "stdout",
       "text": [
        "\n",
        "4.001452"
       ]
      },
      {
       "output_type": "stream",
       "stream": "stdout",
       "text": [
        "\n",
        "4.03057"
       ]
      },
      {
       "output_type": "stream",
       "stream": "stdout",
       "text": [
        "\n",
        "4.060631"
       ]
      },
      {
       "output_type": "stream",
       "stream": "stdout",
       "text": [
        "\n",
        "4.046848"
       ]
      },
      {
       "output_type": "stream",
       "stream": "stdout",
       "text": [
        "\n",
        "4.055526"
       ]
      },
      {
       "output_type": "stream",
       "stream": "stdout",
       "text": [
        "\n",
        "4.053009"
       ]
      },
      {
       "output_type": "stream",
       "stream": "stdout",
       "text": [
        "\n",
        "4.052473"
       ]
      },
      {
       "output_type": "stream",
       "stream": "stdout",
       "text": [
        "\n",
        "4.04862"
       ]
      },
      {
       "output_type": "stream",
       "stream": "stdout",
       "text": [
        "\n",
        "4.045933"
       ]
      },
      {
       "output_type": "stream",
       "stream": "stdout",
       "text": [
        "\n",
        "4.061852"
       ]
      },
      {
       "output_type": "stream",
       "stream": "stdout",
       "text": [
        "\n",
        "4.082181"
       ]
      },
      {
       "output_type": "stream",
       "stream": "stdout",
       "text": [
        "\n",
        "4.055696"
       ]
      },
      {
       "output_type": "stream",
       "stream": "stdout",
       "text": [
        "\n",
        "4.058216"
       ]
      },
      {
       "output_type": "stream",
       "stream": "stdout",
       "text": [
        "\n",
        "4.065201"
       ]
      },
      {
       "output_type": "stream",
       "stream": "stdout",
       "text": [
        "\n",
        "4.060079"
       ]
      },
      {
       "output_type": "stream",
       "stream": "stdout",
       "text": [
        "\n",
        "4.05012"
       ]
      },
      {
       "output_type": "stream",
       "stream": "stdout",
       "text": [
        "\n",
        "4.061813"
       ]
      },
      {
       "output_type": "stream",
       "stream": "stdout",
       "text": [
        "\n",
        "4.056946"
       ]
      },
      {
       "output_type": "stream",
       "stream": "stdout",
       "text": [
        "\n",
        "4.051623"
       ]
      },
      {
       "output_type": "stream",
       "stream": "stdout",
       "text": [
        "\n",
        "4.05734"
       ]
      },
      {
       "output_type": "stream",
       "stream": "stdout",
       "text": [
        "\n",
        "4.054423"
       ]
      },
      {
       "output_type": "stream",
       "stream": "stdout",
       "text": [
        "\n",
        "4.061261"
       ]
      },
      {
       "output_type": "stream",
       "stream": "stdout",
       "text": [
        "\n",
        "4.089654"
       ]
      },
      {
       "output_type": "stream",
       "stream": "stdout",
       "text": [
        "\n",
        "4.073646"
       ]
      },
      {
       "output_type": "stream",
       "stream": "stdout",
       "text": [
        "\n",
        "4.076157"
       ]
      },
      {
       "output_type": "stream",
       "stream": "stdout",
       "text": [
        "\n",
        "4.079798"
       ]
      },
      {
       "output_type": "stream",
       "stream": "stdout",
       "text": [
        "\n",
        "4.073006"
       ]
      },
      {
       "output_type": "stream",
       "stream": "stdout",
       "text": [
        "\n",
        "4.097228"
       ]
      },
      {
       "output_type": "stream",
       "stream": "stdout",
       "text": [
        "\n",
        "4.070775"
       ]
      },
      {
       "output_type": "stream",
       "stream": "stdout",
       "text": [
        "\n",
        "4.060416"
       ]
      },
      {
       "output_type": "stream",
       "stream": "stdout",
       "text": [
        "\n",
        "4.107464"
       ]
      },
      {
       "output_type": "stream",
       "stream": "stdout",
       "text": [
        "\n",
        "4.104263"
       ]
      },
      {
       "output_type": "stream",
       "stream": "stdout",
       "text": [
        "\n",
        "4.250376"
       ]
      },
      {
       "output_type": "stream",
       "stream": "stdout",
       "text": [
        "\n",
        "4.164857"
       ]
      },
      {
       "output_type": "stream",
       "stream": "stdout",
       "text": [
        "\n",
        "4.158228"
       ]
      },
      {
       "output_type": "stream",
       "stream": "stdout",
       "text": [
        "\n",
        "4.166015"
       ]
      },
      {
       "output_type": "stream",
       "stream": "stdout",
       "text": [
        "\n",
        "4.178902"
       ]
      },
      {
       "output_type": "stream",
       "stream": "stdout",
       "text": [
        "\n",
        "4.162442"
       ]
      },
      {
       "output_type": "stream",
       "stream": "stdout",
       "text": [
        "\n",
        "4.143092"
       ]
      },
      {
       "output_type": "stream",
       "stream": "stdout",
       "text": [
        "\n",
        "4.164426"
       ]
      },
      {
       "output_type": "stream",
       "stream": "stdout",
       "text": [
        "\n",
        "4.169061"
       ]
      },
      {
       "output_type": "stream",
       "stream": "stdout",
       "text": [
        "\n",
        "4.169062"
       ]
      },
      {
       "output_type": "stream",
       "stream": "stdout",
       "text": [
        "\n",
        "4.194603"
       ]
      },
      {
       "output_type": "stream",
       "stream": "stdout",
       "text": [
        "\n",
        "4.216212"
       ]
      },
      {
       "output_type": "stream",
       "stream": "stdout",
       "text": [
        "\n",
        "4.220329"
       ]
      },
      {
       "output_type": "stream",
       "stream": "stdout",
       "text": [
        "\n",
        "4.212672"
       ]
      },
      {
       "output_type": "stream",
       "stream": "stdout",
       "text": [
        "\n",
        "4.223501"
       ]
      },
      {
       "output_type": "stream",
       "stream": "stdout",
       "text": [
        "\n",
        "4.218406"
       ]
      },
      {
       "output_type": "stream",
       "stream": "stdout",
       "text": [
        "\n",
        "4.241425"
       ]
      },
      {
       "output_type": "stream",
       "stream": "stdout",
       "text": [
        "\n",
        "4.219835"
       ]
      },
      {
       "output_type": "stream",
       "stream": "stdout",
       "text": [
        "\n",
        "4.243073"
       ]
      },
      {
       "output_type": "stream",
       "stream": "stdout",
       "text": [
        "\n",
        "4.252548"
       ]
      },
      {
       "output_type": "stream",
       "stream": "stdout",
       "text": [
        "\n",
        "4.234482"
       ]
      },
      {
       "output_type": "stream",
       "stream": "stdout",
       "text": [
        "\n",
        "4.260255"
       ]
      },
      {
       "output_type": "stream",
       "stream": "stdout",
       "text": [
        "\n",
        "4.267668"
       ]
      },
      {
       "output_type": "stream",
       "stream": "stdout",
       "text": [
        "\n",
        "4.267702"
       ]
      },
      {
       "output_type": "stream",
       "stream": "stdout",
       "text": [
        "\n",
        "4.26366"
       ]
      },
      {
       "output_type": "stream",
       "stream": "stdout",
       "text": [
        "\n",
        "4.274417"
       ]
      },
      {
       "output_type": "stream",
       "stream": "stdout",
       "text": [
        "\n",
        "4.310812"
       ]
      },
      {
       "output_type": "stream",
       "stream": "stdout",
       "text": [
        "\n",
        "4.328094"
       ]
      },
      {
       "output_type": "stream",
       "stream": "stdout",
       "text": [
        "\n",
        "4.275711"
       ]
      },
      {
       "output_type": "stream",
       "stream": "stdout",
       "text": [
        "\n",
        "4.309804"
       ]
      },
      {
       "output_type": "stream",
       "stream": "stdout",
       "text": [
        "\n",
        "4.296926"
       ]
      },
      {
       "output_type": "stream",
       "stream": "stdout",
       "text": [
        "\n",
        "4.306212"
       ]
      },
      {
       "output_type": "stream",
       "stream": "stdout",
       "text": [
        "\n",
        "4.311163"
       ]
      },
      {
       "output_type": "stream",
       "stream": "stdout",
       "text": [
        "\n",
        "4.296839"
       ]
      },
      {
       "output_type": "stream",
       "stream": "stdout",
       "text": [
        "\n",
        "4.364623"
       ]
      },
      {
       "output_type": "stream",
       "stream": "stdout",
       "text": [
        "\n",
        "4.358066"
       ]
      },
      {
       "output_type": "stream",
       "stream": "stdout",
       "text": [
        "\n",
        "4.348303"
       ]
      },
      {
       "output_type": "stream",
       "stream": "stdout",
       "text": [
        "\n",
        "4.345167"
       ]
      },
      {
       "output_type": "stream",
       "stream": "stdout",
       "text": [
        "\n",
        "4.395273"
       ]
      },
      {
       "output_type": "stream",
       "stream": "stdout",
       "text": [
        "\n",
        "4.416471"
       ]
      },
      {
       "output_type": "stream",
       "stream": "stdout",
       "text": [
        "\n",
        "4.38388"
       ]
      },
      {
       "output_type": "stream",
       "stream": "stdout",
       "text": [
        "\n",
        "4.424804"
       ]
      },
      {
       "output_type": "stream",
       "stream": "stdout",
       "text": [
        "\n",
        "4.415553"
       ]
      },
      {
       "output_type": "stream",
       "stream": "stdout",
       "text": [
        "\n",
        "4.456841"
       ]
      },
      {
       "output_type": "stream",
       "stream": "stdout",
       "text": [
        "\n",
        "4.468922"
       ]
      },
      {
       "output_type": "stream",
       "stream": "stdout",
       "text": [
        "\n",
        "4.450267"
       ]
      },
      {
       "output_type": "stream",
       "stream": "stdout",
       "text": [
        "\n",
        "4.472288"
       ]
      },
      {
       "output_type": "stream",
       "stream": "stdout",
       "text": [
        "\n",
        "4.469985"
       ]
      },
      {
       "output_type": "stream",
       "stream": "stdout",
       "text": [
        "\n",
        "4.704297"
       ]
      },
      {
       "output_type": "stream",
       "stream": "stdout",
       "text": [
        "\n",
        "4.729975"
       ]
      },
      {
       "output_type": "stream",
       "stream": "stdout",
       "text": [
        "\n",
        "4.70633"
       ]
      },
      {
       "output_type": "stream",
       "stream": "stdout",
       "text": [
        "\n",
        "4.738315"
       ]
      },
      {
       "output_type": "stream",
       "stream": "stdout",
       "text": [
        "\n",
        "4.719115"
       ]
      },
      {
       "output_type": "stream",
       "stream": "stdout",
       "text": [
        "\n",
        "4.762401"
       ]
      },
      {
       "output_type": "stream",
       "stream": "stdout",
       "text": [
        "\n",
        "4.744231"
       ]
      },
      {
       "output_type": "stream",
       "stream": "stdout",
       "text": [
        "\n",
        "4.77766"
       ]
      },
      {
       "output_type": "stream",
       "stream": "stdout",
       "text": [
        "\n",
        "4.771512"
       ]
      },
      {
       "output_type": "stream",
       "stream": "stdout",
       "text": [
        "\n",
        "4.78531"
       ]
      },
      {
       "output_type": "stream",
       "stream": "stdout",
       "text": [
        "\n",
        "4.754348"
       ]
      },
      {
       "output_type": "stream",
       "stream": "stdout",
       "text": [
        "\n",
        "4.764172"
       ]
      },
      {
       "output_type": "stream",
       "stream": "stdout",
       "text": [
        "\n",
        "4.814172"
       ]
      },
      {
       "output_type": "stream",
       "stream": "stdout",
       "text": [
        "\n",
        "4.792516"
       ]
      },
      {
       "output_type": "stream",
       "stream": "stdout",
       "text": [
        "\n",
        "4.761897"
       ]
      },
      {
       "output_type": "stream",
       "stream": "stdout",
       "text": [
        "\n",
        "4.792652"
       ]
      },
      {
       "output_type": "stream",
       "stream": "stdout",
       "text": [
        "\n",
        "4.782525"
       ]
      },
      {
       "output_type": "stream",
       "stream": "stdout",
       "text": [
        "\n",
        "4.834444"
       ]
      },
      {
       "output_type": "stream",
       "stream": "stdout",
       "text": [
        "\n",
        "4.796895"
       ]
      },
      {
       "output_type": "stream",
       "stream": "stdout",
       "text": [
        "\n",
        "4.714448"
       ]
      },
      {
       "output_type": "stream",
       "stream": "stdout",
       "text": [
        "\n",
        "4.818686"
       ]
      },
      {
       "output_type": "stream",
       "stream": "stdout",
       "text": [
        "\n",
        "4.796407"
       ]
      },
      {
       "output_type": "stream",
       "stream": "stdout",
       "text": [
        "\n",
        "4.816429"
       ]
      },
      {
       "output_type": "stream",
       "stream": "stdout",
       "text": [
        "\n",
        "4.839634"
       ]
      },
      {
       "output_type": "stream",
       "stream": "stdout",
       "text": [
        "\n",
        "4.79773"
       ]
      },
      {
       "output_type": "stream",
       "stream": "stdout",
       "text": [
        "\n",
        "4.811236"
       ]
      },
      {
       "output_type": "stream",
       "stream": "stdout",
       "text": [
        "\n",
        "4.81076"
       ]
      },
      {
       "output_type": "stream",
       "stream": "stdout",
       "text": [
        "\n",
        "4.821769"
       ]
      },
      {
       "output_type": "stream",
       "stream": "stdout",
       "text": [
        "\n",
        "4.843024"
       ]
      },
      {
       "output_type": "stream",
       "stream": "stdout",
       "text": [
        "\n",
        "4.855114"
       ]
      },
      {
       "output_type": "stream",
       "stream": "stdout",
       "text": [
        "\n",
        "4.84179"
       ]
      },
      {
       "output_type": "stream",
       "stream": "stdout",
       "text": [
        "\n",
        "4.868326"
       ]
      },
      {
       "output_type": "stream",
       "stream": "stdout",
       "text": [
        "\n",
        "4.864514"
       ]
      },
      {
       "output_type": "stream",
       "stream": "stdout",
       "text": [
        "\n",
        "4.868964"
       ]
      },
      {
       "output_type": "stream",
       "stream": "stdout",
       "text": [
        "\n",
        "4.868806"
       ]
      },
      {
       "output_type": "stream",
       "stream": "stdout",
       "text": [
        "\n",
        "4.890536"
       ]
      },
      {
       "output_type": "stream",
       "stream": "stdout",
       "text": [
        "\n",
        "4.922812"
       ]
      },
      {
       "output_type": "stream",
       "stream": "stdout",
       "text": [
        "\n",
        "4.890522"
       ]
      },
      {
       "output_type": "stream",
       "stream": "stdout",
       "text": [
        "\n",
        "4.908358"
       ]
      },
      {
       "output_type": "stream",
       "stream": "stdout",
       "text": [
        "\n",
        "4.902979"
       ]
      },
      {
       "output_type": "stream",
       "stream": "stdout",
       "text": [
        "\n",
        "4.901076"
       ]
      },
      {
       "output_type": "stream",
       "stream": "stdout",
       "text": [
        "\n",
        "4.909074"
       ]
      },
      {
       "output_type": "stream",
       "stream": "stdout",
       "text": [
        "\n",
        "4.916884"
       ]
      },
      {
       "output_type": "stream",
       "stream": "stdout",
       "text": [
        "\n",
        "4.907244"
       ]
      },
      {
       "output_type": "stream",
       "stream": "stdout",
       "text": [
        "\n",
        "4.902648"
       ]
      },
      {
       "output_type": "stream",
       "stream": "stdout",
       "text": [
        "\n",
        "4.975161"
       ]
      },
      {
       "output_type": "stream",
       "stream": "stdout",
       "text": [
        "\n",
        "4.903474"
       ]
      },
      {
       "output_type": "stream",
       "stream": "stdout",
       "text": [
        "\n",
        "4.938443"
       ]
      },
      {
       "output_type": "stream",
       "stream": "stdout",
       "text": [
        "\n",
        "4.980503"
       ]
      },
      {
       "output_type": "stream",
       "stream": "stdout",
       "text": [
        "\n",
        "4.934454"
       ]
      },
      {
       "output_type": "stream",
       "stream": "stdout",
       "text": [
        "\n",
        "4.912662"
       ]
      },
      {
       "output_type": "stream",
       "stream": "stdout",
       "text": [
        "\n",
        "4.925779"
       ]
      },
      {
       "output_type": "stream",
       "stream": "stdout",
       "text": [
        "\n",
        "4.933116"
       ]
      },
      {
       "output_type": "stream",
       "stream": "stdout",
       "text": [
        "\n",
        "4.938783"
       ]
      },
      {
       "output_type": "stream",
       "stream": "stdout",
       "text": [
        "\n",
        "4.925494"
       ]
      },
      {
       "output_type": "stream",
       "stream": "stdout",
       "text": [
        "\n",
        "4.910034"
       ]
      },
      {
       "output_type": "stream",
       "stream": "stdout",
       "text": [
        "\n",
        "4.963129"
       ]
      },
      {
       "output_type": "stream",
       "stream": "stdout",
       "text": [
        "\n",
        "4.943353"
       ]
      },
      {
       "output_type": "stream",
       "stream": "stdout",
       "text": [
        "\n",
        "4.901268"
       ]
      },
      {
       "output_type": "stream",
       "stream": "stdout",
       "text": [
        "\n",
        "4.9269"
       ]
      },
      {
       "output_type": "stream",
       "stream": "stdout",
       "text": [
        "\n",
        "4.923647"
       ]
      },
      {
       "output_type": "stream",
       "stream": "stdout",
       "text": [
        "\n",
        "4.895924"
       ]
      },
      {
       "output_type": "stream",
       "stream": "stdout",
       "text": [
        "\n",
        "4.922811"
       ]
      },
      {
       "output_type": "stream",
       "stream": "stdout",
       "text": [
        "\n",
        "4.912784"
       ]
      },
      {
       "output_type": "stream",
       "stream": "stdout",
       "text": [
        "\n",
        "4.916628"
       ]
      },
      {
       "output_type": "stream",
       "stream": "stdout",
       "text": [
        "\n",
        "4.917047"
       ]
      },
      {
       "output_type": "stream",
       "stream": "stdout",
       "text": [
        "\n",
        "4.913993"
       ]
      },
      {
       "output_type": "stream",
       "stream": "stdout",
       "text": [
        "\n",
        "4.922271"
       ]
      },
      {
       "output_type": "stream",
       "stream": "stdout",
       "text": [
        "\n",
        "4.939581"
       ]
      },
      {
       "output_type": "stream",
       "stream": "stdout",
       "text": [
        "\n",
        "4.936438"
       ]
      },
      {
       "output_type": "stream",
       "stream": "stdout",
       "text": [
        "\n",
        "4.918687"
       ]
      },
      {
       "output_type": "stream",
       "stream": "stdout",
       "text": [
        "\n",
        "4.942761"
       ]
      },
      {
       "output_type": "stream",
       "stream": "stdout",
       "text": [
        "\n",
        "4.950115"
       ]
      },
      {
       "output_type": "stream",
       "stream": "stdout",
       "text": [
        "\n",
        "4.971505"
       ]
      },
      {
       "output_type": "stream",
       "stream": "stdout",
       "text": [
        "\n",
        "4.958341"
       ]
      },
      {
       "output_type": "stream",
       "stream": "stdout",
       "text": [
        "\n",
        "4.97862"
       ]
      },
      {
       "output_type": "stream",
       "stream": "stdout",
       "text": [
        "\n",
        "4.995876"
       ]
      },
      {
       "output_type": "stream",
       "stream": "stdout",
       "text": [
        "\n",
        "4.975634"
       ]
      },
      {
       "output_type": "stream",
       "stream": "stdout",
       "text": [
        "\n",
        "5.008175"
       ]
      },
      {
       "output_type": "stream",
       "stream": "stdout",
       "text": [
        "\n",
        "4.976978"
       ]
      },
      {
       "output_type": "stream",
       "stream": "stdout",
       "text": [
        "\n",
        "5.000183"
       ]
      },
      {
       "output_type": "stream",
       "stream": "stdout",
       "text": [
        "\n",
        "5.00408"
       ]
      },
      {
       "output_type": "stream",
       "stream": "stdout",
       "text": [
        "\n",
        "5.013704"
       ]
      },
      {
       "output_type": "stream",
       "stream": "stdout",
       "text": [
        "\n",
        "5.03958"
       ]
      },
      {
       "output_type": "stream",
       "stream": "stdout",
       "text": [
        "\n",
        "4.980332"
       ]
      },
      {
       "output_type": "stream",
       "stream": "stdout",
       "text": [
        "\n",
        "5.071453"
       ]
      },
      {
       "output_type": "stream",
       "stream": "stdout",
       "text": [
        "\n",
        "5.04216"
       ]
      },
      {
       "output_type": "stream",
       "stream": "stdout",
       "text": [
        "\n",
        "5.065149"
       ]
      },
      {
       "output_type": "stream",
       "stream": "stdout",
       "text": [
        "\n",
        "5.054992"
       ]
      },
      {
       "output_type": "stream",
       "stream": "stdout",
       "text": [
        "\n",
        "5.094862"
       ]
      },
      {
       "output_type": "stream",
       "stream": "stdout",
       "text": [
        "\n",
        "5.104338"
       ]
      },
      {
       "output_type": "stream",
       "stream": "stdout",
       "text": [
        "\n",
        "5.095287"
       ]
      },
      {
       "output_type": "stream",
       "stream": "stdout",
       "text": [
        "\n",
        "5.126856"
       ]
      },
      {
       "output_type": "stream",
       "stream": "stdout",
       "text": [
        "\n",
        "5.095498"
       ]
      },
      {
       "output_type": "stream",
       "stream": "stdout",
       "text": [
        "\n",
        "5.152578"
       ]
      },
      {
       "output_type": "stream",
       "stream": "stdout",
       "text": [
        "\n",
        "5.132528"
       ]
      },
      {
       "output_type": "stream",
       "stream": "stdout",
       "text": [
        "\n",
        "5.119236"
       ]
      },
      {
       "output_type": "stream",
       "stream": "stdout",
       "text": [
        "\n",
        "5.128688"
       ]
      },
      {
       "output_type": "stream",
       "stream": "stdout",
       "text": [
        "\n",
        "5.167742"
       ]
      },
      {
       "output_type": "stream",
       "stream": "stdout",
       "text": [
        "\n",
        "5.371396"
       ]
      },
      {
       "output_type": "stream",
       "stream": "stdout",
       "text": [
        "\n",
        "5.365762"
       ]
      },
      {
       "output_type": "stream",
       "stream": "stdout",
       "text": [
        "\n",
        "5.378452"
       ]
      },
      {
       "output_type": "stream",
       "stream": "stdout",
       "text": [
        "\n",
        "5.420422"
       ]
      },
      {
       "output_type": "stream",
       "stream": "stdout",
       "text": [
        "\n",
        "5.397991"
       ]
      },
      {
       "output_type": "stream",
       "stream": "stdout",
       "text": [
        "\n",
        "5.403528"
       ]
      },
      {
       "output_type": "stream",
       "stream": "stdout",
       "text": [
        "\n",
        "5.406418"
       ]
      },
      {
       "output_type": "stream",
       "stream": "stdout",
       "text": [
        "\n",
        "5.420851"
       ]
      },
      {
       "output_type": "stream",
       "stream": "stdout",
       "text": [
        "\n",
        "5.390608"
       ]
      },
      {
       "output_type": "stream",
       "stream": "stdout",
       "text": [
        "\n",
        "5.400804"
       ]
      },
      {
       "output_type": "stream",
       "stream": "stdout",
       "text": [
        "\n",
        "5.411896"
       ]
      },
      {
       "output_type": "stream",
       "stream": "stdout",
       "text": [
        "\n",
        "5.384918"
       ]
      },
      {
       "output_type": "stream",
       "stream": "stdout",
       "text": [
        "\n",
        "5.429701"
       ]
      },
      {
       "output_type": "stream",
       "stream": "stdout",
       "text": [
        "\n",
        "5.405988"
       ]
      },
      {
       "output_type": "stream",
       "stream": "stdout",
       "text": [
        "\n",
        "5.410177"
       ]
      },
      {
       "output_type": "stream",
       "stream": "stdout",
       "text": [
        "\n",
        "5.445163"
       ]
      },
      {
       "output_type": "stream",
       "stream": "stdout",
       "text": [
        "\n",
        "5.427383"
       ]
      },
      {
       "output_type": "stream",
       "stream": "stdout",
       "text": [
        "\n",
        "5.489878"
       ]
      },
      {
       "output_type": "stream",
       "stream": "stdout",
       "text": [
        "\n",
        "5.431386"
       ]
      },
      {
       "output_type": "stream",
       "stream": "stdout",
       "text": [
        "\n",
        "5.431959"
       ]
      },
      {
       "output_type": "stream",
       "stream": "stdout",
       "text": [
        "\n",
        "5.446531"
       ]
      },
      {
       "output_type": "stream",
       "stream": "stdout",
       "text": [
        "\n",
        "5.486416"
       ]
      },
      {
       "output_type": "stream",
       "stream": "stdout",
       "text": [
        "\n",
        "5.435219"
       ]
      },
      {
       "output_type": "stream",
       "stream": "stdout",
       "text": [
        "\n",
        "5.422494"
       ]
      },
      {
       "output_type": "stream",
       "stream": "stdout",
       "text": [
        "\n",
        "5.453041"
       ]
      },
      {
       "output_type": "stream",
       "stream": "stdout",
       "text": [
        "\n",
        "5.44011"
       ]
      },
      {
       "output_type": "stream",
       "stream": "stdout",
       "text": [
        "\n",
        "5.500281"
       ]
      },
      {
       "output_type": "stream",
       "stream": "stdout",
       "text": [
        "\n",
        "5.447493"
       ]
      },
      {
       "output_type": "stream",
       "stream": "stdout",
       "text": [
        "\n",
        "5.459093"
       ]
      },
      {
       "output_type": "stream",
       "stream": "stdout",
       "text": [
        "\n",
        "5.515837"
       ]
      },
      {
       "output_type": "stream",
       "stream": "stdout",
       "text": [
        "\n",
        "5.453118"
       ]
      },
      {
       "output_type": "stream",
       "stream": "stdout",
       "text": [
        "\n",
        "5.458934"
       ]
      },
      {
       "output_type": "stream",
       "stream": "stdout",
       "text": [
        "\n",
        "5.435349"
       ]
      },
      {
       "output_type": "stream",
       "stream": "stdout",
       "text": [
        "\n",
        "5.50824"
       ]
      },
      {
       "output_type": "stream",
       "stream": "stdout",
       "text": [
        "\n",
        "5.508703"
       ]
      },
      {
       "output_type": "stream",
       "stream": "stdout",
       "text": [
        "\n",
        "5.471949"
       ]
      },
      {
       "output_type": "stream",
       "stream": "stdout",
       "text": [
        "\n",
        "5.470692"
       ]
      },
      {
       "output_type": "stream",
       "stream": "stdout",
       "text": [
        "\n",
        "5.504853"
       ]
      },
      {
       "output_type": "stream",
       "stream": "stdout",
       "text": [
        "\n",
        "5.491882"
       ]
      },
      {
       "output_type": "stream",
       "stream": "stdout",
       "text": [
        "\n",
        "5.479856"
       ]
      },
      {
       "output_type": "stream",
       "stream": "stdout",
       "text": [
        "\n",
        "5.473576"
       ]
      },
      {
       "output_type": "stream",
       "stream": "stdout",
       "text": [
        "\n",
        "5.502084"
       ]
      },
      {
       "output_type": "stream",
       "stream": "stdout",
       "text": [
        "\n",
        "5.480697"
       ]
      },
      {
       "output_type": "stream",
       "stream": "stdout",
       "text": [
        "\n",
        "5.472192"
       ]
      },
      {
       "output_type": "stream",
       "stream": "stdout",
       "text": [
        "\n",
        "5.482556"
       ]
      },
      {
       "output_type": "stream",
       "stream": "stdout",
       "text": [
        "\n",
        "5.519019"
       ]
      },
      {
       "output_type": "stream",
       "stream": "stdout",
       "text": [
        "\n",
        "5.535992"
       ]
      },
      {
       "output_type": "stream",
       "stream": "stdout",
       "text": [
        "\n",
        "5.517194"
       ]
      },
      {
       "output_type": "stream",
       "stream": "stdout",
       "text": [
        "\n",
        "5.573721"
       ]
      },
      {
       "output_type": "stream",
       "stream": "stdout",
       "text": [
        "\n",
        "5.51907"
       ]
      },
      {
       "output_type": "stream",
       "stream": "stdout",
       "text": [
        "\n",
        "5.693725"
       ]
      },
      {
       "output_type": "stream",
       "stream": "stdout",
       "text": [
        "\n",
        "5.5875"
       ]
      },
      {
       "output_type": "stream",
       "stream": "stdout",
       "text": [
        "\n",
        "5.590793"
       ]
      },
      {
       "output_type": "stream",
       "stream": "stdout",
       "text": [
        "\n",
        "5.55687"
       ]
      },
      {
       "output_type": "stream",
       "stream": "stdout",
       "text": [
        "\n",
        "5.547734"
       ]
      },
      {
       "output_type": "stream",
       "stream": "stdout",
       "text": [
        "\n",
        "5.539626"
       ]
      },
      {
       "output_type": "stream",
       "stream": "stdout",
       "text": [
        "\n",
        "5.58201"
       ]
      },
      {
       "output_type": "stream",
       "stream": "stdout",
       "text": [
        "\n",
        "5.566442"
       ]
      },
      {
       "output_type": "stream",
       "stream": "stdout",
       "text": [
        "\n",
        "5.544902"
       ]
      },
      {
       "output_type": "stream",
       "stream": "stdout",
       "text": [
        "\n",
        "5.553337"
       ]
      },
      {
       "output_type": "stream",
       "stream": "stdout",
       "text": [
        "\n",
        "5.554622"
       ]
      },
      {
       "output_type": "stream",
       "stream": "stdout",
       "text": [
        "\n",
        "5.536634"
       ]
      },
      {
       "output_type": "stream",
       "stream": "stdout",
       "text": [
        "\n",
        "5.600931"
       ]
      },
      {
       "output_type": "stream",
       "stream": "stdout",
       "text": [
        "\n",
        "5.687917"
       ]
      },
      {
       "output_type": "stream",
       "stream": "stdout",
       "text": [
        "\n",
        "5.595733"
       ]
      },
      {
       "output_type": "stream",
       "stream": "stdout",
       "text": [
        "\n",
        "5.603628"
       ]
      },
      {
       "output_type": "stream",
       "stream": "stdout",
       "text": [
        "\n",
        "5.689266"
       ]
      },
      {
       "output_type": "stream",
       "stream": "stdout",
       "text": [
        "\n",
        "5.617174"
       ]
      },
      {
       "output_type": "stream",
       "stream": "stdout",
       "text": [
        "\n",
        "5.650413"
       ]
      },
      {
       "output_type": "stream",
       "stream": "stdout",
       "text": [
        "\n",
        "5.650313"
       ]
      },
      {
       "output_type": "stream",
       "stream": "stdout",
       "text": [
        "\n",
        "5.637583"
       ]
      },
      {
       "output_type": "stream",
       "stream": "stdout",
       "text": [
        "\n",
        "5.623107"
       ]
      },
      {
       "output_type": "stream",
       "stream": "stdout",
       "text": [
        "\n",
        "5.657703"
       ]
      },
      {
       "output_type": "stream",
       "stream": "stdout",
       "text": [
        "\n",
        "5.647828"
       ]
      },
      {
       "output_type": "stream",
       "stream": "stdout",
       "text": [
        "\n",
        "5.671558"
       ]
      },
      {
       "output_type": "stream",
       "stream": "stdout",
       "text": [
        "\n",
        "5.707004"
       ]
      },
      {
       "output_type": "stream",
       "stream": "stdout",
       "text": [
        "\n",
        "5.642837"
       ]
      },
      {
       "output_type": "stream",
       "stream": "stdout",
       "text": [
        "\n",
        "5.674679"
       ]
      },
      {
       "output_type": "stream",
       "stream": "stdout",
       "text": [
        "\n",
        "5.648739"
       ]
      },
      {
       "output_type": "stream",
       "stream": "stdout",
       "text": [
        "\n",
        "5.677503"
       ]
      },
      {
       "output_type": "stream",
       "stream": "stdout",
       "text": [
        "\n",
        "5.705584"
       ]
      },
      {
       "output_type": "stream",
       "stream": "stdout",
       "text": [
        "\n",
        "5.704713"
       ]
      },
      {
       "output_type": "stream",
       "stream": "stdout",
       "text": [
        "\n",
        "5.719189"
       ]
      },
      {
       "output_type": "stream",
       "stream": "stdout",
       "text": [
        "\n",
        "5.76439"
       ]
      },
      {
       "output_type": "stream",
       "stream": "stdout",
       "text": [
        "\n",
        "5.710901"
       ]
      },
      {
       "output_type": "stream",
       "stream": "stdout",
       "text": [
        "\n",
        "5.691785"
       ]
      },
      {
       "output_type": "stream",
       "stream": "stdout",
       "text": [
        "\n",
        "5.724974"
       ]
      },
      {
       "output_type": "stream",
       "stream": "stdout",
       "text": [
        "\n",
        "5.695446"
       ]
      },
      {
       "output_type": "stream",
       "stream": "stdout",
       "text": [
        "\n",
        "5.707961"
       ]
      },
      {
       "output_type": "stream",
       "stream": "stdout",
       "text": [
        "\n",
        "5.731662"
       ]
      },
      {
       "output_type": "stream",
       "stream": "stdout",
       "text": [
        "\n",
        "5.71377"
       ]
      },
      {
       "output_type": "stream",
       "stream": "stdout",
       "text": [
        "\n",
        "5.736007"
       ]
      },
      {
       "output_type": "stream",
       "stream": "stdout",
       "text": [
        "\n",
        "5.710761"
       ]
      },
      {
       "output_type": "stream",
       "stream": "stdout",
       "text": [
        "\n",
        "5.745966"
       ]
      },
      {
       "output_type": "stream",
       "stream": "stdout",
       "text": [
        "\n",
        "5.790232"
       ]
      },
      {
       "output_type": "stream",
       "stream": "stdout",
       "text": [
        "\n",
        "5.782869"
       ]
      },
      {
       "output_type": "stream",
       "stream": "stdout",
       "text": [
        "\n",
        "5.771033"
       ]
      },
      {
       "output_type": "stream",
       "stream": "stdout",
       "text": [
        "\n",
        "5.815358"
       ]
      },
      {
       "output_type": "stream",
       "stream": "stdout",
       "text": [
        "\n",
        "5.782651"
       ]
      },
      {
       "output_type": "stream",
       "stream": "stdout",
       "text": [
        "\n",
        "5.804569"
       ]
      },
      {
       "output_type": "stream",
       "stream": "stdout",
       "text": [
        "\n",
        "5.824826"
       ]
      },
      {
       "output_type": "stream",
       "stream": "stdout",
       "text": [
        "\n",
        "5.799615"
       ]
      },
      {
       "output_type": "stream",
       "stream": "stdout",
       "text": [
        "\n",
        "6.063706"
       ]
      },
      {
       "output_type": "stream",
       "stream": "stdout",
       "text": [
        "\n",
        "6.025582"
       ]
      },
      {
       "output_type": "stream",
       "stream": "stdout",
       "text": [
        "\n",
        "6.024338"
       ]
      },
      {
       "output_type": "stream",
       "stream": "stdout",
       "text": [
        "\n",
        "6.06488"
       ]
      },
      {
       "output_type": "stream",
       "stream": "stdout",
       "text": [
        "\n",
        "6.029401"
       ]
      },
      {
       "output_type": "stream",
       "stream": "stdout",
       "text": [
        "\n",
        "6.064206"
       ]
      },
      {
       "output_type": "stream",
       "stream": "stdout",
       "text": [
        "\n",
        "6.092823"
       ]
      },
      {
       "output_type": "stream",
       "stream": "stdout",
       "text": [
        "\n",
        "6.070484"
       ]
      },
      {
       "output_type": "stream",
       "stream": "stdout",
       "text": [
        "\n",
        "6.070375"
       ]
      },
      {
       "output_type": "stream",
       "stream": "stdout",
       "text": [
        "\n",
        "6.101328"
       ]
      },
      {
       "output_type": "stream",
       "stream": "stdout",
       "text": [
        "\n",
        "6.120808"
       ]
      },
      {
       "output_type": "stream",
       "stream": "stdout",
       "text": [
        "\n",
        "6.075643"
       ]
      },
      {
       "output_type": "stream",
       "stream": "stdout",
       "text": [
        "\n",
        "6.074777"
       ]
      },
      {
       "output_type": "stream",
       "stream": "stdout",
       "text": [
        "\n",
        "6.074306"
       ]
      },
      {
       "output_type": "stream",
       "stream": "stdout",
       "text": [
        "\n",
        "6.103325"
       ]
      },
      {
       "output_type": "stream",
       "stream": "stdout",
       "text": [
        "\n",
        "5.982026"
       ]
      },
      {
       "output_type": "stream",
       "stream": "stdout",
       "text": [
        "\n",
        "6.08271"
       ]
      },
      {
       "output_type": "stream",
       "stream": "stdout",
       "text": [
        "\n",
        "6.179312"
       ]
      },
      {
       "output_type": "stream",
       "stream": "stdout",
       "text": [
        "\n",
        "6.185479"
       ]
      },
      {
       "output_type": "stream",
       "stream": "stdout",
       "text": [
        "\n",
        "6.172267"
       ]
      },
      {
       "output_type": "stream",
       "stream": "stdout",
       "text": [
        "\n",
        "6.166229"
       ]
      },
      {
       "output_type": "stream",
       "stream": "stdout",
       "text": [
        "\n",
        "6.174919"
       ]
      },
      {
       "output_type": "stream",
       "stream": "stdout",
       "text": [
        "\n",
        "6.141598"
       ]
      },
      {
       "output_type": "stream",
       "stream": "stdout",
       "text": [
        "\n",
        "6.164174"
       ]
      },
      {
       "output_type": "stream",
       "stream": "stdout",
       "text": [
        "\n",
        "6.145655"
       ]
      },
      {
       "output_type": "stream",
       "stream": "stdout",
       "text": [
        "\n",
        "6.157951"
       ]
      },
      {
       "output_type": "stream",
       "stream": "stdout",
       "text": [
        "\n",
        "6.176253"
       ]
      },
      {
       "output_type": "stream",
       "stream": "stdout",
       "text": [
        "\n",
        "6.200894"
       ]
      },
      {
       "output_type": "stream",
       "stream": "stdout",
       "text": [
        "\n",
        "6.164151"
       ]
      },
      {
       "output_type": "stream",
       "stream": "stdout",
       "text": [
        "\n",
        "6.184895"
       ]
      },
      {
       "output_type": "stream",
       "stream": "stdout",
       "text": [
        "\n",
        "6.252952"
       ]
      },
      {
       "output_type": "stream",
       "stream": "stdout",
       "text": [
        "\n",
        "6.173352"
       ]
      },
      {
       "output_type": "stream",
       "stream": "stdout",
       "text": [
        "\n",
        "6.165295"
       ]
      },
      {
       "output_type": "stream",
       "stream": "stdout",
       "text": [
        "\n",
        "6.198844"
       ]
      },
      {
       "output_type": "stream",
       "stream": "stdout",
       "text": [
        "\n",
        "6.179697"
       ]
      },
      {
       "output_type": "stream",
       "stream": "stdout",
       "text": [
        "\n",
        "6.199793"
       ]
      },
      {
       "output_type": "stream",
       "stream": "stdout",
       "text": [
        "\n",
        "6.207841"
       ]
      },
      {
       "output_type": "stream",
       "stream": "stdout",
       "text": [
        "\n",
        "6.203349"
       ]
      },
      {
       "output_type": "stream",
       "stream": "stdout",
       "text": [
        "\n",
        "6.20474"
       ]
      },
      {
       "output_type": "stream",
       "stream": "stdout",
       "text": [
        "\n",
        "6.226671"
       ]
      },
      {
       "output_type": "stream",
       "stream": "stdout",
       "text": [
        "\n",
        "6.211226"
       ]
      },
      {
       "output_type": "stream",
       "stream": "stdout",
       "text": [
        "\n",
        "6.213552"
       ]
      },
      {
       "output_type": "stream",
       "stream": "stdout",
       "text": [
        "\n",
        "6.210539"
       ]
      },
      {
       "output_type": "stream",
       "stream": "stdout",
       "text": [
        "\n",
        "6.208021"
       ]
      },
      {
       "output_type": "stream",
       "stream": "stdout",
       "text": [
        "\n",
        "6.21316"
       ]
      },
      {
       "output_type": "stream",
       "stream": "stdout",
       "text": [
        "\n",
        "6.254195"
       ]
      },
      {
       "output_type": "stream",
       "stream": "stdout",
       "text": [
        "\n",
        "6.236115"
       ]
      },
      {
       "output_type": "stream",
       "stream": "stdout",
       "text": [
        "\n",
        "6.241042"
       ]
      },
      {
       "output_type": "stream",
       "stream": "stdout",
       "text": [
        "\n",
        "6.251152"
       ]
      },
      {
       "output_type": "stream",
       "stream": "stdout",
       "text": [
        "\n",
        "6.238884"
       ]
      },
      {
       "output_type": "stream",
       "stream": "stdout",
       "text": [
        "\n",
        "6.229553"
       ]
      },
      {
       "output_type": "stream",
       "stream": "stdout",
       "text": [
        "\n",
        "6.244588"
       ]
      },
      {
       "output_type": "stream",
       "stream": "stdout",
       "text": [
        "\n",
        "6.219511"
       ]
      },
      {
       "output_type": "stream",
       "stream": "stdout",
       "text": [
        "\n",
        "6.28198"
       ]
      },
      {
       "output_type": "stream",
       "stream": "stdout",
       "text": [
        "\n",
        "6.240317"
       ]
      },
      {
       "output_type": "stream",
       "stream": "stdout",
       "text": [
        "\n",
        "6.216727"
       ]
      },
      {
       "output_type": "stream",
       "stream": "stdout",
       "text": [
        "\n",
        "6.244859"
       ]
      },
      {
       "output_type": "stream",
       "stream": "stdout",
       "text": [
        "\n",
        "6.280655"
       ]
      },
      {
       "output_type": "stream",
       "stream": "stdout",
       "text": [
        "\n",
        "6.255961"
       ]
      },
      {
       "output_type": "stream",
       "stream": "stdout",
       "text": [
        "\n",
        "6.273971"
       ]
      },
      {
       "output_type": "stream",
       "stream": "stdout",
       "text": [
        "\n",
        "6.252064"
       ]
      },
      {
       "output_type": "stream",
       "stream": "stdout",
       "text": [
        "\n",
        "6.283367"
       ]
      },
      {
       "output_type": "stream",
       "stream": "stdout",
       "text": [
        "\n",
        "6.270013"
       ]
      },
      {
       "output_type": "stream",
       "stream": "stdout",
       "text": [
        "\n",
        "6.29339"
       ]
      },
      {
       "output_type": "stream",
       "stream": "stdout",
       "text": [
        "\n",
        "6.28445"
       ]
      },
      {
       "output_type": "stream",
       "stream": "stdout",
       "text": [
        "\n",
        "6.285522"
       ]
      },
      {
       "output_type": "stream",
       "stream": "stdout",
       "text": [
        "\n",
        "6.293994"
       ]
      },
      {
       "output_type": "stream",
       "stream": "stdout",
       "text": [
        "\n",
        "6.294258"
       ]
      },
      {
       "output_type": "stream",
       "stream": "stdout",
       "text": [
        "\n",
        "6.308335"
       ]
      },
      {
       "output_type": "stream",
       "stream": "stdout",
       "text": [
        "\n",
        "6.305557"
       ]
      },
      {
       "output_type": "stream",
       "stream": "stdout",
       "text": [
        "\n",
        "6.325829"
       ]
      },
      {
       "output_type": "stream",
       "stream": "stdout",
       "text": [
        "\n",
        "6.30969"
       ]
      },
      {
       "output_type": "stream",
       "stream": "stdout",
       "text": [
        "\n",
        "6.364083"
       ]
      },
      {
       "output_type": "stream",
       "stream": "stdout",
       "text": [
        "\n",
        "6.311237"
       ]
      },
      {
       "output_type": "stream",
       "stream": "stdout",
       "text": [
        "\n",
        "6.366811"
       ]
      },
      {
       "output_type": "stream",
       "stream": "stdout",
       "text": [
        "\n",
        "6.435666"
       ]
      },
      {
       "output_type": "stream",
       "stream": "stdout",
       "text": [
        "\n",
        "6.379795"
       ]
      },
      {
       "output_type": "stream",
       "stream": "stdout",
       "text": [
        "\n",
        "6.34329"
       ]
      },
      {
       "output_type": "stream",
       "stream": "stdout",
       "text": [
        "\n",
        "6.390142"
       ]
      },
      {
       "output_type": "stream",
       "stream": "stdout",
       "text": [
        "\n",
        "6.409196"
       ]
      },
      {
       "output_type": "stream",
       "stream": "stdout",
       "text": [
        "\n",
        "6.213311"
       ]
      },
      {
       "output_type": "stream",
       "stream": "stdout",
       "text": [
        "\n",
        "6.351198"
       ]
      },
      {
       "output_type": "stream",
       "stream": "stdout",
       "text": [
        "\n",
        "6.392388"
       ]
      },
      {
       "output_type": "stream",
       "stream": "stdout",
       "text": [
        "\n",
        "6.367003"
       ]
      },
      {
       "output_type": "stream",
       "stream": "stdout",
       "text": [
        "\n",
        "6.395311"
       ]
      },
      {
       "output_type": "stream",
       "stream": "stdout",
       "text": [
        "\n",
        "6.409144"
       ]
      },
      {
       "output_type": "stream",
       "stream": "stdout",
       "text": [
        "\n",
        "6.408443"
       ]
      },
      {
       "output_type": "stream",
       "stream": "stdout",
       "text": [
        "\n",
        "6.456751"
       ]
      },
      {
       "output_type": "stream",
       "stream": "stdout",
       "text": [
        "\n",
        "6.407383"
       ]
      },
      {
       "output_type": "stream",
       "stream": "stdout",
       "text": [
        "\n",
        "6.423521"
       ]
      },
      {
       "output_type": "stream",
       "stream": "stdout",
       "text": [
        "\n",
        "6.433412"
       ]
      },
      {
       "output_type": "stream",
       "stream": "stdout",
       "text": [
        "\n",
        "6.446324"
       ]
      },
      {
       "output_type": "stream",
       "stream": "stdout",
       "text": [
        "\n",
        "6.434931"
       ]
      },
      {
       "output_type": "stream",
       "stream": "stdout",
       "text": [
        "\n",
        "6.453145"
       ]
      },
      {
       "output_type": "stream",
       "stream": "stdout",
       "text": [
        "\n",
        "6.43591"
       ]
      },
      {
       "output_type": "stream",
       "stream": "stdout",
       "text": [
        "\n",
        "6.467157"
       ]
      },
      {
       "output_type": "stream",
       "stream": "stdout",
       "text": [
        "\n",
        "6.462244"
       ]
      },
      {
       "output_type": "stream",
       "stream": "stdout",
       "text": [
        "\n",
        "6.46031"
       ]
      },
      {
       "output_type": "stream",
       "stream": "stdout",
       "text": [
        "\n",
        "6.491043"
       ]
      },
      {
       "output_type": "stream",
       "stream": "stdout",
       "text": [
        "\n",
        "6.471757"
       ]
      },
      {
       "output_type": "stream",
       "stream": "stdout",
       "text": [
        "\n",
        "6.450455"
       ]
      },
      {
       "output_type": "stream",
       "stream": "stdout",
       "text": [
        "\n",
        "6.481212"
       ]
      },
      {
       "output_type": "stream",
       "stream": "stdout",
       "text": [
        "\n",
        "6.507601"
       ]
      },
      {
       "output_type": "stream",
       "stream": "stdout",
       "text": [
        "\n",
        "6.483968"
       ]
      },
      {
       "output_type": "stream",
       "stream": "stdout",
       "text": [
        "\n",
        "6.574741"
       ]
      },
      {
       "output_type": "stream",
       "stream": "stdout",
       "text": [
        "\n",
        "6.506488"
       ]
      },
      {
       "output_type": "stream",
       "stream": "stdout",
       "text": [
        "\n",
        "6.558754"
       ]
      },
      {
       "output_type": "stream",
       "stream": "stdout",
       "text": [
        "\n",
        "6.504524"
       ]
      },
      {
       "output_type": "stream",
       "stream": "stdout",
       "text": [
        "\n",
        "6.796429"
       ]
      },
      {
       "output_type": "stream",
       "stream": "stdout",
       "text": [
        "\n",
        "6.775322"
       ]
      },
      {
       "output_type": "stream",
       "stream": "stdout",
       "text": [
        "\n",
        "6.793265"
       ]
      },
      {
       "output_type": "stream",
       "stream": "stdout",
       "text": [
        "\n",
        "6.804087"
       ]
      },
      {
       "output_type": "stream",
       "stream": "stdout",
       "text": [
        "\n",
        "6.80061"
       ]
      },
      {
       "output_type": "stream",
       "stream": "stdout",
       "text": [
        "\n",
        "6.863834"
       ]
      },
      {
       "output_type": "stream",
       "stream": "stdout",
       "text": [
        "\n",
        "6.791223"
       ]
      },
      {
       "output_type": "stream",
       "stream": "stdout",
       "text": [
        "\n",
        "6.819691"
       ]
      },
      {
       "output_type": "stream",
       "stream": "stdout",
       "text": [
        "\n",
        "6.811503"
       ]
      },
      {
       "output_type": "stream",
       "stream": "stdout",
       "text": [
        "\n",
        "6.854259"
       ]
      },
      {
       "output_type": "stream",
       "stream": "stdout",
       "text": [
        "\n",
        "6.860151"
       ]
      },
      {
       "output_type": "stream",
       "stream": "stdout",
       "text": [
        "\n",
        "6.977719"
       ]
      },
      {
       "output_type": "stream",
       "stream": "stdout",
       "text": [
        "\n",
        "6.834206"
       ]
      },
      {
       "output_type": "stream",
       "stream": "stdout",
       "text": [
        "\n",
        "6.836133"
       ]
      },
      {
       "output_type": "stream",
       "stream": "stdout",
       "text": [
        "\n",
        "6.837801"
       ]
      },
      {
       "output_type": "stream",
       "stream": "stdout",
       "text": [
        "\n",
        "6.877304"
       ]
      },
      {
       "output_type": "stream",
       "stream": "stdout",
       "text": [
        "\n",
        "6.861645"
       ]
      },
      {
       "output_type": "stream",
       "stream": "stdout",
       "text": [
        "\n",
        "6.830715"
       ]
      },
      {
       "output_type": "stream",
       "stream": "stdout",
       "text": [
        "\n",
        "6.910034"
       ]
      },
      {
       "output_type": "stream",
       "stream": "stdout",
       "text": [
        "\n",
        "6.858606"
       ]
      },
      {
       "output_type": "stream",
       "stream": "stdout",
       "text": [
        "\n",
        "6.865809"
       ]
      },
      {
       "output_type": "stream",
       "stream": "stdout",
       "text": [
        "\n",
        "6.870988"
       ]
      },
      {
       "output_type": "stream",
       "stream": "stdout",
       "text": [
        "\n",
        "6.848426"
       ]
      },
      {
       "output_type": "stream",
       "stream": "stdout",
       "text": [
        "\n",
        "6.88714"
       ]
      },
      {
       "output_type": "stream",
       "stream": "stdout",
       "text": [
        "\n",
        "6.875833"
       ]
      },
      {
       "output_type": "stream",
       "stream": "stdout",
       "text": [
        "\n",
        "6.873142"
       ]
      },
      {
       "output_type": "stream",
       "stream": "stdout",
       "text": [
        "\n",
        "6.873926"
       ]
      },
      {
       "output_type": "stream",
       "stream": "stdout",
       "text": [
        "\n",
        "6.891528"
       ]
      },
      {
       "output_type": "stream",
       "stream": "stdout",
       "text": [
        "\n",
        "6.849535"
       ]
      },
      {
       "output_type": "stream",
       "stream": "stdout",
       "text": [
        "\n",
        "6.925678"
       ]
      },
      {
       "output_type": "stream",
       "stream": "stdout",
       "text": [
        "\n",
        "6.896682"
       ]
      },
      {
       "output_type": "stream",
       "stream": "stdout",
       "text": [
        "\n",
        "6.921871"
       ]
      },
      {
       "output_type": "stream",
       "stream": "stdout",
       "text": [
        "\n",
        "6.974985"
       ]
      },
      {
       "output_type": "stream",
       "stream": "stdout",
       "text": [
        "\n",
        "6.886669"
       ]
      },
      {
       "output_type": "stream",
       "stream": "stdout",
       "text": [
        "\n",
        "6.899381"
       ]
      },
      {
       "output_type": "stream",
       "stream": "stdout",
       "text": [
        "\n",
        "6.932245"
       ]
      },
      {
       "output_type": "stream",
       "stream": "stdout",
       "text": [
        "\n",
        "6.912395"
       ]
      },
      {
       "output_type": "stream",
       "stream": "stdout",
       "text": [
        "\n",
        "7.011341"
       ]
      },
      {
       "output_type": "stream",
       "stream": "stdout",
       "text": [
        "\n",
        "6.949517"
       ]
      },
      {
       "output_type": "stream",
       "stream": "stdout",
       "text": [
        "\n",
        "7.02085"
       ]
      },
      {
       "output_type": "stream",
       "stream": "stdout",
       "text": [
        "\n",
        "6.94476"
       ]
      },
      {
       "output_type": "stream",
       "stream": "stdout",
       "text": [
        "\n",
        "6.985242"
       ]
      },
      {
       "output_type": "stream",
       "stream": "stdout",
       "text": [
        "\n",
        "6.931809"
       ]
      },
      {
       "output_type": "stream",
       "stream": "stdout",
       "text": [
        "\n",
        "6.958606"
       ]
      },
      {
       "output_type": "stream",
       "stream": "stdout",
       "text": [
        "\n",
        "6.991935"
       ]
      },
      {
       "output_type": "stream",
       "stream": "stdout",
       "text": [
        "\n",
        "6.957079"
       ]
      },
      {
       "output_type": "stream",
       "stream": "stdout",
       "text": [
        "\n",
        "6.964435"
       ]
      },
      {
       "output_type": "stream",
       "stream": "stdout",
       "text": [
        "\n",
        "6.980446"
       ]
      },
      {
       "output_type": "stream",
       "stream": "stdout",
       "text": [
        "\n",
        "6.955021"
       ]
      },
      {
       "output_type": "stream",
       "stream": "stdout",
       "text": [
        "\n",
        "6.991754"
       ]
      },
      {
       "output_type": "stream",
       "stream": "stdout",
       "text": [
        "\n",
        "7.012186"
       ]
      },
      {
       "output_type": "stream",
       "stream": "stdout",
       "text": [
        "\n",
        "7.001893"
       ]
      },
      {
       "output_type": "stream",
       "stream": "stdout",
       "text": [
        "\n",
        "7.001676"
       ]
      },
      {
       "output_type": "stream",
       "stream": "stdout",
       "text": [
        "\n",
        "7.040004"
       ]
      },
      {
       "output_type": "stream",
       "stream": "stdout",
       "text": [
        "\n",
        "6.982439"
       ]
      },
      {
       "output_type": "stream",
       "stream": "stdout",
       "text": [
        "\n",
        "7.002126"
       ]
      },
      {
       "output_type": "stream",
       "stream": "stdout",
       "text": [
        "\n",
        "7.010568"
       ]
      },
      {
       "output_type": "stream",
       "stream": "stdout",
       "text": [
        "\n",
        "6.970146"
       ]
      },
      {
       "output_type": "stream",
       "stream": "stdout",
       "text": [
        "\n",
        "6.987502"
       ]
      },
      {
       "output_type": "stream",
       "stream": "stdout",
       "text": [
        "\n",
        "7.003164"
       ]
      },
      {
       "output_type": "stream",
       "stream": "stdout",
       "text": [
        "\n",
        "6.992863"
       ]
      },
      {
       "output_type": "stream",
       "stream": "stdout",
       "text": [
        "\n",
        "6.983904"
       ]
      },
      {
       "output_type": "stream",
       "stream": "stdout",
       "text": [
        "\n",
        "7.008826"
       ]
      },
      {
       "output_type": "stream",
       "stream": "stdout",
       "text": [
        "\n",
        "7.014633"
       ]
      },
      {
       "output_type": "stream",
       "stream": "stdout",
       "text": [
        "\n",
        "6.996663"
       ]
      },
      {
       "output_type": "stream",
       "stream": "stdout",
       "text": [
        "\n",
        "7.015989"
       ]
      },
      {
       "output_type": "stream",
       "stream": "stdout",
       "text": [
        "\n",
        "7.0912"
       ]
      },
      {
       "output_type": "stream",
       "stream": "stdout",
       "text": [
        "\n",
        "7.03692"
       ]
      },
      {
       "output_type": "stream",
       "stream": "stdout",
       "text": [
        "\n",
        "7.040898"
       ]
      },
      {
       "output_type": "stream",
       "stream": "stdout",
       "text": [
        "\n",
        "7.077321"
       ]
      },
      {
       "output_type": "stream",
       "stream": "stdout",
       "text": [
        "\n",
        "7.052819"
       ]
      },
      {
       "output_type": "stream",
       "stream": "stdout",
       "text": [
        "\n",
        "7.054715"
       ]
      },
      {
       "output_type": "stream",
       "stream": "stdout",
       "text": [
        "\n",
        "7.034278"
       ]
      },
      {
       "output_type": "stream",
       "stream": "stdout",
       "text": [
        "\n",
        "7.058239"
       ]
      },
      {
       "output_type": "stream",
       "stream": "stdout",
       "text": [
        "\n",
        "7.057395"
       ]
      },
      {
       "output_type": "stream",
       "stream": "stdout",
       "text": [
        "\n",
        "7.037179"
       ]
      },
      {
       "output_type": "stream",
       "stream": "stdout",
       "text": [
        "\n",
        "7.115398"
       ]
      },
      {
       "output_type": "stream",
       "stream": "stdout",
       "text": [
        "\n",
        "7.038484"
       ]
      },
      {
       "output_type": "stream",
       "stream": "stdout",
       "text": [
        "\n",
        "7.081408"
       ]
      },
      {
       "output_type": "stream",
       "stream": "stdout",
       "text": [
        "\n",
        "7.070226"
       ]
      },
      {
       "output_type": "stream",
       "stream": "stdout",
       "text": [
        "\n",
        "7.108535"
       ]
      },
      {
       "output_type": "stream",
       "stream": "stdout",
       "text": [
        "\n",
        "7.053142"
       ]
      },
      {
       "output_type": "stream",
       "stream": "stdout",
       "text": [
        "\n",
        "7.108585"
       ]
      },
      {
       "output_type": "stream",
       "stream": "stdout",
       "text": [
        "\n",
        "7.122667"
       ]
      },
      {
       "output_type": "stream",
       "stream": "stdout",
       "text": [
        "\n",
        "7.077252"
       ]
      },
      {
       "output_type": "stream",
       "stream": "stdout",
       "text": [
        "\n",
        "7.153742"
       ]
      },
      {
       "output_type": "stream",
       "stream": "stdout",
       "text": [
        "\n",
        "7.106216"
       ]
      },
      {
       "output_type": "stream",
       "stream": "stdout",
       "text": [
        "\n",
        "7.101221"
       ]
      },
      {
       "output_type": "stream",
       "stream": "stdout",
       "text": [
        "\n",
        "7.091501"
       ]
      },
      {
       "output_type": "stream",
       "stream": "stdout",
       "text": [
        "\n",
        "7.128076"
       ]
      },
      {
       "output_type": "stream",
       "stream": "stdout",
       "text": [
        "\n",
        "7.128891"
       ]
      },
      {
       "output_type": "stream",
       "stream": "stdout",
       "text": [
        "\n",
        "7.133668"
       ]
      },
      {
       "output_type": "stream",
       "stream": "stdout",
       "text": [
        "\n",
        "7.146049"
       ]
      },
      {
       "output_type": "stream",
       "stream": "stdout",
       "text": [
        "\n",
        "7.20414"
       ]
      },
      {
       "output_type": "stream",
       "stream": "stdout",
       "text": [
        "\n",
        "7.12695"
       ]
      },
      {
       "output_type": "stream",
       "stream": "stdout",
       "text": [
        "\n",
        "7.224513"
       ]
      },
      {
       "output_type": "stream",
       "stream": "stdout",
       "text": [
        "\n",
        "7.412073"
       ]
      },
      {
       "output_type": "stream",
       "stream": "stdout",
       "text": [
        "\n",
        "7.425658"
       ]
      },
      {
       "output_type": "stream",
       "stream": "stdout",
       "text": [
        "\n",
        "7.389852"
       ]
      },
      {
       "output_type": "stream",
       "stream": "stdout",
       "text": [
        "\n",
        "7.383444"
       ]
      },
      {
       "output_type": "stream",
       "stream": "stdout",
       "text": [
        "\n",
        "7.415052"
       ]
      },
      {
       "output_type": "stream",
       "stream": "stdout",
       "text": [
        "\n",
        "7.413111"
       ]
      },
      {
       "output_type": "stream",
       "stream": "stdout",
       "text": [
        "\n",
        "7.431948"
       ]
      },
      {
       "output_type": "stream",
       "stream": "stdout",
       "text": [
        "\n",
        "7.50623"
       ]
      },
      {
       "output_type": "stream",
       "stream": "stdout",
       "text": [
        "\n",
        "7.289307"
       ]
      },
      {
       "output_type": "stream",
       "stream": "stdout",
       "text": [
        "\n",
        "7.504285"
       ]
      },
      {
       "output_type": "stream",
       "stream": "stdout",
       "text": [
        "\n",
        "7.492451"
       ]
      },
      {
       "output_type": "stream",
       "stream": "stdout",
       "text": [
        "\n",
        "7.481232"
       ]
      },
      {
       "output_type": "stream",
       "stream": "stdout",
       "text": [
        "\n",
        "7.479769"
       ]
      },
      {
       "output_type": "stream",
       "stream": "stdout",
       "text": [
        "\n",
        "7.491622"
       ]
      },
      {
       "output_type": "stream",
       "stream": "stdout",
       "text": [
        "\n",
        "7.535885"
       ]
      },
      {
       "output_type": "stream",
       "stream": "stdout",
       "text": [
        "\n",
        "7.581317"
       ]
      },
      {
       "output_type": "stream",
       "stream": "stdout",
       "text": [
        "\n",
        "7.523078"
       ]
      },
      {
       "output_type": "stream",
       "stream": "stdout",
       "text": [
        "\n",
        "7.490104"
       ]
      },
      {
       "output_type": "stream",
       "stream": "stdout",
       "text": [
        "\n",
        "7.491712"
       ]
      },
      {
       "output_type": "stream",
       "stream": "stdout",
       "text": [
        "\n",
        "7.549393"
       ]
      },
      {
       "output_type": "stream",
       "stream": "stdout",
       "text": [
        "\n",
        "7.602364"
       ]
      },
      {
       "output_type": "stream",
       "stream": "stdout",
       "text": [
        "\n",
        "7.536168"
       ]
      },
      {
       "output_type": "stream",
       "stream": "stdout",
       "text": [
        "\n",
        "7.492255"
       ]
      },
      {
       "output_type": "stream",
       "stream": "stdout",
       "text": [
        "\n",
        "7.531023"
       ]
      },
      {
       "output_type": "stream",
       "stream": "stdout",
       "text": [
        "\n",
        "7.532952"
       ]
      },
      {
       "output_type": "stream",
       "stream": "stdout",
       "text": [
        "\n",
        "7.537906"
       ]
      },
      {
       "output_type": "stream",
       "stream": "stdout",
       "text": [
        "\n",
        "7.590331"
       ]
      },
      {
       "output_type": "stream",
       "stream": "stdout",
       "text": [
        "\n",
        "7.569252"
       ]
      },
      {
       "output_type": "stream",
       "stream": "stdout",
       "text": [
        "\n",
        "7.603544"
       ]
      },
      {
       "output_type": "stream",
       "stream": "stdout",
       "text": [
        "\n",
        "7.54993"
       ]
      },
      {
       "output_type": "stream",
       "stream": "stdout",
       "text": [
        "\n",
        "7.57642"
       ]
      },
      {
       "output_type": "stream",
       "stream": "stdout",
       "text": [
        "\n",
        "7.536922"
       ]
      },
      {
       "output_type": "stream",
       "stream": "stdout",
       "text": [
        "\n",
        "7.513217"
       ]
      },
      {
       "output_type": "stream",
       "stream": "stdout",
       "text": [
        "\n",
        "7.557546"
       ]
      },
      {
       "output_type": "stream",
       "stream": "stdout",
       "text": [
        "\n",
        "7.544203"
       ]
      },
      {
       "output_type": "stream",
       "stream": "stdout",
       "text": [
        "\n",
        "7.54673"
       ]
      },
      {
       "output_type": "stream",
       "stream": "stdout",
       "text": [
        "\n",
        "7.531102"
       ]
      },
      {
       "output_type": "stream",
       "stream": "stdout",
       "text": [
        "\n",
        "7.587175"
       ]
      },
      {
       "output_type": "stream",
       "stream": "stdout",
       "text": [
        "\n",
        "7.568972"
       ]
      },
      {
       "output_type": "stream",
       "stream": "stdout",
       "text": [
        "\n",
        "7.607746"
       ]
      },
      {
       "output_type": "stream",
       "stream": "stdout",
       "text": [
        "\n",
        "7.572861"
       ]
      },
      {
       "output_type": "stream",
       "stream": "stdout",
       "text": [
        "\n",
        "7.58098"
       ]
      },
      {
       "output_type": "stream",
       "stream": "stdout",
       "text": [
        "\n",
        "7.610951"
       ]
      },
      {
       "output_type": "stream",
       "stream": "stdout",
       "text": [
        "\n",
        "7.616909"
       ]
      },
      {
       "output_type": "stream",
       "stream": "stdout",
       "text": [
        "\n",
        "7.585663"
       ]
      },
      {
       "output_type": "stream",
       "stream": "stdout",
       "text": [
        "\n",
        "7.620266"
       ]
      },
      {
       "output_type": "stream",
       "stream": "stdout",
       "text": [
        "\n",
        "7.618074"
       ]
      },
      {
       "output_type": "stream",
       "stream": "stdout",
       "text": [
        "\n",
        "7.594444"
       ]
      },
      {
       "output_type": "stream",
       "stream": "stdout",
       "text": [
        "\n",
        "7.6748"
       ]
      },
      {
       "output_type": "stream",
       "stream": "stdout",
       "text": [
        "\n",
        "7.612544"
       ]
      },
      {
       "output_type": "stream",
       "stream": "stdout",
       "text": [
        "\n",
        "7.604261"
       ]
      },
      {
       "output_type": "stream",
       "stream": "stdout",
       "text": [
        "\n",
        "7.631512"
       ]
      },
      {
       "output_type": "stream",
       "stream": "stdout",
       "text": [
        "\n",
        "7.604716"
       ]
      },
      {
       "output_type": "stream",
       "stream": "stdout",
       "text": [
        "\n",
        "7.587012"
       ]
      },
      {
       "output_type": "stream",
       "stream": "stdout",
       "text": [
        "\n",
        "7.623308"
       ]
      },
      {
       "output_type": "stream",
       "stream": "stdout",
       "text": [
        "\n",
        "7.599921"
       ]
      },
      {
       "output_type": "stream",
       "stream": "stdout",
       "text": [
        "\n",
        "7.613407"
       ]
      },
      {
       "output_type": "stream",
       "stream": "stdout",
       "text": [
        "\n",
        "7.608636"
       ]
      },
      {
       "output_type": "stream",
       "stream": "stdout",
       "text": [
        "\n",
        "7.62971"
       ]
      },
      {
       "output_type": "stream",
       "stream": "stdout",
       "text": [
        "\n",
        "7.640747"
       ]
      },
      {
       "output_type": "stream",
       "stream": "stdout",
       "text": [
        "\n",
        "7.611834"
       ]
      },
      {
       "output_type": "stream",
       "stream": "stdout",
       "text": [
        "\n",
        "7.615832"
       ]
      },
      {
       "output_type": "stream",
       "stream": "stdout",
       "text": [
        "\n",
        "7.604275"
       ]
      },
      {
       "output_type": "stream",
       "stream": "stdout",
       "text": [
        "\n",
        "7.615966"
       ]
      },
      {
       "output_type": "stream",
       "stream": "stdout",
       "text": [
        "\n",
        "7.577745"
       ]
      },
      {
       "output_type": "stream",
       "stream": "stdout",
       "text": [
        "\n",
        "7.735758"
       ]
      },
      {
       "output_type": "stream",
       "stream": "stdout",
       "text": [
        "\n",
        "7.640886"
       ]
      },
      {
       "output_type": "stream",
       "stream": "stdout",
       "text": [
        "\n",
        "7.760244"
       ]
      },
      {
       "output_type": "stream",
       "stream": "stdout",
       "text": [
        "\n",
        "7.722273"
       ]
      },
      {
       "output_type": "stream",
       "stream": "stdout",
       "text": [
        "\n",
        "7.709331"
       ]
      },
      {
       "output_type": "stream",
       "stream": "stdout",
       "text": [
        "\n",
        "7.715641"
       ]
      },
      {
       "output_type": "stream",
       "stream": "stdout",
       "text": [
        "\n",
        "7.681692"
       ]
      },
      {
       "output_type": "stream",
       "stream": "stdout",
       "text": [
        "\n",
        "7.710153"
       ]
      },
      {
       "output_type": "stream",
       "stream": "stdout",
       "text": [
        "\n",
        "7.511094"
       ]
      },
      {
       "output_type": "stream",
       "stream": "stdout",
       "text": [
        "\n",
        "7.728962"
       ]
      },
      {
       "output_type": "stream",
       "stream": "stdout",
       "text": [
        "\n",
        "7.697412"
       ]
      },
      {
       "output_type": "stream",
       "stream": "stdout",
       "text": [
        "\n",
        "7.747365"
       ]
      },
      {
       "output_type": "stream",
       "stream": "stdout",
       "text": [
        "\n",
        "7.739561"
       ]
      },
      {
       "output_type": "stream",
       "stream": "stdout",
       "text": [
        "\n",
        "7.723361"
       ]
      },
      {
       "output_type": "stream",
       "stream": "stdout",
       "text": [
        "\n",
        "7.756769"
       ]
      },
      {
       "output_type": "stream",
       "stream": "stdout",
       "text": [
        "\n",
        "7.749082"
       ]
      },
      {
       "output_type": "stream",
       "stream": "stdout",
       "text": [
        "\n",
        "7.746477"
       ]
      },
      {
       "output_type": "stream",
       "stream": "stdout",
       "text": [
        "\n",
        "7.85869"
       ]
      },
      {
       "output_type": "stream",
       "stream": "stdout",
       "text": [
        "\n",
        "7.770162"
       ]
      },
      {
       "output_type": "stream",
       "stream": "stdout",
       "text": [
        "\n",
        "7.771066"
       ]
      },
      {
       "output_type": "stream",
       "stream": "stdout",
       "text": [
        "\n",
        "7.803173"
       ]
      },
      {
       "output_type": "stream",
       "stream": "stdout",
       "text": [
        "\n",
        "7.791322"
       ]
      },
      {
       "output_type": "stream",
       "stream": "stdout",
       "text": [
        "\n",
        "7.772335"
       ]
      },
      {
       "output_type": "stream",
       "stream": "stdout",
       "text": [
        "\n",
        "7.801778"
       ]
      },
      {
       "output_type": "stream",
       "stream": "stdout",
       "text": [
        "\n",
        "7.795341"
       ]
      },
      {
       "output_type": "stream",
       "stream": "stdout",
       "text": [
        "\n",
        "7.794023"
       ]
      },
      {
       "output_type": "stream",
       "stream": "stdout",
       "text": [
        "\n",
        "7.824743"
       ]
      },
      {
       "output_type": "stream",
       "stream": "stdout",
       "text": [
        "\n",
        "7.809687"
       ]
      },
      {
       "output_type": "stream",
       "stream": "stdout",
       "text": [
        "\n",
        "7.796279"
       ]
      },
      {
       "output_type": "stream",
       "stream": "stdout",
       "text": [
        "\n",
        "7.807668"
       ]
      },
      {
       "output_type": "stream",
       "stream": "stdout",
       "text": [
        "\n",
        "7.842828"
       ]
      },
      {
       "output_type": "stream",
       "stream": "stdout",
       "text": [
        "\n",
        "7.809542"
       ]
      },
      {
       "output_type": "stream",
       "stream": "stdout",
       "text": [
        "\n",
        "7.80818"
       ]
      },
      {
       "output_type": "stream",
       "stream": "stdout",
       "text": [
        "\n",
        "7.986572"
       ]
      },
      {
       "output_type": "stream",
       "stream": "stdout",
       "text": [
        "\n",
        "7.849748"
       ]
      },
      {
       "output_type": "stream",
       "stream": "stdout",
       "text": [
        "\n",
        "7.835526"
       ]
      },
      {
       "output_type": "stream",
       "stream": "stdout",
       "text": [
        "\n",
        "7.837694"
       ]
      },
      {
       "output_type": "stream",
       "stream": "stdout",
       "text": [
        "\n",
        "7.846487"
       ]
      },
      {
       "output_type": "stream",
       "stream": "stdout",
       "text": [
        "\n",
        "7.861332"
       ]
      },
      {
       "output_type": "stream",
       "stream": "stdout",
       "text": [
        "\n",
        "7.900347"
       ]
      },
      {
       "output_type": "stream",
       "stream": "stdout",
       "text": [
        "\n",
        "7.840081"
       ]
      },
      {
       "output_type": "stream",
       "stream": "stdout",
       "text": [
        "\n",
        "7.882675"
       ]
      },
      {
       "output_type": "stream",
       "stream": "stdout",
       "text": [
        "\n",
        "7.902245"
       ]
      },
      {
       "output_type": "stream",
       "stream": "stdout",
       "text": [
        "\n",
        "7.897094"
       ]
      },
      {
       "output_type": "stream",
       "stream": "stdout",
       "text": [
        "\n",
        "8.086849"
       ]
      },
      {
       "output_type": "stream",
       "stream": "stdout",
       "text": [
        "\n",
        "8.137139"
       ]
      },
      {
       "output_type": "stream",
       "stream": "stdout",
       "text": [
        "\n",
        "8.156349"
       ]
      },
      {
       "output_type": "stream",
       "stream": "stdout",
       "text": [
        "\n",
        "8.137294"
       ]
      },
      {
       "output_type": "stream",
       "stream": "stdout",
       "text": [
        "\n",
        "8.169704"
       ]
      },
      {
       "output_type": "stream",
       "stream": "stdout",
       "text": [
        "\n",
        "8.160318"
       ]
      },
      {
       "output_type": "stream",
       "stream": "stdout",
       "text": [
        "\n",
        "8.200922"
       ]
      },
      {
       "output_type": "stream",
       "stream": "stdout",
       "text": [
        "\n",
        "8.211012"
       ]
      },
      {
       "output_type": "stream",
       "stream": "stdout",
       "text": [
        "\n",
        "8.21297"
       ]
      },
      {
       "output_type": "stream",
       "stream": "stdout",
       "text": [
        "\n",
        "8.19406"
       ]
      },
      {
       "output_type": "stream",
       "stream": "stdout",
       "text": [
        "\n",
        "8.196406"
       ]
      },
      {
       "output_type": "stream",
       "stream": "stdout",
       "text": [
        "\n",
        "8.19233"
       ]
      },
      {
       "output_type": "stream",
       "stream": "stdout",
       "text": [
        "\n",
        "8.186806"
       ]
      },
      {
       "output_type": "stream",
       "stream": "stdout",
       "text": [
        "\n",
        "8.21519"
       ]
      },
      {
       "output_type": "stream",
       "stream": "stdout",
       "text": [
        "\n",
        "8.240774"
       ]
      },
      {
       "output_type": "stream",
       "stream": "stdout",
       "text": [
        "\n",
        "8.208432"
       ]
      },
      {
       "output_type": "stream",
       "stream": "stdout",
       "text": [
        "\n",
        "8.256955"
       ]
      },
      {
       "output_type": "stream",
       "stream": "stdout",
       "text": [
        "\n",
        "8.251989"
       ]
      },
      {
       "output_type": "stream",
       "stream": "stdout",
       "text": [
        "\n",
        "8.28768"
       ]
      },
      {
       "output_type": "stream",
       "stream": "stdout",
       "text": [
        "\n",
        "8.261594"
       ]
      },
      {
       "output_type": "stream",
       "stream": "stdout",
       "text": [
        "\n",
        "8.202148"
       ]
      },
      {
       "output_type": "stream",
       "stream": "stdout",
       "text": [
        "\n",
        "8.285151"
       ]
      },
      {
       "output_type": "stream",
       "stream": "stdout",
       "text": [
        "\n",
        "8.309041"
       ]
      },
      {
       "output_type": "stream",
       "stream": "stdout",
       "text": [
        "\n",
        "8.255526"
       ]
      },
      {
       "output_type": "stream",
       "stream": "stdout",
       "text": [
        "\n",
        "8.31782"
       ]
      },
      {
       "output_type": "stream",
       "stream": "stdout",
       "text": [
        "\n",
        "8.272419"
       ]
      },
      {
       "output_type": "stream",
       "stream": "stdout",
       "text": [
        "\n",
        "8.262232"
       ]
      },
      {
       "output_type": "stream",
       "stream": "stdout",
       "text": [
        "\n",
        "8.270282"
       ]
      },
      {
       "output_type": "stream",
       "stream": "stdout",
       "text": [
        "\n",
        "8.260396"
       ]
      },
      {
       "output_type": "stream",
       "stream": "stdout",
       "text": [
        "\n",
        "8.330952"
       ]
      },
      {
       "output_type": "stream",
       "stream": "stdout",
       "text": [
        "\n",
        "8.258214"
       ]
      },
      {
       "output_type": "stream",
       "stream": "stdout",
       "text": [
        "\n",
        "8.276121"
       ]
      },
      {
       "output_type": "stream",
       "stream": "stdout",
       "text": [
        "\n",
        "8.312819"
       ]
      },
      {
       "output_type": "stream",
       "stream": "stdout",
       "text": [
        "\n",
        "8.243821"
       ]
      },
      {
       "output_type": "stream",
       "stream": "stdout",
       "text": [
        "\n",
        "8.298583"
       ]
      },
      {
       "output_type": "stream",
       "stream": "stdout",
       "text": [
        "\n",
        "8.302006"
       ]
      },
      {
       "output_type": "stream",
       "stream": "stdout",
       "text": [
        "\n",
        "8.258144"
       ]
      },
      {
       "output_type": "stream",
       "stream": "stdout",
       "text": [
        "\n",
        "8.311572"
       ]
      },
      {
       "output_type": "stream",
       "stream": "stdout",
       "text": [
        "\n",
        "8.279547"
       ]
      },
      {
       "output_type": "stream",
       "stream": "stdout",
       "text": [
        "\n",
        "8.334341"
       ]
      },
      {
       "output_type": "stream",
       "stream": "stdout",
       "text": [
        "\n",
        "8.305638"
       ]
      },
      {
       "output_type": "stream",
       "stream": "stdout",
       "text": [
        "\n",
        "8.315808"
       ]
      },
      {
       "output_type": "stream",
       "stream": "stdout",
       "text": [
        "\n",
        "8.314839"
       ]
      },
      {
       "output_type": "stream",
       "stream": "stdout",
       "text": [
        "\n",
        "8.335442"
       ]
      },
      {
       "output_type": "stream",
       "stream": "stdout",
       "text": [
        "\n",
        "8.335389"
       ]
      },
      {
       "output_type": "stream",
       "stream": "stdout",
       "text": [
        "\n",
        "8.298347"
       ]
      },
      {
       "output_type": "stream",
       "stream": "stdout",
       "text": [
        "\n",
        "8.322311"
       ]
      },
      {
       "output_type": "stream",
       "stream": "stdout",
       "text": [
        "\n",
        "8.318243"
       ]
      },
      {
       "output_type": "stream",
       "stream": "stdout",
       "text": [
        "\n",
        "8.305635"
       ]
      },
      {
       "output_type": "stream",
       "stream": "stdout",
       "text": [
        "\n",
        "8.331279"
       ]
      },
      {
       "output_type": "stream",
       "stream": "stdout",
       "text": [
        "\n",
        "8.363403"
       ]
      },
      {
       "output_type": "stream",
       "stream": "stdout",
       "text": [
        "\n",
        "8.350387"
       ]
      },
      {
       "output_type": "stream",
       "stream": "stdout",
       "text": [
        "\n",
        "8.330956"
       ]
      },
      {
       "output_type": "stream",
       "stream": "stdout",
       "text": [
        "\n",
        "8.311962"
       ]
      },
      {
       "output_type": "stream",
       "stream": "stdout",
       "text": [
        "\n",
        "8.319106"
       ]
      },
      {
       "output_type": "stream",
       "stream": "stdout",
       "text": [
        "\n",
        "8.333957"
       ]
      },
      {
       "output_type": "stream",
       "stream": "stdout",
       "text": [
        "\n",
        "8.376435"
       ]
      },
      {
       "output_type": "stream",
       "stream": "stdout",
       "text": [
        "\n",
        "8.322762"
       ]
      },
      {
       "output_type": "stream",
       "stream": "stdout",
       "text": [
        "\n",
        "8.402043"
       ]
      },
      {
       "output_type": "stream",
       "stream": "stdout",
       "text": [
        "\n",
        "8.363568"
       ]
      },
      {
       "output_type": "stream",
       "stream": "stdout",
       "text": [
        "\n",
        "8.348278"
       ]
      },
      {
       "output_type": "stream",
       "stream": "stdout",
       "text": [
        "\n",
        "8.410232"
       ]
      },
      {
       "output_type": "stream",
       "stream": "stdout",
       "text": [
        "\n",
        "8.449418"
       ]
      },
      {
       "output_type": "stream",
       "stream": "stdout",
       "text": [
        "\n",
        "8.374706"
       ]
      },
      {
       "output_type": "stream",
       "stream": "stdout",
       "text": [
        "\n",
        "8.386841"
       ]
      },
      {
       "output_type": "stream",
       "stream": "stdout",
       "text": [
        "\n",
        "8.365766"
       ]
      },
      {
       "output_type": "stream",
       "stream": "stdout",
       "text": [
        "\n",
        "8.391749"
       ]
      },
      {
       "output_type": "stream",
       "stream": "stdout",
       "text": [
        "\n",
        "8.392462"
       ]
      },
      {
       "output_type": "stream",
       "stream": "stdout",
       "text": [
        "\n",
        "8.394338"
       ]
      },
      {
       "output_type": "stream",
       "stream": "stdout",
       "text": [
        "\n",
        "8.440246"
       ]
      },
      {
       "output_type": "stream",
       "stream": "stdout",
       "text": [
        "\n",
        "8.450912"
       ]
      },
      {
       "output_type": "stream",
       "stream": "stdout",
       "text": [
        "\n",
        "8.418702"
       ]
      },
      {
       "output_type": "stream",
       "stream": "stdout",
       "text": [
        "\n",
        "8.423313"
       ]
      },
      {
       "output_type": "stream",
       "stream": "stdout",
       "text": [
        "\n",
        "8.454907"
       ]
      },
      {
       "output_type": "stream",
       "stream": "stdout",
       "text": [
        "\n",
        "8.424013"
       ]
      },
      {
       "output_type": "stream",
       "stream": "stdout",
       "text": [
        "\n",
        "8.445671"
       ]
      },
      {
       "output_type": "stream",
       "stream": "stdout",
       "text": [
        "\n",
        "8.456981"
       ]
      },
      {
       "output_type": "stream",
       "stream": "stdout",
       "text": [
        "\n",
        "8.467657"
       ]
      },
      {
       "output_type": "stream",
       "stream": "stdout",
       "text": [
        "\n",
        "8.440272"
       ]
      },
      {
       "output_type": "stream",
       "stream": "stdout",
       "text": [
        "\n",
        "8.452579"
       ]
      },
      {
       "output_type": "stream",
       "stream": "stdout",
       "text": [
        "\n",
        "8.438548"
       ]
      },
      {
       "output_type": "stream",
       "stream": "stdout",
       "text": [
        "\n",
        "8.427075"
       ]
      },
      {
       "output_type": "stream",
       "stream": "stdout",
       "text": [
        "\n",
        "8.598103"
       ]
      },
      {
       "output_type": "stream",
       "stream": "stdout",
       "text": [
        "\n",
        "8.468143"
       ]
      },
      {
       "output_type": "stream",
       "stream": "stdout",
       "text": [
        "\n",
        "8.471925"
       ]
      },
      {
       "output_type": "stream",
       "stream": "stdout",
       "text": [
        "\n",
        "8.496709"
       ]
      },
      {
       "output_type": "stream",
       "stream": "stdout",
       "text": [
        "\n",
        "8.489252"
       ]
      },
      {
       "output_type": "stream",
       "stream": "stdout",
       "text": [
        "\n",
        "8.513193"
       ]
      },
      {
       "output_type": "stream",
       "stream": "stdout",
       "text": [
        "\n",
        "8.523146"
       ]
      },
      {
       "output_type": "stream",
       "stream": "stdout",
       "text": [
        "\n",
        "8.530281"
       ]
      },
      {
       "output_type": "stream",
       "stream": "stdout",
       "text": [
        "\n",
        "8.471769"
       ]
      },
      {
       "output_type": "stream",
       "stream": "stdout",
       "text": [
        "\n",
        "8.520113"
       ]
      },
      {
       "output_type": "stream",
       "stream": "stdout",
       "text": [
        "\n",
        "8.471283"
       ]
      },
      {
       "output_type": "stream",
       "stream": "stdout",
       "text": [
        "\n",
        "8.54974"
       ]
      },
      {
       "output_type": "stream",
       "stream": "stdout",
       "text": [
        "\n",
        "8.567119"
       ]
      },
      {
       "output_type": "stream",
       "stream": "stdout",
       "text": [
        "\n",
        "8.547866"
       ]
      },
      {
       "output_type": "stream",
       "stream": "stdout",
       "text": [
        "\n",
        "8.373436"
       ]
      },
      {
       "output_type": "stream",
       "stream": "stdout",
       "text": [
        "\n",
        "8.552455"
       ]
      },
      {
       "output_type": "stream",
       "stream": "stdout",
       "text": [
        "\n",
        "8.620921"
       ]
      },
      {
       "output_type": "stream",
       "stream": "stdout",
       "text": [
        "\n",
        "8.813225"
       ]
      },
      {
       "output_type": "stream",
       "stream": "stdout",
       "text": [
        "\n",
        "8.839763"
       ]
      },
      {
       "output_type": "stream",
       "stream": "stdout",
       "text": [
        "\n",
        "8.84132"
       ]
      },
      {
       "output_type": "stream",
       "stream": "stdout",
       "text": [
        "\n",
        "8.833777"
       ]
      },
      {
       "output_type": "stream",
       "stream": "stdout",
       "text": [
        "\n",
        "8.924934"
       ]
      },
      {
       "output_type": "stream",
       "stream": "stdout",
       "text": [
        "\n",
        "8.880682"
       ]
      },
      {
       "output_type": "stream",
       "stream": "stdout",
       "text": [
        "\n",
        "8.864604"
       ]
      },
      {
       "output_type": "stream",
       "stream": "stdout",
       "text": [
        "\n",
        "8.867055"
       ]
      },
      {
       "output_type": "stream",
       "stream": "stdout",
       "text": [
        "\n",
        "8.874371"
       ]
      },
      {
       "output_type": "stream",
       "stream": "stdout",
       "text": [
        "\n",
        "8.937222"
       ]
      },
      {
       "output_type": "stream",
       "stream": "stdout",
       "text": [
        "\n",
        "8.876297"
       ]
      },
      {
       "output_type": "stream",
       "stream": "stdout",
       "text": [
        "\n",
        "8.902705"
       ]
      },
      {
       "output_type": "stream",
       "stream": "stdout",
       "text": [
        "\n",
        "8.868102"
       ]
      },
      {
       "output_type": "stream",
       "stream": "stdout",
       "text": [
        "\n",
        "8.887236"
       ]
      },
      {
       "output_type": "stream",
       "stream": "stdout",
       "text": [
        "\n",
        "8.873282"
       ]
      },
      {
       "output_type": "stream",
       "stream": "stdout",
       "text": [
        "\n",
        "8.956232"
       ]
      },
      {
       "output_type": "stream",
       "stream": "stdout",
       "text": [
        "\n",
        "8.960093"
       ]
      },
      {
       "output_type": "stream",
       "stream": "stdout",
       "text": [
        "\n",
        "8.994312"
       ]
      },
      {
       "output_type": "stream",
       "stream": "stdout",
       "text": [
        "\n",
        "8.889892"
       ]
      },
      {
       "output_type": "stream",
       "stream": "stdout",
       "text": [
        "\n",
        "9.027296"
       ]
      },
      {
       "output_type": "stream",
       "stream": "stdout",
       "text": [
        "\n",
        "8.928042"
       ]
      },
      {
       "output_type": "stream",
       "stream": "stdout",
       "text": [
        "\n",
        "8.939027"
       ]
      },
      {
       "output_type": "stream",
       "stream": "stdout",
       "text": [
        "\n",
        "9.020381"
       ]
      },
      {
       "output_type": "stream",
       "stream": "stdout",
       "text": [
        "\n",
        "8.936298"
       ]
      },
      {
       "output_type": "stream",
       "stream": "stdout",
       "text": [
        "\n",
        "8.912758"
       ]
      },
      {
       "output_type": "stream",
       "stream": "stdout",
       "text": [
        "\n",
        "8.993967"
       ]
      },
      {
       "output_type": "stream",
       "stream": "stdout",
       "text": [
        "\n",
        "8.953056"
       ]
      },
      {
       "output_type": "stream",
       "stream": "stdout",
       "text": [
        "\n",
        "8.974465"
       ]
      },
      {
       "output_type": "stream",
       "stream": "stdout",
       "text": [
        "\n",
        "8.977021"
       ]
      },
      {
       "output_type": "stream",
       "stream": "stdout",
       "text": [
        "\n",
        "8.947734"
       ]
      },
      {
       "output_type": "stream",
       "stream": "stdout",
       "text": [
        "\n",
        "8.974382"
       ]
      },
      {
       "output_type": "stream",
       "stream": "stdout",
       "text": [
        "\n",
        "8.963295"
       ]
      },
      {
       "output_type": "stream",
       "stream": "stdout",
       "text": [
        "\n",
        "8.977784"
       ]
      },
      {
       "output_type": "stream",
       "stream": "stdout",
       "text": [
        "\n",
        "8.968459"
       ]
      },
      {
       "output_type": "stream",
       "stream": "stdout",
       "text": [
        "\n",
        "8.996863"
       ]
      },
      {
       "output_type": "stream",
       "stream": "stdout",
       "text": [
        "\n",
        "8.975376"
       ]
      },
      {
       "output_type": "stream",
       "stream": "stdout",
       "text": [
        "\n",
        "9.003247"
       ]
      },
      {
       "output_type": "stream",
       "stream": "stdout",
       "text": [
        "\n",
        "8.969079"
       ]
      },
      {
       "output_type": "stream",
       "stream": "stdout",
       "text": [
        "\n",
        "8.997839"
       ]
      },
      {
       "output_type": "stream",
       "stream": "stdout",
       "text": [
        "\n",
        "8.975588"
       ]
      },
      {
       "output_type": "stream",
       "stream": "stdout",
       "text": [
        "\n",
        "8.996125"
       ]
      },
      {
       "output_type": "stream",
       "stream": "stdout",
       "text": [
        "\n",
        "9.050274"
       ]
      },
      {
       "output_type": "stream",
       "stream": "stdout",
       "text": [
        "\n",
        "9.010719"
       ]
      },
      {
       "output_type": "stream",
       "stream": "stdout",
       "text": [
        "\n",
        "8.984001"
       ]
      },
      {
       "output_type": "stream",
       "stream": "stdout",
       "text": [
        "\n",
        "8.993213"
       ]
      },
      {
       "output_type": "stream",
       "stream": "stdout",
       "text": [
        "\n",
        "8.996742"
       ]
      },
      {
       "output_type": "stream",
       "stream": "stdout",
       "text": [
        "\n",
        "9.072024"
       ]
      },
      {
       "output_type": "stream",
       "stream": "stdout",
       "text": [
        "\n",
        "9.012566"
       ]
      },
      {
       "output_type": "stream",
       "stream": "stdout",
       "text": [
        "\n",
        "8.978716"
       ]
      },
      {
       "output_type": "stream",
       "stream": "stdout",
       "text": [
        "\n",
        "9.060414"
       ]
      },
      {
       "output_type": "stream",
       "stream": "stdout",
       "text": [
        "\n",
        "8.98368"
       ]
      },
      {
       "output_type": "stream",
       "stream": "stdout",
       "text": [
        "\n",
        "8.99598"
       ]
      },
      {
       "output_type": "stream",
       "stream": "stdout",
       "text": [
        "\n",
        "9.060023"
       ]
      },
      {
       "output_type": "stream",
       "stream": "stdout",
       "text": [
        "\n",
        "9.021181"
       ]
      },
      {
       "output_type": "stream",
       "stream": "stdout",
       "text": [
        "\n",
        "9.02072"
       ]
      },
      {
       "output_type": "stream",
       "stream": "stdout",
       "text": [
        "\n",
        "9.018082"
       ]
      },
      {
       "output_type": "stream",
       "stream": "stdout",
       "text": [
        "\n",
        "9.098557"
       ]
      },
      {
       "output_type": "stream",
       "stream": "stdout",
       "text": [
        "\n",
        "9.064406"
       ]
      },
      {
       "output_type": "stream",
       "stream": "stdout",
       "text": [
        "\n",
        "9.035175"
       ]
      },
      {
       "output_type": "stream",
       "stream": "stdout",
       "text": [
        "\n",
        "9.024873"
       ]
      },
      {
       "output_type": "stream",
       "stream": "stdout",
       "text": [
        "\n",
        "9.06175"
       ]
      },
      {
       "output_type": "stream",
       "stream": "stdout",
       "text": [
        "\n",
        "8.9973"
       ]
      },
      {
       "output_type": "stream",
       "stream": "stdout",
       "text": [
        "\n",
        "8.778533"
       ]
      },
      {
       "output_type": "stream",
       "stream": "stdout",
       "text": [
        "\n",
        "9.050822"
       ]
      },
      {
       "output_type": "stream",
       "stream": "stdout",
       "text": [
        "\n",
        "9.087199"
       ]
      },
      {
       "output_type": "stream",
       "stream": "stdout",
       "text": [
        "\n",
        "9.06924"
       ]
      },
      {
       "output_type": "stream",
       "stream": "stdout",
       "text": [
        "\n",
        "9.104685"
       ]
      },
      {
       "output_type": "stream",
       "stream": "stdout",
       "text": [
        "\n",
        "9.072283"
       ]
      },
      {
       "output_type": "stream",
       "stream": "stdout",
       "text": [
        "\n",
        "9.068884"
       ]
      },
      {
       "output_type": "stream",
       "stream": "stdout",
       "text": [
        "\n",
        "9.095505"
       ]
      },
      {
       "output_type": "stream",
       "stream": "stdout",
       "text": [
        "\n",
        "9.082341"
       ]
      },
      {
       "output_type": "stream",
       "stream": "stdout",
       "text": [
        "\n",
        "9.137316"
       ]
      },
      {
       "output_type": "stream",
       "stream": "stdout",
       "text": [
        "\n",
        "9.181692"
       ]
      },
      {
       "output_type": "stream",
       "stream": "stdout",
       "text": [
        "\n",
        "9.133352"
       ]
      },
      {
       "output_type": "stream",
       "stream": "stdout",
       "text": [
        "\n",
        "9.138131"
       ]
      },
      {
       "output_type": "stream",
       "stream": "stdout",
       "text": [
        "\n",
        "9.129777"
       ]
      },
      {
       "output_type": "stream",
       "stream": "stdout",
       "text": [
        "\n",
        "9.124001"
       ]
      },
      {
       "output_type": "stream",
       "stream": "stdout",
       "text": [
        "\n",
        "9.135541"
       ]
      },
      {
       "output_type": "stream",
       "stream": "stdout",
       "text": [
        "\n",
        "9.121033"
       ]
      },
      {
       "output_type": "stream",
       "stream": "stdout",
       "text": [
        "\n",
        "5598.640059\n"
       ]
      }
     ],
     "prompt_number": 15
    },
    {
     "cell_type": "heading",
     "level": 2,
     "metadata": {},
     "source": [
      "Preforming Basic Science on the Instance Catalogs"
     ]
    },
    {
     "cell_type": "heading",
     "level": 3,
     "metadata": {},
     "source": [
      "Reading in the Instance Catalogs"
     ]
    },
    {
     "cell_type": "markdown",
     "metadata": {},
     "source": [
      "With the last section, our set of instance catalogs are created for the desired observations and exported for long-term storage. However, we would now like to read in the data to do some basic science with it. To do so, we run the following command:"
     ]
    },
    {
     "cell_type": "code",
     "collapsed": false,
     "input": [],
     "language": "python",
     "metadata": {},
     "outputs": []
    },
    {
     "cell_type": "code",
     "collapsed": false,
     "input": [
      "PrimaryDir = 'TestCats/QuickSurvey_R%.2f' %(AperatureRadius)\n",
      "CatDir = 'Catalogs'\n",
      "\n",
      "dtype = numpy.dtype([('AGNID', int), ('redshift', float), \\\n",
      "                     ('raJ2000', float), ('decJ2000', float), \\\n",
      "                     ('ObsAgn', float), ('sigma_ObsAgn', float), \\\n",
      "                    ])\n",
      "AGNData = [[] for _ in xrange(NumOfPointings)]\n",
      "PointingIndex=0\n",
      "for Pointing in ObMetaData:\n",
      "    PointingDir = 'RA[%.2f]_DEC[%.2f]' %(Pointing[0].unrefractedRA, Pointing[0].unrefractedDec)\n",
      "    WorkingDir = PrimaryDir+'/'+CatDir+'/'+PointingDir\n",
      "    for Observation in Pointing:\n",
      "        #AGNData[PointingIndex].append(Observation.bandpass)\n",
      "        CatFileName = 'LSSTAGN_%.5f.txt' %(Observation.mjd)\n",
      "        InstCat = numpy.loadtxt(WorkingDir+'/'+CatFileName, delimiter=',', dtype=dtype, skiprows=20)\n",
      "        AGNData[PointingIndex].append(InstCat)\n",
      "    PointingIndex+=1"
     ],
     "language": "python",
     "metadata": {},
     "outputs": [
      {
       "ename": "NameError",
       "evalue": "name 'AperatureRadius' is not defined",
       "output_type": "pyerr",
       "traceback": [
        "\u001b[0;31m---------------------------------------------------------------------------\u001b[0m\n\u001b[0;31mNameError\u001b[0m                                 Traceback (most recent call last)",
        "\u001b[0;32m<ipython-input-1-b49ac584bdf2>\u001b[0m in \u001b[0;36m<module>\u001b[0;34m()\u001b[0m\n\u001b[0;32m----> 1\u001b[0;31m \u001b[0mPrimaryDir\u001b[0m \u001b[0;34m=\u001b[0m \u001b[0;34m'TestCats/QuickSurvey_R%.2f'\u001b[0m \u001b[0;34m%\u001b[0m\u001b[0;34m(\u001b[0m\u001b[0mAperatureRadius\u001b[0m\u001b[0;34m)\u001b[0m\u001b[0;34m\u001b[0m\u001b[0m\n\u001b[0m\u001b[1;32m      2\u001b[0m \u001b[0mCatDir\u001b[0m \u001b[0;34m=\u001b[0m \u001b[0;34m'Catalogs'\u001b[0m\u001b[0;34m\u001b[0m\u001b[0m\n\u001b[1;32m      3\u001b[0m \u001b[0;34m\u001b[0m\u001b[0m\n\u001b[1;32m      4\u001b[0m \u001b[0mdtype\u001b[0m \u001b[0;34m=\u001b[0m \u001b[0mnumpy\u001b[0m\u001b[0;34m.\u001b[0m\u001b[0mdtype\u001b[0m\u001b[0;34m(\u001b[0m\u001b[0;34m[\u001b[0m\u001b[0;34m(\u001b[0m\u001b[0;34m'AGNID'\u001b[0m\u001b[0;34m,\u001b[0m \u001b[0mint\u001b[0m\u001b[0;34m)\u001b[0m\u001b[0;34m,\u001b[0m \u001b[0;34m(\u001b[0m\u001b[0;34m'redshift'\u001b[0m\u001b[0;34m,\u001b[0m \u001b[0mfloat\u001b[0m\u001b[0;34m)\u001b[0m\u001b[0;34m,\u001b[0m                      \u001b[0;34m(\u001b[0m\u001b[0;34m'raJ2000'\u001b[0m\u001b[0;34m,\u001b[0m \u001b[0mfloat\u001b[0m\u001b[0;34m)\u001b[0m\u001b[0;34m,\u001b[0m \u001b[0;34m(\u001b[0m\u001b[0;34m'decJ2000'\u001b[0m\u001b[0;34m,\u001b[0m \u001b[0mfloat\u001b[0m\u001b[0;34m)\u001b[0m\u001b[0;34m,\u001b[0m                      \u001b[0;34m(\u001b[0m\u001b[0;34m'ObsAgn'\u001b[0m\u001b[0;34m,\u001b[0m \u001b[0mfloat\u001b[0m\u001b[0;34m)\u001b[0m\u001b[0;34m,\u001b[0m \u001b[0;34m(\u001b[0m\u001b[0;34m'sigma_ObsAgn'\u001b[0m\u001b[0;34m,\u001b[0m \u001b[0mfloat\u001b[0m\u001b[0;34m)\u001b[0m\u001b[0;34m,\u001b[0m                     \u001b[0;34m]\u001b[0m\u001b[0;34m)\u001b[0m\u001b[0;34m\u001b[0m\u001b[0m\n\u001b[1;32m      5\u001b[0m \u001b[0mAGNData\u001b[0m \u001b[0;34m=\u001b[0m \u001b[0;34m[\u001b[0m\u001b[0;34m[\u001b[0m\u001b[0;34m]\u001b[0m \u001b[0;32mfor\u001b[0m \u001b[0m_\u001b[0m \u001b[0;32min\u001b[0m \u001b[0mxrange\u001b[0m\u001b[0;34m(\u001b[0m\u001b[0mNumOfPointings\u001b[0m\u001b[0;34m)\u001b[0m\u001b[0;34m]\u001b[0m\u001b[0;34m\u001b[0m\u001b[0m\n",
        "\u001b[0;31mNameError\u001b[0m: name 'AperatureRadius' is not defined"
       ]
      }
     ],
     "prompt_number": 1
    },
    {
     "cell_type": "markdown",
     "metadata": {},
     "source": [
      "Now, let us check to make sure we've read in the data correctly by counting the number of AGNS found and creating an array of their IDs."
     ]
    },
    {
     "cell_type": "code",
     "collapsed": false,
     "input": [
      "AGNIDList = []\n",
      "for Pointing in AGNData:\n",
      "    AGNIDList.extend(Pointing[0]['AGNID'])\n",
      "TotalNumOfAGN = len(AGNIDList)\n",
      "print TotalNumOfAGN"
     ],
     "language": "python",
     "metadata": {},
     "outputs": [
      {
       "output_type": "stream",
       "stream": "stdout",
       "text": [
        "452\n"
       ]
      }
     ],
     "prompt_number": 239
    },
    {
     "cell_type": "code",
     "collapsed": false,
     "input": [
      "print AGNData[0][11]"
     ],
     "language": "python",
     "metadata": {},
     "outputs": [
      {
       "output_type": "stream",
       "stream": "stdout",
       "text": [
        "[(794958, 0.5822, 43.9132, -42.5805, 22.2431, 0.0341)\n",
        " (832045, 0.5825, 43.9115, -42.6101, 20.9745, 0.012)\n",
        " (634223, 0.3184, 43.9467, -42.6547, 23.1956, 0.0776)\n",
        " (845008, 1.8915, 43.9501, -42.6938, 22.0992, 0.0302)\n",
        " (764569, 0.326, 43.9439, -42.7233, 21.1486, 0.0138)\n",
        " (892769, 2.6302, 43.9897, -42.7122, 20.4353, 0.008)\n",
        " (742933, 0.6408, 43.9664, -42.6654, 23.3639, 0.0897)\n",
        " (894576, 3.1586, 43.9651, -42.6709, 19.5999, 0.0045)\n",
        " (864756, 2.2325, 43.9296, -42.7805, 19.4393, 0.0041)\n",
        " (888312, 1.9338, 43.9523, -42.798, 21.1602, 0.0139)\n",
        " (855076, 1.7584, 43.9958, -42.8416, 20.9308, 0.0116)\n",
        " (843570, 1.0712, 43.9713, -42.8734, 20.8826, 0.0112)\n",
        " (738724, 0.3812, 43.9719, -42.8692, 22.4921, 0.0422)\n",
        " (667055, 0.3812, 43.9805, -42.8766, 23.7005, 0.1199)\n",
        " (716053, 0.3168, 43.9406, -42.9304, 22.1566, 0.0317)\n",
        " (804686, 0.7403, 43.8372, -42.5477, 22.2681, 0.0348)\n",
        " (820486, 0.7229, 43.8311, -42.5515, 21.8487, 0.0244)\n",
        " (817430, 1.0545, 43.6901, -42.4753, 22.0466, 0.0289)\n",
        " (863909, 0.9748, 43.7154, -42.4784, 18.2824, 0.0021)\n",
        " (809513, 0.7916, 43.6945, -42.5739, 22.3306, 0.0367)\n",
        " (860282, 1.1012, 43.7581, -42.5125, 19.253, 0.0036)\n",
        " (340740, 0.2229, 43.4822, -42.3175, 24.6794, 0.2721)\n",
        " (844128, 1.7766, 43.521, -42.3172, 22.0406, 0.0287)\n",
        " (819829, 1.0964, 43.559, -42.3297, 21.9691, 0.027)\n",
        " (834476, 1.0174, 43.5709, -42.3615, 21.6098, 0.02)\n",
        " (846226, 1.6674, 43.5449, -42.3849, 21.7905, 0.0233)\n",
        " (858384, 2.5415, 43.4695, -42.5759, 21.5543, 0.0191)\n",
        " (770930, 0.4049, 43.4347, -42.535, 22.1479, 0.0314)\n",
        " (840746, 0.8873, 43.4489, -42.5471, 20.6289, 0.0092)\n",
        " (850282, 1.0341, 43.4913, -42.5673, 20.3354, 0.0074)\n",
        " (860332, 1.5889, 43.4413, -42.4673, 20.2287, 0.0069)\n",
        " (815688, 0.7779, 43.5058, -42.4785, 22.1647, 0.0319)\n",
        " (892681, 1.6489, 43.4746, -42.5255, 19.379, 0.0039)\n",
        " (763059, 0.7038, 43.4857, -42.498, 22.8893, 0.0595)\n",
        " (854380, 0.5279, 43.5367, -42.5518, 18.9708, 0.0031)\n",
        " (692006, 0.403, 43.4476, -42.418, 23.1056, 0.0718)\n",
        " (813160, 0.9133, 43.4815, -42.4411, 22.2797, 0.0352)\n",
        " (853006, 1.49, 43.4681, -42.4235, 21.0642, 0.0129)\n",
        " (890782, 3.573, 43.5343, -42.4638, 21.3811, 0.0166)\n",
        " (748785, 0.6566, 43.6431, -42.5557, 23.5341, 0.1039)\n",
        " (857070, 0.8539, 43.6524, -42.5144, 19.3354, 0.0038)\n",
        " (829113, 1.4187, 43.6256, -42.5091, 22.5987, 0.0463)\n",
        " (836238, 1.4034, 43.5614, -42.4076, 22.0797, 0.0297)\n",
        " (864371, 1.4013, 43.6424, -42.4606, 18.7597, 0.0027)\n",
        " (839461, 1.8193, 43.637, -42.4825, 22.6857, 0.0499)\n",
        " (708482, 0.4196, 43.5582, -42.4717, 23.2252, 0.0796)\n",
        " (798331, 0.5693, 43.0832, -42.2021, 22.4773, 0.0417)\n",
        " (858188, 3.0126, 43.1028, -42.195, 21.7193, 0.0219)\n",
        " (836134, 0.9324, 43.3661, -42.2297, 21.2598, 0.0151)\n",
        " (501076, 0.2271, 43.1977, -42.1683, 23.2813, 0.0835)\n",
        " (705826, 0.344, 43.2025, -42.1713, 22.1378, 0.0312)\n",
        " (789063, 0.7976, 43.1806, -42.1489, 22.4332, 0.0401)\n",
        " (803585, 0.4656, 42.9853, -42.588, 21.2565, 0.015)\n",
        " (841383, 1.6875, 43.0773, -42.5399, 21.9966, 0.0277)\n",
        " (893942, 4.9558, 43.1094, -42.5545, 21.1245, 0.0135)\n",
        " (857416, 1.7855, 42.9873, -42.4751, 20.8287, 0.0107)\n",
        " (853015, 1.5584, 43.0722, -42.5027, 21.2669, 0.0151)\n",
        " (856586, 1.0223, 43.0624, -42.5019, 19.6565, 0.0047)\n",
        " (852939, 1.0223, 43.0602, -42.504, 20.3862, 0.0077)\n",
        " (858806, 2.4556, 43.064, -42.5186, 21.461, 0.0177)\n",
        " (819757, 0.868, 43.0587, -42.5495, 22.0529, 0.029)\n",
        " (818300, 1.2494, 43.0315, -42.5513, 22.7724, 0.0538)\n",
        " (860287, 1.1185, 43.0472, -42.534, 19.6232, 0.0046)\n",
        " (837227, 1.0229, 43.0241, -42.5263, 21.4088, 0.017)\n",
        " (738748, 0.4763, 43.3147, -42.5545, 22.8949, 0.0598)\n",
        " (851770, 1.8667, 43.3549, -42.5642, 21.6577, 0.0208)\n",
        " (818115, 0.6328, 43.3593, -42.5741, 21.2043, 0.0144)\n",
        " (857374, 1.3365, 43.244, -42.5849, 20.1298, 0.0064)\n",
        " (686133, 0.4727, 43.2469, -42.5761, 23.1254, 0.073)\n",
        " (821215, 0.5856, 43.2196, -42.5142, 21.5317, 0.0188)\n",
        " (835082, 1.2239, 43.2812, -42.5603, 22.0235, 0.0283)\n",
        " (862421, 3.1006, 43.0254, -42.3009, 20.6339, 0.0093)\n",
        " (835509, 0.5893, 43.0242, -42.2951, 20.8944, 0.0113)\n",
        " (865232, 1.6751, 42.9987, -42.4056, 18.3967, 0.0022)\n",
        " (851731, 1.6126, 42.9898, -42.4057, 20.94, 0.0117)\n",
        " (832761, 1.1014, 43.1093, -42.4078, 21.9289, 0.0261)\n",
        " (560241, 0.1392, 43.0847, -42.3776, 21.7219, 0.022)\n",
        " (851612, 0.7624, 43.1104, -42.3703, 19.91, 0.0055)\n",
        " (727944, 0.5007, 42.9905, -42.3308, 23.3283, 0.087)\n",
        " (873748, 0.2216, 43.1275, -42.4209, 21.3715, 0.0165)\n",
        " (856702, 2.0422, 43.1219, -42.4287, 21.1467, 0.0138)\n",
        " (769475, 0.655, 43.111, -42.4295, 23.0431, 0.068)\n",
        " (846121, 1.0536, 43.1336, -42.4533, 20.4104, 0.0078)\n",
        " (828454, 1.3231, 42.9928, -42.4312, 22.2918, 0.0356)\n",
        " (750577, 0.4455, 43.059, -42.4832, 22.465, 0.0412)\n",
        " (804593, 0.4059, 43.1409, -42.5473, 21.0275, 0.0125)\n",
        " (859155, 1.5507, 43.1601, -42.5468, 20.2313, 0.0069)\n",
        " (854318, 2.8421, 43.1834, -42.5269, 22.0805, 0.0297)\n",
        " (827650, 0.7522, 43.1194, -42.5297, 21.6943, 0.0215)\n",
        " (887517, 1.306, 43.1273, -42.5154, 21.0095, 0.0123)\n",
        " (841311, 1.2691, 43.1351, -42.52, 21.5006, 0.0183)\n",
        " (590667, 0.26, 43.0834, -42.475, 22.8017, 0.0552)\n",
        " (818917, 0.6581, 43.0772, -42.4698, 21.8525, 0.0245)\n",
        " (862739, 1.5437, 43.1021, -42.4921, 19.4777, 0.0042)\n",
        " (801556, 0.6144, 43.0874, -42.4428, 22.0635, 0.0293)\n",
        " (807593, 0.6464, 43.0562, -42.264, 21.6634, 0.0209)\n",
        " (800462, 0.5051, 43.1806, -42.3952, 22.0801, 0.0297)\n",
        " (842792, 1.7275, 43.1169, -42.3261, 22.1535, 0.0316)\n",
        " (893426, 0.5279, 43.16, -42.3613, 17.0853, 0.0011)\n",
        " (845801, 1.6144, 43.1742, -42.2889, 21.6621, 0.0209)\n",
        " (756050, 0.4166, 43.0749, -42.3239, 22.2222, 0.0335)\n",
        " (840948, 1.9437, 43.1091, -42.306, 22.1504, 0.0315)\n",
        " (849621, 1.3389, 43.1114, -42.2807, 20.796, 0.0105)\n",
        " (694911, 0.4749, 43.1196, -42.2845, 23.5365, 0.1041)\n",
        " (804665, 0.7132, 43.3791, -42.4997, 21.9628, 0.0269)\n",
        " (779731, 0.5528, 43.3671, -42.5212, 22.4064, 0.0392)\n",
        " (822703, 0.5373, 43.3931, -42.5142, 20.7856, 0.0104)\n",
        " (697650, 0.3227, 43.3855, -42.508, 23.224, 0.0795)\n",
        " (859805, 2.1447, 43.4245, -42.4172, 20.9166, 0.0115)\n",
        " (798425, 0.8424, 43.4265, -42.4404, 22.6916, 0.0501)\n",
        " (842113, 0.4178, 43.4036, -42.412, 19.2995, 0.0037)\n",
        " (834505, 1.1079, 43.3981, -42.472, 21.5655, 0.0193)\n",
        " (896090, 3.6259, 43.3013, -42.4787, 18.5019, 0.0023)\n",
        " (742822, 0.4174, 43.2552, -42.4343, 22.6824, 0.0497)\n",
        " (807532, 0.4047, 43.3762, -42.4946, 20.9421, 0.0117)\n",
        " (736644, 0.421, 43.3348, -42.4605, 23.0275, 0.0671)\n",
        " (708450, 0.3483, 43.4036, -42.3215, 22.5843, 0.0457)\n",
        " (761260, 0.4161, 43.4141, -42.3383, 22.1168, 0.0306)\n",
        " (653117, 0.3468, 43.3217, -42.3296, 23.6324, 0.1131)\n",
        " (452122, 0.214, 43.3792, -42.3141, 22.9182, 0.061)\n",
        " (642029, 0.3919, 43.316, -42.2775, 23.568, 0.107)\n",
        " (736679, 0.475, 43.3285, -42.3393, 22.9578, 0.0631)\n",
        " (886357, 1.8915, 43.3505, -42.3974, 22.4477, 0.0406)\n",
        " (885416, 0.7169, 43.3136, -42.376, 20.7841, 0.0104)\n",
        " (831550, 1.0905, 43.1969, -42.2492, 21.5182, 0.0186)\n",
        " (817267, 0.4178, 43.2391, -42.3089, 20.8381, 0.0108)\n",
        " (746763, 0.4179, 43.2928, -42.3995, 22.751, 0.0528)\n",
        " (852336, 1.2359, 43.2606, -42.3893, 20.403, 0.0078)\n",
        " (829017, 0.9973, 43.3016, -42.3698, 21.632, 0.0204)\n",
        " (804592, 0.4177, 43.2942, -42.3736, 20.9339, 0.0116)\n",
        " (885032, 0.4179, 43.2882, -42.3805, 19.6556, 0.0047)\n",
        " (727993, 0.5823, 43.8972, -42.5889, 23.07, 0.0696)\n",
        " (811290, 0.5824, 43.8984, -42.6186, 22.0961, 0.0301)\n",
        " (787741, 0.6411, 43.9089, -42.6758, 22.5488, 0.0443)\n",
        " (893493, 0.6417, 43.8336, -42.67, 17.6493, 0.0015)\n",
        " (849648, 1.5361, 43.7939, -42.6404, 21.4116, 0.017)\n",
        " (740774, 0.3813, 43.8109, -42.6418, 22.1819, 0.0324)\n",
        " (850361, 1.5201, 43.5342, -42.6404, 21.2046, 0.0144)\n",
        " (622007, 0.3127, 43.5455, -42.5898, 23.0875, 0.0706)\n",
        " (832213, 1.2917, 43.4937, -42.588, 22.0871, 0.0299)\n",
        " (689056, 0.3799, 43.6759, -42.7392, 23.0105, 0.0661)\n",
        " (847449, 1.7855, 43.6521, -42.7246, 21.4391, 0.0174)\n",
        " (894827, 2.4161, 43.6239, -42.6703, 19.0684, 0.0032)\n",
        " (865260, 1.6001, 43.6398, -42.6784, 18.2666, 0.0021)\n",
        " (813969, 0.6948, 43.6086, -42.6735, 21.4999, 0.0183)\n",
        " (893049, 2.6941, 43.6002, -42.5847, 20.0615, 0.0061)\n",
        " (886972, 1.223, 43.6201, -42.6387, 21.1313, 0.0136)\n",
        " (642031, 0.3812, 43.5559, -42.6022, 23.398, 0.0924)\n",
        " (892003, 0.9018, 43.5753, -42.6057, 18.6686, 0.0026)\n",
        " (772509, 0.5667, 43.9191, -42.9267, 22.2351, 0.0339)\n",
        " (565583, 0.2751, 43.8906, -42.876, 23.2834, 0.0837)\n",
        " (861064, 2.1823, 43.8803, -42.7587, 20.5195, 0.0085)\n",
        " (837704, 0.7512, 43.884, -42.8011, 21.2109, 0.0145)\n",
        " (769401, 0.4812, 43.7128, -42.7802, 22.4228, 0.0398)\n",
        " (738730, 0.3797, 43.7309, -42.7638, 22.2363, 0.0339)\n",
        " (822004, 0.7381, 43.7442, -42.8034, 21.9009, 0.0255)\n",
        " (894992, 2.7993, 43.8296, -42.825, 19.2436, 0.0036)\n",
        " (896534, 3.9322, 43.8427, -42.8367, 17.2948, 0.0013)\n",
        " (83665, 0.1569, 43.8591, -42.8063, 23.2987, 0.0848)\n",
        " (718489, 0.236, 43.7419, -42.7533, 21.3483, 0.0162)\n",
        " (854280, 2.3134, 43.8262, -42.715, 21.3623, 0.0163)\n",
        " (828282, 0.6382, 43.8286, -42.716, 21.1157, 0.0134)\n",
        " (757889, 0.5628, 43.6863, -42.6372, 23.1957, 0.0776)\n",
        " (831600, 1.299, 43.6994, -42.6848, 22.6824, 0.0497)\n",
        " (320778, 0.1252, 43.7946, -42.7239, 22.9443, 0.0624)\n",
        " (856379, 1.4218, 43.7881, -42.7253, 20.4483, 0.0081)\n",
        " (820472, 0.6406, 43.7835, -42.7148, 21.6215, 0.0202)\n",
        " (796040, 0.3176, 43.7669, -42.7162, 20.9617, 0.0119)\n",
        " (811367, 0.8643, 43.0099, -42.5916, 22.5905, 0.046)\n",
        " (852142, 2.3203, 43.0606, -42.6025, 21.721, 0.0219)\n",
        " (645765, 0.3221, 43.0278, -42.6122, 23.8776, 0.1395)\n",
        " (806622, 0.6521, 43.1666, -42.7339, 22.4579, 0.041)\n",
        " (841687, 0.8087, 43.1059, -42.6774, 21.2465, 0.0149)\n",
        " (855496, 0.6223, 43.1252, -42.7082, 19.4443, 0.0041)\n",
        " (718529, 0.3789, 43.162, -42.5902, 22.6473, 0.0483)\n",
        " (759572, 0.4687, 43.1344, -42.6039, 22.3213, 0.0365)\n",
        " (466796, 0.194, 43.1856, -42.6274, 23.6512, 0.1149)\n",
        " (790295, 0.8194, 43.1743, -42.6289, 22.7078, 0.0508)\n",
        " (686094, 0.3788, 43.1542, -42.6074, 22.2765, 0.0351)\n",
        " (679978, 0.3789, 43.143, -42.613, 23.3793, 0.0909)\n",
        " (310506, 0.1512, 43.1239, -42.6294, 23.1506, 0.0746)\n",
        " (857342, 1.1012, 43.3915, -42.8529, 19.4619, 0.0041)\n",
        " (836295, 1.6799, 43.4236, -42.7656, 22.2101, 0.0332)\n",
        " (774093, 0.7926, 43.413, -42.8047, 23.3436, 0.0882)\n",
        " (444531, 0.1426, 43.4104, -42.7877, 22.1444, 0.0313)\n",
        " (788928, 0.4714, 43.3026, -42.8143, 21.7623, 0.0227)\n",
        " (860669, 1.3209, 43.3974, -42.8424, 19.8042, 0.0051)\n",
        " (853424, 2.5953, 43.3872, -42.836, 21.73, 0.0221)\n",
        " (857517, 3.3285, 43.3766, -42.8242, 21.4331, 0.0173)\n",
        " (858800, 2.3682, 43.4159, -42.593, 21.343, 0.0161)\n",
        " (859395, 1.9745, 43.4012, -42.6035, 20.8931, 0.0113)\n",
        " (833302, 0.8996, 43.4269, -42.6152, 21.8176, 0.0238)\n",
        " (779717, 0.4767, 43.3248, -42.5924, 21.9985, 0.0277)\n",
        " (764719, 0.6926, 43.3666, -42.5924, 22.7338, 0.052)\n",
        " (772495, 0.5169, 43.4285, -42.6619, 22.238, 0.034)\n",
        " (863705, 2.0909, 43.3873, -42.6001, 19.8886, 0.0054)\n",
        " (732432, 0.5623, 43.2426, -42.6197, 23.867, 0.1382)\n",
        " (840733, 0.8341, 43.2832, -42.6302, 20.9954, 0.0122)\n",
        " (861086, 2.6192, 43.3659, -42.6852, 20.765, 0.0102)\n",
        " (776943, 0.6362, 43.3699, -42.683, 22.8809, 0.0591)\n",
        " (752385, 0.2216, 43.4226, -42.7158, 20.9152, 0.0115)\n",
        " (803622, 0.5594, 43.4216, -42.6646, 21.4301, 0.0173)\n",
        " (778367, 0.6343, 43.3833, -42.6403, 22.5056, 0.0427)\n",
        " (863741, 1.043, 43.3414, -42.6101, 18.549, 0.0024)\n",
        " (857220, 2.3203, 43.3271, -42.7335, 21.2564, 0.015)\n",
        " (896329, 3.3889, 43.2221, -42.6617, 18.248, 0.002)\n",
        " (796240, 0.9631, 43.2168, -42.6331, 23.0118, 0.0662)\n",
        " (832830, 1.3854, 43.2601, -42.7351, 22.2351, 0.0339)\n",
        " (310510, 0.1249, 43.2164, -42.7005, 23.0122, 0.0662)\n",
        " (887327, 0.6366, 43.226, -42.7291, 19.7684, 0.005)\n",
        " (842158, 0.8195, 43.2798, -42.7242, 20.8458, 0.0109)\n",
        " (828915, 0.5668, 43.9085, -42.9438, 20.8169, 0.0106)\n",
        " (792615, 0.567, 43.9106, -42.9465, 22.3622, 0.0378)\n",
        " (860074, 0.8124, 43.795, -42.9674, 18.9391, 0.003)\n",
        " (849675, 1.6799, 43.4517, -42.9412, 21.7876, 0.0232)\n",
        " (819065, 1.1738, 43.4696, -42.9518, 22.8592, 0.058)\n",
        " (853870, 1.2336, 43.5269, -42.9874, 20.5847, 0.0089)\n",
        " (703156, 0.3483, 43.5335, -42.9666, 22.9636, 0.0635)\n",
        " (858338, 1.9225, 43.6519, -42.9679, 20.7734, 0.0103)\n",
        " (883893, 0.3088, 43.7097, -42.9537, 19.1803, 0.0035)\n",
        " (656716, 0.3788, 43.6987, -42.9855, 22.9683, 0.0637)\n",
        " (667086, 0.4491, 43.4792, -42.931, 23.8474, 0.136)\n",
        " (887623, 2.1659, 43.4568, -42.9148, 21.6821, 0.0213)\n",
        " (857450, 2.1452, 43.5667, -42.8901, 20.9677, 0.0119)\n",
        " (877826, 0.5687, 43.4726, -42.8309, 22.7253, 0.0516)\n",
        " (833269, 0.7205, 43.4866, -42.8367, 21.0152, 0.0124)\n",
        " (842326, 1.6875, 43.558, -42.9151, 22.1867, 0.0325)\n",
        " (894793, 3.6578, 43.8537, -42.9068, 19.7299, 0.0049)\n",
        " (815808, 1.1078, 43.6823, -42.7651, 22.9951, 0.0652)\n",
        " (828313, 0.7856, 43.7029, -42.8242, 21.6917, 0.0214)\n",
        " (854696, 0.9871, 43.7207, -42.8297, 19.943, 0.0057)\n",
        " (740807, 0.4543, 43.7212, -42.8293, 23.1535, 0.0748)\n",
        " (689123, 0.4671, 43.7273, -42.9259, 23.9576, 0.1493)\n",
        " (727870, 0.3483, 43.7065, -42.9099, 21.9464, 0.0265)\n",
        " (858575, 2.1939, 43.7487, -42.9154, 20.8415, 0.0108)\n",
        " (839303, 1.0475, 43.6931, -42.8967, 21.5229, 0.0186)\n",
        " (781205, 0.7276, 43.468, -42.6095, 23.263, 0.0822)\n",
        " (880362, 0.4826, 43.508, -42.659, 21.8494, 0.0244)\n",
        " (796075, 0.5445, 43.6004, -42.7066, 22.1262, 0.0309)\n",
        " (813936, 0.5586, 43.53, -42.6803, 21.5428, 0.0189)\n",
        " (785253, 0.8448, 43.4686, -42.68, 22.8685, 0.0584)\n",
        " (839230, 0.6365, 43.5146, -42.7011, 20.7212, 0.0099)\n",
        " (847852, 1.8847, 43.4574, -42.7736, 21.9704, 0.0271)\n",
        " (850321, 1.2533, 43.4591, -42.7615, 20.7127, 0.0098)\n",
        " (754269, 0.4671, 43.4975, -42.8027, 23.4952, 0.1005)\n",
        " (645774, 0.335, 43.4889, -42.782, 23.2491, 0.0812)\n",
        " (859471, 3.6463, 43.5226, -42.8202, 21.6997, 0.0216)\n",
        " (783817, 0.5827, 43.6718, -42.8467, 22.2002, 0.0329)\n",
        " (800598, 0.8841, 43.6549, -42.8482, 23.1364, 0.0737)\n",
        " (843168, 1.289, 43.6535, -42.8589, 21.5915, 0.0197)\n",
        " (790262, 0.7201, 43.5797, -42.8529, 22.595, 0.0461)\n",
        " (813240, 1.1229, 43.6051, -42.8489, 23.0728, 0.0697)\n",
        " (896325, 1.899, 43.6389, -42.869, 17.0225, 0.0011)\n",
        " (841721, 1.0197, 43.5883, -42.8453, 21.2794, 0.0153)\n",
        " (832170, 1.1079, 43.5673, -42.7938, 21.8371, 0.0242)\n",
        " (856592, 1.0601, 43.019, -42.6418, 19.7275, 0.0049)\n",
        " (793759, 0.47, 43.0106, -42.67, 22.0448, 0.0288)\n",
        " (537957, 0.1941, 43.0053, -42.6413, 22.2439, 0.0341)\n",
        " (656709, 0.3787, 43.0412, -42.746, 23.84, 0.1351)\n",
        " (826918, 0.4725, 43.1562, -42.7622, 21.3027, 0.0156)\n",
        " (895761, 3.0585, 43.0392, -42.7243, 18.4299, 0.0023)\n",
        " (852309, 1.0414, 43.067, -42.6831, 20.3981, 0.0078)\n",
        " (884765, 1.0164, 43.3247, -42.9031, 21.6723, 0.0211)\n",
        " (783895, 0.7201, 43.208, -42.8327, 22.7754, 0.0539)\n",
        " (851976, 0.989, 43.2901, -42.8488, 20.2591, 0.007)\n",
        " (893888, 6.5507, 43.268, -42.8486, 23.3016, 0.085)\n",
        " (850322, 1.2839, 43.2725, -42.8288, 20.9746, 0.012)\n",
        " (756145, 0.6375, 43.243, -42.8696, 22.8602, 0.058)\n",
        " (837214, 0.9199, 43.1808, -42.8694, 20.9275, 0.0116)\n",
        " (859784, 1.8915, 43.1206, -42.7917, 20.6884, 0.0096)\n",
        " (886798, 1.2084, 43.1539, -42.8089, 20.8442, 0.0109)\n",
        " (840265, 0.8873, 43.1706, -42.8266, 21.0303, 0.0125)\n",
        " (849647, 1.5083, 43.0882, -42.7942, 21.4102, 0.017)\n",
        " (783815, 0.5414, 43.1418, -42.841, 22.7318, 0.0519)\n",
        " (570757, 0.0835, 43.4246, -42.9487, 21.3014, 0.0156)\n",
        " (565571, 0.2751, 43.8933, -42.5183, 22.9419, 0.0623)\n",
        " (865074, 2.1103, 43.8177, -42.4981, 19.1371, 0.0034)\n",
        " (520102, 0.2987, 43.8742, -42.4158, 23.6641, 0.1162)\n",
        " (764619, 0.4845, 43.7188, -42.4285, 22.5421, 0.0441)\n",
        " (859604, 2.084, 43.724, -42.4044, 20.7989, 0.0105)\n",
        " (860182, 2.0745, 43.7633, -42.4074, 20.621, 0.0092)\n",
        " (850263, 0.879, 43.7549, -42.4239, 20.5817, 0.0089)\n",
        " (892543, 2.704, 43.8147, -42.4759, 20.1751, 0.0066)\n",
        " (777005, 0.7959, 43.8786, -42.4768, 23.2016, 0.078)\n",
        " (827056, 1.0273, 43.8449, -42.474, 22.0466, 0.0289)\n",
        " (844565, 1.7855, 43.7995, -42.2296, 21.9178, 0.0259)\n",
        " (660192, 0.336, 43.8563, -42.2654, 22.8552, 0.0578)\n",
        " (387094, 0.2304, 43.8884, -42.2674, 23.9745, 0.1515)\n",
        " (549378, 0.2945, 43.6926, -42.2463, 24.1566, 0.1767)\n",
        " (882338, 0.2678, 43.7173, -42.2348, 19.7414, 0.0049)\n",
        " (874353, 0.2361, 43.7372, -42.2382, 22.0079, 0.0279)\n",
        " (814833, 0.7403, 43.7326, -42.2684, 21.8354, 0.0241)\n",
        " (862999, 1.966, 43.8919, -42.3761, 19.8093, 0.0052)\n",
        " (734565, 0.5424, 43.8739, -42.3155, 23.1031, 0.0716)\n",
        " (723257, 0.2245, 43.8774, -42.3401, 21.1275, 0.0135)\n",
        " (814835, 0.7218, 43.8362, -42.2747, 21.656, 0.0208)\n",
        " (889860, 2.8636, 43.8392, -42.285, 21.765, 0.0228)\n",
        " (828972, 0.8249, 43.5244, -42.2791, 21.5596, 0.0192)\n",
        " (842729, 1.3698, 43.5068, -42.2429, 21.264, 0.0151)\n",
        " (848834, 0.9252, 43.4894, -42.247, 20.3823, 0.0077)\n",
        " (842614, 0.7786, 43.5124, -42.2554, 20.5286, 0.0086)\n",
        " (740814, 0.462, 43.6562, -42.3272, 23.8051, 0.1311)\n",
        " (778428, 0.764, 43.6016, -42.3564, 23.0006, 0.0655)\n",
        " (894384, 1.7629, 43.6111, -42.3302, 18.9619, 0.003)\n",
        " (862231, 1.7166, 43.6209, -42.3517, 20.0645, 0.0061)\n",
        " (713630, 0.4759, 43.6363, -42.2332, 22.9337, 0.0618)\n",
        " (742930, 0.64, 43.6422, -42.2975, 24.2552, 0.1919)\n",
        " (838779, 0.9199, 43.6158, -42.2401, 21.1731, 0.014)\n",
        " (802555, 0.4215, 43.6416, -42.3014, 20.9241, 0.0115)\n",
        " (748759, 0.6158, 43.548, -42.2376, 23.2289, 0.0798)\n",
        " (864045, 2.2668, 43.5656, -42.249, 19.5187, 0.0043)\n",
        " (850080, 2.084, 43.5564, -42.263, 21.7391, 0.0223)\n",
        " (859007, 2.2668, 43.6821, -42.2633, 21.4021, 0.0169)\n",
        " (838781, 0.9446, 43.6819, -42.2873, 21.0054, 0.0123)\n",
        " (793866, 0.7624, 43.6786, -42.2942, 22.6216, 0.0472)\n",
        " (851504, 2.5953, 43.6888, -42.3961, 22.1615, 0.0318)\n",
        " (891392, 1.4568, 43.7141, -42.3747, 19.7193, 0.0049)\n",
        " (862558, 3.3361, 43.8157, -42.3506, 20.5521, 0.0087)\n",
        " (823474, 0.7381, 43.7915, -42.337, 21.7299, 0.0221)\n",
        " (857411, 1.7175, 43.8125, -42.3628, 20.9318, 0.0116)\n",
        " (776900, 0.5222, 43.8227, -42.3786, 22.6247, 0.0473)\n",
        " (785112, 0.4789, 43.6838, -42.3187, 22.0965, 0.0301)\n",
        " (819059, 1.1183, 43.8288, -42.0796, 22.2091, 0.0331)\n",
        " (861767, 1.2462, 43.8531, -42.1017, 19.2427, 0.0036)\n",
        " (836071, 0.627, 43.8223, -42.0888, 20.789, 0.0104)\n",
        " (891554, 1.4568, 43.7836, -42.128, 19.7641, 0.005)\n",
        " (350378, 0.2229, 43.8053, -42.1331, 23.7124, 0.1211)\n",
        " (857464, 2.3358, 43.8738, -42.1256, 21.3056, 0.0156)\n",
        " (340729, 0.2143, 43.7855, -42.0959, 23.6187, 0.1118)\n",
        " (857315, 0.8334, 43.6644, -42.0468, 19.3771, 0.0039)\n",
        " (896472, 4.1336, 43.6886, -42.0299, 17.8144, 0.0016)\n",
        " (893529, 3.3556, 43.7572, -42.0211, 20.183, 0.0067)\n",
        " (834981, 0.7533, 43.3794, -42.1909, 21.0505, 0.0127)\n",
        " (708474, 0.3927, 43.3835, -42.1489, 22.9812, 0.0644)\n",
        " (848114, 1.1181, 43.3815, -42.0798, 20.9992, 0.0122)\n",
        " (810368, 0.5443, 43.3251, -42.1396, 21.7269, 0.0221)\n",
        " (859328, 1.257, 43.3441, -42.1162, 19.9207, 0.0056)\n",
        " (778440, 0.764, 43.3467, -42.0375, 22.7995, 0.055)\n",
        " (738740, 0.4086, 43.4729, -42.0553, 22.9005, 0.0601)\n",
        " (708440, 0.2998, 43.6352, -42.0531, 22.5725, 0.0452)\n",
        " (638150, 0.3561, 43.5482, -42.0164, 23.6624, 0.116)\n",
        " (861487, 1.4674, 43.5766, -42.034, 19.7262, 0.0049)\n",
        " (839775, 0.9463, 43.5778, -42.021, 21.0557, 0.0128)\n",
        " (711035, 0.3493, 43.5795, -42.0322, 22.9369, 0.062)\n",
        " (845420, 1.7912, 43.4806, -42.1947, 22.355, 0.0375)\n",
        " (834468, 0.9725, 43.6038, -42.1886, 21.8197, 0.0238)\n",
        " (850382, 1.6905, 43.5437, -42.1673, 21.2399, 0.0148)\n",
        " (864579, 2.4856, 43.5837, -42.194, 19.692, 0.0048)\n",
        " (808622, 0.8864, 43.4878, -42.1336, 22.6141, 0.0469)\n",
        " (846890, 0.827, 43.4782, -42.1045, 20.252, 0.007)\n",
        " (785230, 0.7788, 43.4639, -42.1013, 22.9625, 0.0634)\n",
        " (520117, 0.2799, 43.5348, -42.1734, 23.6275, 0.1126)\n",
        " (856601, 1.1133, 43.5307, -42.157, 20.0161, 0.0059)\n",
        " (888659, 1.3849, 43.4339, -42.1447, 20.5526, 0.0087)\n",
        " (847896, 2.2668, 43.4752, -42.1651, 21.9478, 0.0265)\n",
        " (859898, 1.0147, 43.5137, -42.1735, 19.265, 0.0037)\n",
        " (863118, 2.0909, 43.8642, -42.2138, 19.9621, 0.0057)\n",
        " (856221, 2.5093, 43.8297, -42.2091, 21.4285, 0.0173)\n",
        " (853417, 2.5116, 43.6897, -42.08, 21.5379, 0.0189)\n",
        " (827619, 0.6573, 43.6942, -42.0916, 21.6301, 0.0204)\n",
        " (785160, 0.6029, 43.7007, -42.0922, 22.4149, 0.0395)\n",
        " (757809, 0.4161, 43.6737, -42.1198, 22.5783, 0.0455)\n",
        " (863620, 2.3167, 43.7318, -42.1371, 20.0482, 0.0061)\n",
        " (856395, 1.5507, 43.7708, -42.1594, 21.0419, 0.0127)\n",
        " (840811, 1.2125, 43.7582, -42.1531, 21.3188, 0.0158)\n",
        " (896304, 3.0505, 43.7273, -42.1635, 17.8745, 0.0017)\n",
        " (830233, 0.7955, 43.6185, -42.1962, 21.5107, 0.0185)\n",
        " (549332, 0.2254, 43.6569, -42.1471, 23.6398, 0.1138)\n",
        " (890380, 3.0884, 43.5904, -42.1654, 21.2944, 0.0155)\n",
        " (895403, 2.643, 43.649, -42.069, 18.7194, 0.0027)\n",
        " (851363, 1.3669, 43.6522, -42.1339, 21.0372, 0.0126)\n",
        " (676820, 0.371, 43.5393, -42.072, 23.4178, 0.094)\n",
        " (759645, 0.6031, 43.4856, -42.0693, 22.9465, 0.0625)\n",
        " (824236, 0.9103, 43.4991, -42.0833, 22.0355, 0.0286)\n",
        " (825669, 0.9856, 43.5888, -42.0903, 22.1841, 0.0324)\n",
        " (844173, 2.0422, 43.5517, -42.1195, 22.4591, 0.041)\n",
        " (850025, 1.6653, 43.5646, -42.1241, 21.7689, 0.0228)\n",
        " (565644, 0.3185, 43.9631, -42.6019, 24.0472, 0.1611)\n",
        " (689038, 0.3184, 43.9645, -42.6051, 22.1617, 0.0318)\n",
        " (835716, 1.5083, 43.9279, -42.5162, 22.0743, 0.0295)\n",
        " (806687, 0.8522, 43.9313, -42.5432, 22.4977, 0.0424)\n",
        " (803578, 0.425, 43.9406, -42.305, 21.5236, 0.0186)\n",
        " (580975, 0.3253, 43.9071, -42.3894, 24.3349, 0.2051)\n",
        " (832151, 1.0379, 43.9798, -42.3585, 21.5323, 0.0188)\n",
        " (805746, 0.949, 43.9298, -42.3235, 22.7226, 0.0515)\n",
        " (785090, 0.4249, 43.9633, -42.3282, 21.6655, 0.021)\n",
        " (884173, 0.3234, 43.9791, -42.3443, 19.2657, 0.0037)\n",
        " (792592, 0.4928, 43.9925, -42.4149, 21.2663, 0.0151)\n",
        " (858885, 0.9447, 43.9135, -42.1711, 19.3595, 0.0039)\n",
        " (851148, 2.3682, 43.9651, -42.1319, 22.3794, 0.0383)\n",
        " (851000, 1.1797, 43.9243, -42.1423, 21.0403, 0.0126)\n",
        " (893722, 2.8636, 43.9932, -42.1147, 19.7616, 0.005)\n",
        " (840823, 1.289, 43.9738, -42.0772, 21.5908, 0.0197)\n",
        " (848856, 1.0594, 43.9153, -42.2288, 20.6452, 0.0093)\n",
        " (754309, 0.5828, 43.9837, -42.2345, 23.2632, 0.0822)\n",
        " (775403, 0.344, 43.9827, -42.2616, 21.8986, 0.0255)\n",
        " (821400, 1.2431, 44.2165, -42.5432, 21.9735, 0.0271)\n",
        " (822746, 0.7173, 44.0526, -42.6616, 21.6662, 0.021)\n",
        " (775554, 0.7654, 44.0444, -42.7373, 22.5608, 0.0448)\n",
        " (828909, 0.5373, 44.0492, -42.6855, 20.556, 0.0087)\n",
        " (843727, 2.0041, 44.0185, -42.6811, 22.1668, 0.032)\n",
        " (889606, 3.3122, 44.0756, -42.8636, 21.5759, 0.0195)\n",
        " (834014, 1.49, 44.0764, -42.7956, 22.2483, 0.0343)\n",
        " (757807, 0.3855, 44.0208, -42.811, 22.4326, 0.0401)\n",
        " (841693, 0.8624, 44.104, -42.5864, 21.1074, 0.0133)\n",
        " (837767, 1.0668, 44.1262, -42.5906, 21.5077, 0.0184)\n",
        " (863736, 3.3239, 44.1576, -42.6043, 20.5903, 0.009)\n",
        " (845773, 1.4393, 44.0917, -42.7468, 21.5941, 0.0198)\n",
        " (795036, 0.7976, 44.1597, -42.6841, 23.0441, 0.068)\n",
        " (750655, 0.6241, 44.105, -42.6718, 23.6258, 0.1125)\n",
        " (789100, 0.8984, 44.1022, -42.6955, 22.8983, 0.06)\n",
        " (890298, 3.3376, 44.144, -42.6807, 21.7342, 0.0222)\n",
        " (769509, 0.7185, 44.137, -42.6781, 23.1166, 0.0724)\n",
        " (847682, 0.8514, 44.1647, -42.6645, 20.4426, 0.008)\n",
        " (854953, 0.7927, 44.0921, -42.7875, 19.8433, 0.0053)\n",
        " (787796, 0.7788, 44.0903, -42.7904, 23.4021, 0.0927)\n",
        " (855296, 1.3209, 44.1359, -42.8021, 20.5807, 0.0089)\n",
        " (829100, 1.311, 44.2027, -42.7464, 22.2466, 0.0342)\n",
        " (860367, 2.084, 44.2197, -42.4764, 20.4592, 0.0081)\n",
        " (656719, 0.3622, 44.1301, -42.4095, 23.2859, 0.0839)\n",
        " (859383, 1.7959, 44.1955, -42.4028, 20.6797, 0.0096)\n",
        " (838335, 1.2433, 44.1929, -42.4181, 21.6174, 0.0201)\n",
        " (810430, 0.7616, 44.2093, -42.4429, 23.0097, 0.066)\n",
        " (893138, 4.386, 44.1673, -42.3157, 21.0127, 0.0124)\n",
        " (856557, 0.6779, 44.1812, -42.3381, 18.9512, 0.003)\n",
        " (815796, 1.0957, 44.1509, -42.3189, 22.0965, 0.0301)\n",
        " (834002, 1.3946, 44.122, -42.3008, 22.5053, 0.0427)\n",
        " (857926, 2.3446, 44.1188, -42.3035, 21.1342, 0.0136)\n",
        " (886720, 2.0099, 44.162, -42.2731, 21.9279, 0.0261)\n",
        " (891165, 3.1555, 44.1654, -42.375, 21.3204, 0.0158)\n",
        " (826392, 1.1342, 44.1811, -42.3734, 22.2295, 0.0337)\n",
        " (595433, 0.3386, 44.1031, -42.2055, 23.6218, 0.1121)\n",
        " (716135, 0.5069, 44.1027, -42.1525, 23.2981, 0.0848)\n",
        " (861569, 3.0569, 44.1416, -42.2257, 21.1399, 0.0137)\n",
        " (842193, 1.0151, 44.0783, -42.5513, 21.3023, 0.0156)\n",
        " (794973, 0.6274, 44.0151, -42.561, 22.0618, 0.0292)\n",
        " (893900, 1.5163, 44.0437, -42.5463, 18.903, 0.0029)\n",
        " (805579, 0.3344, 44.0395, -42.4652, 20.8219, 0.0107)\n",
        " (730115, 0.3345, 44.0628, -42.4649, 22.1453, 0.0314)\n",
        " (854855, 2.4077, 44.0167, -42.2958, 21.13, 0.0136)\n",
        " (864933, 1.5642, 44.0856, -42.369, 18.6435, 0.0025)\n",
        " (847877, 2.0863, 44.0896, -42.3334, 21.8891, 0.0253)\n",
        " (846610, 1.5442, 44.0293, -42.3808, 21.45, 0.0176)\n",
        " (798335, 0.6268, 44.0207, -42.3148, 22.0248, 0.0283)\n",
        " (804798, 1.0349, 44.0766, -42.2234, 22.6607, 0.0488)\n",
        " (857663, 1.8732, 44.0649, -42.1797, 21.125, 0.0135)\n",
        " (630197, 0.2737, 44.0481, -42.1888, 22.7828, 0.0543)\n",
        " (828940, 0.6795, 44.0432, -42.1028, 20.9155, 0.0115)\n",
        " (570777, 0.2141, 44.063, -42.145, 23.1795, 0.0765)\n",
        " (893175, 2.2117, 44.0702, -42.1433, 19.5342, 0.0043)\n",
        " (880163, 0.8683, 44.0008, -42.1212, 22.5823, 0.0456)\n",
        " (820502, 0.7834, 44.0464, -42.2354, 21.5578, 0.0192)]\n"
       ]
      }
     ],
     "prompt_number": 240
    },
    {
     "cell_type": "heading",
     "level": 3,
     "metadata": {},
     "source": [
      "Plotting Field of View & AGN Locations"
     ]
    },
    {
     "cell_type": "markdown",
     "metadata": {},
     "source": [
      "a"
     ]
    },
    {
     "cell_type": "code",
     "collapsed": false,
     "input": [
      "i = 0\n",
      "for Pointing in AGNData:\n",
      "    fig2 = plt.figure(figsize=(12.5,10))\n",
      "    ax2 = fig2.add_axes([0.1, 0.1, 0.8, 0.8])\n",
      "    ax2.set_xlabel('RA (Degrees)')\n",
      "    ax2.set_ylabel('Dec (Degrees)')\n",
      "    ax2.set_title('AGNs Located by the Quick Mock Survey')\n",
      "    ax2.set_axis_bgcolor('grey')\n",
      "    \n",
      "    GraphRadius = AperatureRadius+0.15\n",
      "    PointingRA, PointingDec = (UniquePointings[i][0], UniquePointings[i][1])\n",
      "    MinRA, MaxRA = (PointingRA-GraphRadius, PointingRA+GraphRadius)\n",
      "    MinDec, MaxDec = (PointingDec-GraphRadius, PointingDec+GraphRadius)\n",
      "    ax2.axis([MinRA, MaxRA, MinDec, MaxDec])\n",
      "    FoV = plt.Circle((PointingRA,PointingDec), AperatureRadius, color='r', fill=False, lw=4, ls='dashed')\n",
      "    fig2.gca().add_artist(FoV)\n",
      "    i += 1\n",
      "    \n",
      "    ColorMap = plt.cm.get_cmap('Reds')\n",
      "    FirstObs = Pointing[1]\n",
      "    Z = FirstObs['redshift']\n",
      "    NormMag = np.log(1-FirstObs['ObsAgn']/(max(FirstObs['ObsAgn'])+0.5))*70\n",
      "    NNormMag = NormMag+abs(min(NormMag)-10)\n",
      "    \n",
      "    AGNScatter = plt.scatter(FirstObs['raJ2000'], FirstObs['decJ2000'], c=Z, s=NNormMag, cmap=ColorMap)\n",
      "    plt.colorbar(AGNScatter)\n",
      "    plt.show()"
     ],
     "language": "python",
     "metadata": {},
     "outputs": [
      {
       "metadata": {},
       "output_type": "display_data",
       "png": "[encoded data removed]",
       "text": [
        "<matplotlib.figure.Figure at 0x119d0f850>"
       ]
      }
     ],
     "prompt_number": 241
    },
    {
     "cell_type": "code",
     "collapsed": false,
     "input": [
      "FirstObs = AGNData[0][0]\n",
      "#NormMag = abs(np.log(FirstObs['ObsAgn']/max(FirstObs['ObsAgn']))*500)\n",
      "MagRange = linspace(18, 24, 25)\n",
      "NormMag = np.log(1-MagRange/(max(MagRange)+0.5))*100\n",
      "NNormMag = NormMag+abs(min(NormMag)-5)\n",
      "\n",
      "plt.title('Marker Size vs Measured Magnitude')\n",
      "plt.scatter(MagRange, NNormMag, s=NNormMag)\n",
      "plt.show()"
     ],
     "language": "python",
     "metadata": {},
     "outputs": [
      {
       "metadata": {},
       "output_type": "display_data",
       "png": "[encoded data removed]",
       "text": [
        "<matplotlib.figure.Figure at 0x1122b1850>"
       ]
      }
     ],
     "prompt_number": 214
    },
    {
     "cell_type": "code",
     "collapsed": false,
     "input": [
      "plt.title('AGN Count vs Redshift')\n",
      "plt.hist(AGNData[0][0]['redshift'],bins=75)\n",
      "plt.show()"
     ],
     "language": "python",
     "metadata": {},
     "outputs": [
      {
       "metadata": {},
       "output_type": "display_data",
       "png": "[encoded data removed]",
       "text": [
        "<matplotlib.figure.Figure at 0x10f0d2410>"
       ]
      }
     ],
     "prompt_number": 246
    },
    {
     "cell_type": "heading",
     "level": 3,
     "metadata": {},
     "source": [
      "Generating Time-Series Datafiles for Each Object"
     ]
    },
    {
     "cell_type": "code",
     "collapsed": false,
     "input": [
      "plt.title('Observed Magnitude vs Redshift')\n",
      "plt.scatter(AGNData[0][0]['redshift'],AGNData[0][0]['ObsAgn'])\n",
      "plt.show()"
     ],
     "language": "python",
     "metadata": {},
     "outputs": [
      {
       "metadata": {},
       "output_type": "display_data",
       "png": "[encoded data removed]",
       "text": [
        "<matplotlib.figure.Figure at 0x10e11a290>"
       ]
      }
     ],
     "prompt_number": 249
    },
    {
     "cell_type": "code",
     "collapsed": false,
     "input": [],
     "language": "python",
     "metadata": {},
     "outputs": [],
     "prompt_number": 73
    },
    {
     "cell_type": "heading",
     "level": 3,
     "metadata": {},
     "source": [
      "Producing Light-Curves"
     ]
    },
    {
     "cell_type": "code",
     "collapsed": false,
     "input": [],
     "language": "python",
     "metadata": {},
     "outputs": [],
     "prompt_number": 73
    },
    {
     "cell_type": "code",
     "collapsed": false,
     "input": [],
     "language": "python",
     "metadata": {},
     "outputs": [],
     "prompt_number": 16
    },
    {
     "cell_type": "code",
     "collapsed": false,
     "input": [],
     "language": "python",
     "metadata": {},
     "outputs": []
    }
   ],
   "metadata": {}
  }
 ]
}