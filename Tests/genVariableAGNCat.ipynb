{
 "metadata": {
  "name": "",
  "signature": "sha256:3b872d43e3c0941ae1caca433eac3fe8ccf1fb7221e7bd19bce053265162f0ae"
 },
 "nbformat": 3,
 "nbformat_minor": 0,
 "worksheets": [
  {
   "cells": [
    {
     "cell_type": "heading",
     "level": 1,
     "metadata": {},
     "source": [
      "Introduction to Generating Variable AGN Catalogs with CatSim & OpSim"
     ]
    },
    {
     "cell_type": "markdown",
     "metadata": {},
     "source": [
      "The following code is meant as a test of the variable AGN catalog generation capiabilities of CatSim. It pulls the general structure from generateAGNCatalog_150309 by Scott Daniel (@danielsf on GitHub). In order to run the script, make sure you have the LSST Stack running as well as the lsst_sims package setup."
     ]
    },
    {
     "cell_type": "markdown",
     "metadata": {},
     "source": [
      "First, we define the object database where we will draw information about our AGNs from. At present, the only way to find AGN is to search through all galaxies and only accept those with AGN. The CatalogDBObject class that queries all galaxies on the sky is GalaxyTileObj()."
     ]
    },
    {
     "cell_type": "code",
     "collapsed": false,
     "input": [
      "from lsst.sims.catUtils.baseCatalogModels import GalaxyTileObj\n",
      "galaxyDB = GalaxyTileObj()"
     ],
     "language": "python",
     "metadata": {},
     "outputs": [
      {
       "output_type": "stream",
       "stream": "stderr",
       "text": [
        "/Users/jglaser/lsst/DarwinX86/anaconda/master-g68783b1848/lib/python2.7/site-packages/sqlalchemy/dialects/mssql/base.py:1294: SAWarning: Did not recognize type 'geography' of column 'geopoint'\n",
        "  return fn(*arg, **kw)\n"
       ]
      }
     ],
     "prompt_number": 1
    },
    {
     "cell_type": "markdown",
     "metadata": {},
     "source": [
      "We can learn about the coloumns provided by any database quite easily. For instance, to find out what information can be obtained from galaxyDB we run:"
     ]
    },
    {
     "cell_type": "code",
     "collapsed": false,
     "input": [
      "galaxyDB.show_mapped_columns()"
     ],
     "language": "python",
     "metadata": {},
     "outputs": [
      {
       "output_type": "stream",
       "stream": "stdout",
       "text": [
        "galtileid -- int64\n",
        "galid -- str\n",
        "raJ2000 -- float\n",
        "decJ2000 -- float\n",
        "raJ2000Bulge -- float\n",
        "decJ2000Bulge -- float\n",
        "raJ2000Disk -- float\n",
        "decJ2000Disk -- float\n",
        "raJ2000Agn -- float\n",
        "decJ2000Agn -- float\n",
        "magNormBulge -- float\n",
        "magNormDisk -- float\n",
        "magNormAgn -- float\n",
        "sedFilenameBulge -- unicode\n",
        "sedFilenameDisk -- unicode\n",
        "sedFilenameAgn -- unicode\n",
        "majorAxisBulge -- float\n",
        "minorAxisBulge -- float\n",
        "positionAngleBulge -- float\n",
        "sindexBulge -- int\n",
        "majorAxisDisk -- float\n",
        "minorAxisDisk -- float\n",
        "positionAngleDisk -- float\n",
        "sindexDisk -- int\n",
        "internalExtinctionModelBulge -- str\n",
        "internalAvBulge -- float\n",
        "internalRvBulge -- float\n",
        "internalExtinctionModelDisk -- str\n",
        "internalAvDisk -- float\n",
        "internalRvDisk -- float\n",
        "lsst_u -- float\n",
        "lsst_g -- float\n",
        "lsst_r -- float\n",
        "lsst_i -- float\n",
        "lsst_z -- float\n",
        "lsst_y -- float\n",
        "htmid -- int\n",
        "ra -- float\n",
        "dec -- float\n",
        "redshift -- float\n",
        "rad_vel -- float\n",
        "u_ab -- float\n",
        "g_ab -- float\n",
        "r_ab -- float\n",
        "i_ab -- float\n",
        "z_ab -- float\n",
        "y_ab -- float\n",
        "sedid_bulge -- int\n",
        "sedid_disk -- int\n",
        "sedid_agn -- int\n",
        "av_b -- float\n",
        "rv_b -- float\n",
        "ext_model_b -- str\n",
        "av_d -- float\n",
        "rv_d -- float\n",
        "ext_model_d -- str\n",
        "glon -- float\n",
        "glat -- float\n",
        "pa_bulge -- float\n",
        "pa_disk -- float\n",
        "inc_bulge_deg -- float\n",
        "inc_disk_deg -- float\n",
        "a_b -- float\n",
        "b_b -- float\n",
        "bulge_n -- float\n",
        "bra -- float\n",
        "bdec -- float\n",
        "a_d -- float\n",
        "b_d -- float\n",
        "disk_n -- float\n",
        "dra -- float\n",
        "ddec -- float\n",
        "agnra -- float\n",
        "agndec -- float\n",
        "versionid -- float\n",
        "fluxnorm_bulge -- float\n",
        "fluxnorm_agn -- float\n",
        "absmag_r_total -- float\n",
        "gal_type -- float\n",
        "mass_stellar -- float\n",
        "mass_gas -- float\n",
        "mass_halo -- float\n",
        "ug_total_rest -- float\n",
        "gr_total_rest -- float\n",
        "ri_total_rest -- float\n",
        "iz_total_rest -- float\n",
        "zy_total_rest -- float\n",
        "isagn -- int\n",
        "agn_tau -- float\n",
        "agn_sfu -- float\n",
        "agn_sfg -- float\n",
        "agn_sfr -- float\n",
        "agn_sfi -- float\n",
        "agn_sfz -- float\n",
        "agn_sfy -- float\n",
        "fluxnorm_disk -- float\n",
        "magnorm_bulge -- float\n",
        "magnorm_disk -- float\n",
        "magnorm_agn -- float\n",
        "cx -- float\n",
        "cy -- float\n",
        "cz -- float\n",
        "sedname_agn -- str\n",
        "sedname_bulge -- str\n",
        "sedname_disk -- str\n",
        "varsimobjid -- int\n",
        "varParamStr -- unicode\n",
        "type -- int\n",
        "mass_bulge -- float\n",
        "BulgeMinusDiskLSSTr -- float\n",
        "log10BulgeToTotLSSTrFlux -- float\n",
        "AbsiMag -- float\n",
        "AbsiMag0_1 -- float\n",
        "z0_1umg -- float\n",
        "z0_1gmr -- float\n",
        "z0_1rmi -- float\n",
        "z0_1imz -- float\n",
        "z0_1zmy -- float\n",
        "ba_disk -- float\n",
        "ba_bulge -- float\n",
        "DiskHalfLightRadius -- float\n",
        "DiskLSSTu -- float\n",
        "DiskLSSTg -- float\n",
        "DiskLSSTr -- float\n",
        "DiskLSSTi -- float\n",
        "DiskLSSTz -- float\n",
        "DiskLSSTy -- float\n",
        "BulgeLSSTu -- float\n",
        "BulgeLSSTg -- float\n",
        "BulgeLSSTr -- float\n",
        "BulgeLSSTi -- float\n",
        "BulgeLSSTz -- float\n",
        "BulgeLSSTy -- float\n",
        "AGNID -- int\n",
        "BulgeHalfLightRadius -- float\n",
        "t0_agn -- float\n",
        "id -- int\n",
        "myid -- int\n"
       ]
      }
     ],
     "prompt_number": 3
    },
    {
     "cell_type": "markdown",
     "metadata": {},
     "source": [
      "Now, we need to generate some observation meta-data. To do so, we find and connect to the OpSimBlitz 1.133 SQL database (stored in the sims_data directory of the LSST stack). Then we query the database for observations matching specific ranges of conditions. For instance, the following code will search the database for observations within RA of 25.0 to 55.0 degrees and Dec of -50 to -25 degrees with an airmass range of 1.0 to 2.1:"
     ]
    },
    {
     "cell_type": "code",
     "collapsed": false,
     "input": [
      "import eups\n",
      "import os\n",
      "from lsst.sims.catUtils.utils import ObservationMetaDataGenerator\n",
      "from lsst.sims.catalogs.generation.db import ObservationMetaData\n",
      "\n",
      "opsimdb = os.path.join(eups.productDir('sims_data'),'OpSimData','opsimblitz1_1133_sqlite.db')\n",
      "gen = ObservationMetaDataGenerator(address='sqlite:///'+opsimdb)\n",
      "obsMDresults = gen.getObservationMetaData(boundType='circle', boundLength=0.1,\n",
      "                                          fieldRA=(25.0,55.0), fieldDec=(-50.0, -25.0), airmass = (1, 2.1))\n",
      "for o in obsMDresults:\n",
      "    print numpy.degrees(o.unrefractedRA), numpy.degrees(o.unrefractedDec), o.phoSimMetadata['airmass'][0], o.mjd"
     ],
     "language": "python",
     "metadata": {},
     "outputs": [
      {
       "output_type": "stream",
       "stream": "stdout",
       "text": [
        "51.8588111077 -32.9919984634 1.004242 49353.047848\n",
        "51.8588111077 -32.9919984634 1.014837 49371.04194\n",
        "51.8588111077 -32.9919984634 1.035256 49371.05943\n",
        "51.8588111077 -32.9919984634 1.020813 49375.037446\n",
        "51.8588111077 -32.9919984634 1.05884 49375.062459\n",
        "51.8588111077 -32.9919984634 1.275303 49380.112255\n",
        "52.7707307345 -35.9668526315 1.009189 49353.048804\n",
        "52.7707307345 -35.9668526315 1.016017 49371.040975\n",
        "52.7707307345 -35.9668526315 1.033403 49371.058058\n",
        "52.7707307345 -35.9668526315 1.023885 49375.038847\n",
        "52.7707307345 -35.9668526315 1.059445 49375.063812\n",
        "52.7707307345 -35.9668526315 1.25984 49380.112708\n",
        "53.3058733151 -49.6773315986 1.072541 49355.034105\n",
        "53.3058733151 -49.6773315986 1.067809 49371.03272\n",
        "53.3058733151 -49.6773315986 1.077951 49371.048726\n",
        "53.3058733151 -49.6773315986 1.082265 49375.042559\n",
        "53.3058733151 -49.6773315986 1.114731 49375.06718\n",
        "53.6635708666 -38.8892238656 1.017016 49353.04927\n",
        "53.6635708666 -38.8892238656 1.020743 49371.040451\n",
        "53.6635708666 -38.8892238656 1.036204 49371.057554\n",
        "53.6635708666 -38.8892238656 1.029406 49375.040224\n",
        "53.6635708666 -38.8892238656 1.063078 49375.065172\n",
        "54.5817930291 -41.7673627579 1.027558 49353.049719\n",
        "54.5817930291 -41.7673627579 1.032721 49356.033296\n",
        "54.5817930291 -41.7673627579 1.027891 49371.039049\n",
        "54.5817930291 -41.7673627579 1.040424 49371.055707\n"
       ]
      }
     ],
     "prompt_number": 4
    },
    {
     "cell_type": "markdown",
     "metadata": {},
     "source": [
      "Next, we create a python class which will generate the source catalog of variable AGNs that appear for the first of the above observations. In order to do so, we must inherit from the InstanceCatalog, PhotometryGalaxies, and VariabilityGalaxies classes/mixins. When this class is called, it will search the provided database for all objects with the uAGN column, which filters out everything except the AGNs, and provide the listed coloumn outputs for each accepted object.\n",
      "\n",
      "We should note that the following script does not pull the lsst\\_[u,g,r,i,z,y] values from galaxyDB for the baseline magnitudes, but rather pulls [u,g,r,i,z,y]Agn which are provided by the PhotometryGalaxies mixin (sims\\_photUtils/../Photometry.py). The mixin calculates each of these magnitudes from the objects SED file on the spot. This is done to ensure that the magnitudes used utalize the most up-to-date models rather than what is provided by the database. We use the VariabilityGalaxies mixin to apply a random walk on the baseline catalogs given the MJD (described in arXiv:1112.0679v2).\n",
      "\n",
      "Since all of the AGNs in the database have the same SED, we apply a trick to only load the SED once. This saves a significant amount of time due to the file size of the SEDs provided (Thanks to Scott Daniel for that one)."
     ]
    },
    {
     "cell_type": "code",
     "collapsed": false,
     "input": [
      "import numpy\n",
      "import scipy\n",
      "from lsst.sims.catalogs.measures.instance import InstanceCatalog, compound\n",
      "from lsst.sims.photUtils import PhotometryGalaxies, VariabilityGalaxies\n",
      "\n",
      "class variableAgnCatalogCheat(InstanceCatalog, PhotometryGalaxies, VariabilityGalaxies):\n",
      "    \n",
      "    cannot_be_null = ['uAgn'] #again, we only want AGN\n",
      "    \n",
      "    #note that we are using [u,g,r,i,z,y]Agn as the baseline magnitudes\n",
      "    #rather than lsst_[u,g,r,i,z,y].  The VariabilityGalaxies mixin operates\n",
      "    #by calculating the baseline magnitude from the object's SED, rather\n",
      "    #than reading in the value from the database.  These should give the\n",
      "    #same answer, but they do not have to (if, for example, we changed \n",
      "    #reddening models between now and when the database was crated).\n",
      "    #[u,g,r,i,z,y]Agn are provided by the PhotometryGalaxies mixin defined\n",
      "    #in sims_photUtils/../Photometry.py, which is why we have to inherit from\n",
      "    #that class as well.\n",
      "    column_outputs = ['galid','AGNID', 'redshift', \n",
      "                      'raJ2000', 'decJ2000', \n",
      "                      #'magNormAgn', 'magNorm_total_var', \n",
      "                      'uAgn', 'uAgn_var', #'sigma_uAgn_var', \n",
      "                      'gAgn', 'gAgn_var', #'sigma_gAgn_var', \n",
      "                      'rAgn', 'rAgn_var', #'sigma_rAgn_var', \n",
      "                      'iAgn', 'iAgn_var', #'sigma_iAgn_var', \n",
      "                      'zAgn', 'zAgn_var', #'sigma_zAgn_var', \n",
      "                      'yAgn', 'yAgn_var', #'sigma_yAgn_var'\n",
      "                      ]\n",
      "    \n",
      "    transformations = {'raJ2000':numpy.degrees, 'decJ2000':numpy.degrees}\n",
      "    \n",
      "    @compound('sedFilenameBulge', 'sedFilenameDisk')\n",
      "    def get_nonsenseSED(self):\n",
      "        ra = self.column_by_name('raJ2000') #so we know how many objects are in the column\n",
      "        names = []\n",
      "        for r in ra:\n",
      "            names.append('None') #trick the catalog into thinking these galaxies don't have bulges or disks\n",
      "        return numpy.array([names, names])"
     ],
     "language": "python",
     "metadata": {},
     "outputs": [],
     "prompt_number": 5
    },
    {
     "cell_type": "markdown",
     "metadata": {},
     "source": [
      "Now, we create the actual catalog by calling the class. We specify that we want the galaxyDB to be our database and subject the simulation to the conditions of the first observation we queried earlier. Then, we define a file name and write the catalog to a .txt file (hopefully, the file format will change soon to inhance read times and stroage efficency)."
     ]
    },
    {
     "cell_type": "code",
     "collapsed": false,
     "input": [
      "variableAgn = variableAgnCatalogCheat(galaxyDB, obs_metadata=obsMDresults[0])\n",
      "catFileName = 'TestCats/AGNTestCatalog.txt'\n",
      "variableAgn.write_catalog(catFileName)"
     ],
     "language": "python",
     "metadata": {},
     "outputs": [
      {
       "output_type": "stream",
       "stream": "stderr",
       "text": [
        "/Users/jglaser/lsst/DarwinX86/sims_photUtils/1.0.0-81-g0c80041+14/python/lsst/sims/photUtils/Variability.py:531: FutureWarning: comparison to `None` will result in an elementwise object comparison in the future.\n",
        "  if deltaMagNorm != None and (not numpy.isnan(magNormAgn[i])):\n"
       ]
      }
     ],
     "prompt_number": 6
    },
    {
     "cell_type": "markdown",
     "metadata": {},
     "source": [
      "With the catalog created and stored on the hard-disk, we load up the file using the appropriate formatting."
     ]
    },
    {
     "cell_type": "code",
     "collapsed": false,
     "input": [
      "import matplotlib.pyplot as plt\n",
      "dtype = numpy.dtype([('galid', str), ('AGNID', int), ('redshift', float), \\\n",
      "                     ('raJ2000', float), ('decJ2000', float), \\\n",
      "                     ('uAgn',float),('uAgn_var',float), \\\n",
      "                     ('gAgn',float),('gAgn_var',float), \\\n",
      "                     ('rAgn',float),('rAgn_var',float), \\\n",
      "                     ('iAgn',float),('iAgn_var',float), \\\n",
      "                     ('zAgn',float),('zAgn_var',float), \\\n",
      "                     ('yAgn',float),('yAgn_var',float) \\\n",
      "                    ])\n",
      "\n",
      "AGNData = numpy.loadtxt(catFileName, delimiter=',', dtype=dtype)"
     ],
     "language": "python",
     "metadata": {},
     "outputs": [],
     "prompt_number": 7
    },
    {
     "cell_type": "markdown",
     "metadata": {},
     "source": [
      "Now we will use this data to generate a simple graph of the locations of the AGNs in the catalog. The graphical overlay shows the center of the FOV and the shape of the aperature, which was set to a circle of radius of 0.1 degrees when we created the observation meta-data."
     ]
    },
    {
     "cell_type": "code",
     "collapsed": false,
     "input": [
      "fig = plt.figure(figsize=(5,5))\n",
      "ax = fig.add_axes([0.1, 0.1, 0.8, 0.8])\n",
      "obsRA = numpy.degrees(obsMDresults[0].unrefractedRA)\n",
      "obsDec = numpy.degrees(obsMDresults[0].unrefractedDec)\n",
      "obsRAMin = obsRA-0.15\n",
      "obsRAMax = obsRA+0.15\n",
      "obsDecMin = obsDec-0.15\n",
      "obsDecMax = obsDec+0.15\n",
      "\n",
      "print obsRA,obsDec\n",
      "ax.scatter(AGNData['raJ2000'],AGNData['decJ2000'])\n",
      "ax.set_xlabel('RA (Degrees)')\n",
      "ax.set_ylabel('Dec (Degrees)')\n",
      "ax.axis([obsRAMin, obsRAMax, obsDecMin, obsDecMax])\n",
      "ax.axvline(obsRA, color='red')\n",
      "ax.axhline(obsDec, color='red')\n",
      "viewingCircle = plt.Circle((obsRA,obsDec),.1,color='r',fill=False)\n",
      "fig.gca().add_artist(viewingCircle)\n",
      "\n",
      "plt.show()"
     ],
     "language": "python",
     "metadata": {},
     "outputs": [
      {
       "output_type": "stream",
       "stream": "stdout",
       "text": [
        "51.8588111077 -32.9919984634\n"
       ]
      },
      {
       "metadata": {},
       "output_type": "display_data",
       "png": "[encoded data removed]",
       "text": [
        "<matplotlib.figure.Figure at 0x1125c3710>"
       ]
      }
     ],
     "prompt_number": 8
    },
    {
     "cell_type": "markdown",
     "metadata": {},
     "source": [
      "Since we asked for the catalog to also give us information about the redshift of our AGN, we can also produce the distribution of AGNs as a function of their redshift."
     ]
    },
    {
     "cell_type": "code",
     "collapsed": false,
     "input": [
      "plt.hist(AGNData['redshift'],bins=15)\n",
      "plt.show()"
     ],
     "language": "python",
     "metadata": {},
     "outputs": [
      {
       "metadata": {},
       "output_type": "display_data",
       "png": "[encoded data removed]",
       "text": [
        "<matplotlib.figure.Figure at 0x10cce2f50>"
       ]
      }
     ],
     "prompt_number": 9
    },
    {
     "cell_type": "markdown",
     "metadata": {},
     "source": [
      "Since a good method for classification of AGN involves creating color-color plots, I have generated some examples from our data set's six variable magnitude columns."
     ]
    },
    {
     "cell_type": "code",
     "collapsed": false,
     "input": [
      "u_g = AGNData['uAgn_var']-AGNData['gAgn_var']\n",
      "g_r = AGNData['gAgn_var']-AGNData['rAgn_var']\n",
      "r_i = AGNData['rAgn_var']-AGNData['iAgn_var']\n",
      "i_z = AGNData['iAgn_var']-AGNData['zAgn_var']\n",
      "z_y = AGNData['zAgn_var']-AGNData['yAgn_var']\n",
      "\n",
      "fig1 = plt.figure(figsize=(5,5))\n",
      "ax1 = fig1.add_axes([0.1, 0.1, 0.8, 0.8])\n",
      "ax1.scatter(u_g,g_r)\n",
      "ax1.set_xlabel('u-g')\n",
      "ax1.set_ylabel('g-r')\n",
      "ax1.axis([-0.5,2,-0.5,2])\n",
      "\n",
      "fig2 = plt.figure(figsize=(5,5))\n",
      "ax2 = fig2.add_axes([0.1, 0.1, 0.8, 0.8])\n",
      "ax2.scatter(g_r,r_i)\n",
      "ax2.set_xlabel('g-r')\n",
      "ax2.set_ylabel('r-i')\n",
      "ax2.axis([-0.5,2,-0.5,2])\n",
      "\n",
      "fig3 = plt.figure(figsize=(5,5))\n",
      "ax3 = fig3.add_axes([0.1, 0.1, 0.8, 0.8])\n",
      "ax3.scatter(r_i,i_z)\n",
      "ax3.set_xlabel('r-i')\n",
      "ax3.set_ylabel('i-z')\n",
      "ax3.axis([-0.5,2,-0.5,2])\n",
      "\n",
      "fig4 = plt.figure(figsize=(5,5))\n",
      "ax4 = fig4.add_axes([0.1, 0.1, 0.8, 0.8])\n",
      "ax4.scatter(i_z,z_y)\n",
      "ax4.set_xlabel('i-z')\n",
      "ax4.set_ylabel('z-y')\n",
      "ax4.axis([-0.5,2,-0.5,2])\n",
      "\n",
      "plt.show()"
     ],
     "language": "python",
     "metadata": {},
     "outputs": [
      {
       "metadata": {},
       "output_type": "display_data",
       "png": "[encoded data removed]",
       "text": [
        "<matplotlib.figure.Figure at 0x10ddb4a90>"
       ]
      },
      {
       "metadata": {},
       "output_type": "display_data",
       "png": "[encoded data removed]",
       "text": [
        "<matplotlib.figure.Figure at 0x10d952810>"
       ]
      },
      {
       "metadata": {},
       "output_type": "display_data",
       "png": "[encoded data removed]",
       "text": [
        "<matplotlib.figure.Figure at 0x10273b890>"
       ]
      },
      {
       "metadata": {},
       "output_type": "display_data",
       "png": "[encoded data removed]",
       "text": [
        "<matplotlib.figure.Figure at 0x11255b450>"
       ]
      }
     ],
     "prompt_number": 10
    },
    {
     "cell_type": "markdown",
     "metadata": {},
     "source": [
      "Finally, we can also take a look at the AGNs apperant magnitude in say, the g filter, versus their redshifts."
     ]
    },
    {
     "cell_type": "code",
     "collapsed": false,
     "input": [
      "fig5 = plt.figure(figsize=(5,5))\n",
      "ax5 = fig5.add_axes([0.1, 0.1, 0.8, 0.8])\n",
      "ax5.scatter(AGNData['redshift'],numpy.log(AGNData['gAgn_var']), color='green')\n",
      "#ax5.scatter(AGNData['redshift'],numpy.log(AGNData['rAgn_var']), color='red')\n",
      "#ax5.scatter(AGNData['redshift'],numpy.log(AGNData['iAgn_var']), color='orange')\n",
      "ax5.set_xlabel('Redshift')\n",
      "ax5.set_ylabel('log(g)')\n",
      "ax5.axis([0,8,2.9,3.6])\n",
      "\n",
      "plt.show()"
     ],
     "language": "python",
     "metadata": {},
     "outputs": [
      {
       "metadata": {},
       "output_type": "display_data",
       "png": "[encoded data removed]",
       "text": [
        "<matplotlib.figure.Figure at 0x10d0ea150>"
       ]
      }
     ],
     "prompt_number": 11
    },
    {
     "cell_type": "code",
     "collapsed": false,
     "input": [],
     "language": "python",
     "metadata": {},
     "outputs": []
    }
   ],
   "metadata": {}
  }
 ]
}