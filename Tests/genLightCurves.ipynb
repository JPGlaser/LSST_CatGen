{
 "metadata": {
  "name": "",
  "signature": "sha256:38093a4f8c38ea63f678b3bbf0d7a7bd7b7904b25fa4dbf54041160893c018bc"
 },
 "nbformat": 3,
 "nbformat_minor": 0,
 "worksheets": [
  {
   "cells": [
    {
     "cell_type": "heading",
     "level": 1,
     "metadata": {},
     "source": [
      "Generating Light Curves from Simulated Observations of Variable AGNs"
     ]
    },
    {
     "cell_type": "heading",
     "level": 2,
     "metadata": {},
     "source": [
      "Set-Up"
     ]
    },
    {
     "cell_type": "markdown",
     "metadata": {},
     "source": [
      "Before running this code, please make sure you have run the following commands within your working directory:"
     ]
    },
    {
     "cell_type": "raw",
     "metadata": {},
     "source": [
      "source ~/lsst/loadLSST.bash\n",
      "setup lsst_sims\n",
      "setup sims_catUtils\n",
      "setup sims_maf -t sims"
     ]
    },
    {
     "cell_type": "markdown",
     "metadata": {},
     "source": [
      "To make things easier, we will go ahead and initialize some basic python commands here."
     ]
    },
    {
     "cell_type": "code",
     "collapsed": false,
     "input": [
      "import numpy as np"
     ],
     "language": "python",
     "metadata": {},
     "outputs": [],
     "prompt_number": 1
    },
    {
     "cell_type": "heading",
     "level": 2,
     "metadata": {},
     "source": [
      "Creating the Observations"
     ]
    },
    {
     "cell_type": "markdown",
     "metadata": {},
     "source": [
      "We will be looking at two sets of observations. The first will be a set of identical observations made at equally spaced times for some constant time-step. The second will be a set of observations pulled from an ObSim database where each pointing will be within a specific section of the night sky."
     ]
    },
    {
     "cell_type": "code",
     "collapsed": false,
     "input": [
      "from lsst.sims.catalogs.generation.db import ObservationMetaData\n",
      "#print help(ObservationMetaData)\n",
      "\n",
      "radius = 0.05\n",
      "\n",
      "MJDArray = np.arange(57207,57938,dtype=np.float)\n",
      "ObDataList = []\n",
      "for i in xrange(len(MJDArray)):\n",
      "    ObDataList.append(ObservationMetaData(unrefractedRA=55.0, unrefractedDec=-45.0, \n",
      "                                            boundType='circle', boundLength=radius, \n",
      "                                            mjd=MJDArray[i]))\n",
      "for i in xrange(5):\n",
      "    o = ObDataList[i]\n",
      "    print o.unrefractedRA, o.unrefractedDec, o.mjd"
     ],
     "language": "python",
     "metadata": {},
     "outputs": [
      {
       "output_type": "stream",
       "stream": "stdout",
       "text": [
        "55.0 -45.0 57207.0\n",
        "55.0 -45.0 57208.0\n",
        "55.0 -45.0 57209.0\n",
        "55.0 -45.0 57210.0\n",
        "55.0 -45.0 57211.0\n"
       ]
      }
     ],
     "prompt_number": 2
    },
    {
     "cell_type": "code",
     "collapsed": false,
     "input": [
      "import eups\n",
      "import os\n",
      "from lsst.sims.catUtils.utils import ObservationMetaDataGenerator\n",
      "from lsst.sims.catalogs.generation.db import ObservationMetaData\n",
      "\n",
      "opsimdb = os.path.join(eups.productDir('sims_data'),'OpSimData','opsimblitz1_1133_sqlite.db')\n",
      "gen = ObservationMetaDataGenerator()\n",
      "obsMDresults = gen.getObservationMetaData(boundType='circle', boundLength=radius,\n",
      "                                          fieldRA=(50.0,60.0), fieldDec=(-50.0, -40.0), airmass = (1, 2.1))\n",
      "#help(ObservationMetaDataGenerator)\n",
      "#print obsMDresults[0].__dict__\n",
      "#for o in obsMDresults:\n",
      "#    print o.unrefractedRA, o.unrefractedDec, o.phoSimMetaData['airmass'][0], o.mjd"
     ],
     "language": "python",
     "metadata": {},
     "outputs": [],
     "prompt_number": 3
    },
    {
     "cell_type": "heading",
     "level": 2,
     "metadata": {},
     "source": [
      "Creating a Set of Catalogs for Multiple Observations"
     ]
    },
    {
     "cell_type": "markdown",
     "metadata": {},
     "source": [
      "To generated catalogs, we first need to define the database we wish to pull from. To do this, we connect to the Fatboy server located at Washington University. For information on how to connect to the database, see the documentation located here: https://confluence.lsstcorp.org/display/SIM/Accessing+the+UW+CATSIM+Database\n",
      "\n",
      "We are most interested in AGNs, so we define our source database to be that of GalaxyTileObj, which is handled by the baseCatalogModels package in catUtils."
     ]
    },
    {
     "cell_type": "code",
     "collapsed": false,
     "input": [
      "from lsst.sims.catUtils.baseCatalogModels import GalaxyTileObj\n",
      "galaxyDB = GalaxyTileObj()"
     ],
     "language": "python",
     "metadata": {},
     "outputs": [
      {
       "output_type": "stream",
       "stream": "stderr",
       "text": [
        "/Users/jglaser/lsst/DarwinX86/anaconda/master-g68783b1848/lib/python2.7/site-packages/sqlalchemy/dialects/mssql/base.py:1294: SAWarning: Did not recognize type 'geography' of column 'geopoint'\n",
        "  return fn(*arg, **kw)\n"
       ]
      }
     ],
     "prompt_number": 4
    },
    {
     "cell_type": "markdown",
     "metadata": {},
     "source": [
      "Now, we create a daughter of the Instance Catalog class which will pull visible sources from the database and store the information requested by column_outputs variable in RAM. We utilize a small cheat to quicken the catalog generation time by letting the catalog class think that the galaxies don't have disks or bulges (as they are not needed in our catalog) so it doesn't unload the AGN SED with each new object (this SED is the same for all AGN in GalaxyTileObj)."
     ]
    },
    {
     "cell_type": "code",
     "collapsed": false,
     "input": [
      "import scipy\n",
      "from lsst.sims.catalogs.measures.instance import InstanceCatalog, compound\n",
      "from lsst.sims.photUtils import PhotometryGalaxies, VariabilityGalaxies\n",
      "\n",
      "class variableAgnCatalogCheat(InstanceCatalog, PhotometryGalaxies, VariabilityGalaxies):\n",
      "    \n",
      "    cannot_be_null = ['uAgn'] #again, we only want AGN\n",
      "    \n",
      "    column_outputs = ['AGNID', 'redshift', \n",
      "                      'raJ2000', 'decJ2000', \n",
      "                      'uAgn', 'gAgn', 'rAgn',  'iAgn', 'zAgn', 'yAgn']\n",
      "    \n",
      "    transformations = {'raJ2000':numpy.degrees, 'decJ2000':numpy.degrees}\n",
      "    \n",
      "    @compound('sedFilenameBulge', 'sedFilenameDisk')\n",
      "    def get_nonsenseSED(self):\n",
      "        ra = self.column_by_name('raJ2000') #so we know how many objects are in the column\n",
      "        names = []\n",
      "        for r in ra:\n",
      "            names.append('None') #trick the catalog into thinking these galaxies don't have bulges or disks\n",
      "        return numpy.array([names, names])"
     ],
     "language": "python",
     "metadata": {},
     "outputs": [],
     "prompt_number": 5
    },
    {
     "cell_type": "markdown",
     "metadata": {},
     "source": [
      "With our daughter of the InstanceCatalog class created, we can now run it for the various observations created earlier. Each time the catalog is generated, we write it out to a text file so it can be read back in at a later time."
     ]
    },
    {
     "cell_type": "code",
     "collapsed": false,
     "input": [
      "primarydir = 'TestCats/2YearSurvey_c0.05'\n",
      "catdir = 'Catalogs'\n",
      "\n",
      "for i in xrange(len(ObDataList)):\n",
      "    o = ObDataList[i]\n",
      "    if not os.path.exists(primarydir+'/'+catdir):\n",
      "        os.makedirs(primarydir+'/'+catdir)\n",
      "    catFileName = (primarydir+'/'+catdir+'/AGNTestCatalog_%d.txt' %o.mjd)\n",
      "    if not os.path.isfile(primarydir+'/'+catdir+'/'+catFileName):\n",
      "        variableAgn = (variableAgnCatalogCheat(galaxyDB, obs_metadata=o))\n",
      "        variableAgn.write_catalog(catFileName)"
     ],
     "language": "python",
     "metadata": {},
     "outputs": [],
     "prompt_number": 6
    },
    {
     "cell_type": "heading",
     "level": 2,
     "metadata": {},
     "source": [
      "Creating Light Curves from Catalogs"
     ]
    },
    {
     "cell_type": "heading",
     "level": 3,
     "metadata": {},
     "source": [
      "Generating the Time-Series Data from Catalogs"
     ]
    },
    {
     "cell_type": "markdown",
     "metadata": {},
     "source": [
      "To create light curves from our collection of catalogs, we have to read them into python and store them in a list. We will then create seperate time-series arrays for the various magnitudes for each of the AGNs in our field of view. To do ensure that we cleanly seperate the data, we will utilize the AGNID coloumn.\n",
      "\n",
      "First, lets read in all our data and store it in a python list:"
     ]
    },
    {
     "cell_type": "code",
     "collapsed": false,
     "input": [
      "primarydir = 'TestCats/2YearSurvey_c0.05'\n",
      "catdir = 'Catalogs'\n",
      "\n",
      "dtype = numpy.dtype([('AGNID', int), ('redshift', float), \\\n",
      "                     ('raJ2000', float), ('decJ2000', float), \\\n",
      "                     ('uAgn',float), ('gAgn',float), \\\n",
      "                     ('rAgn',float), ('iAgn',float), \\\n",
      "                     ('zAgn',float), ('yAgn',float), \\\n",
      "                    ])\n",
      "AGNData = []\n",
      "for i in xrange(len(ObDataList)):\n",
      "    o = ObDataList[i]\n",
      "    catFileName = (primarydir+'/'+catdir+'/AGNTestCatalog_%d.txt' %o.mjd)\n",
      "    catalog = numpy.loadtxt(catFileName, delimiter=',', dtype=dtype)\n",
      "    AGNData.append(catalog)"
     ],
     "language": "python",
     "metadata": {},
     "outputs": [],
     "prompt_number": 7
    },
    {
     "cell_type": "markdown",
     "metadata": {},
     "source": [
      "Now, lets create a list of the AGNIDs found in our first observation:"
     ]
    },
    {
     "cell_type": "code",
     "collapsed": false,
     "input": [
      "AGNIDList = AGNData[0]['AGNID']\n",
      "print AGNIDList"
     ],
     "language": "python",
     "metadata": {},
     "outputs": [
      {
       "output_type": "stream",
       "stream": "stdout",
       "text": [
        "[373215 610737 654904  33617   1341 353311 688096 609022 358483 141375\n",
        " 500143 813030 141083 407953 211414 538257 356965 238677 674750 299170\n",
        " 610091 268731 832302  44713 285126 413814 594244 245281  75372 612938\n",
        " 336572 461227 257245 494748 659701 621399 661558 892861 526602 771048\n",
        "  27625 307706 340238 767419 309192 608239 119354 701707 801665 678814\n",
        " 624261 388135 251169 294328 398108   2314  32942 737714 130887  22184\n",
        " 497398 320485 336513 554677 552039 547150 480103 594214 554741]\n"
       ]
      }
     ],
     "prompt_number": 8
    },
    {
     "cell_type": "markdown",
     "metadata": {},
     "source": [
      "Now we will output a numpy array which will house the magnitudes for each of the AGNs found. The first index represents the AGN, the second represents the observation, and the third represents the filter."
     ]
    },
    {
     "cell_type": "code",
     "collapsed": false,
     "input": [
      "NumOfObs = len(AGNData)\n",
      "NumOfAGN = len(AGNIDList)\n",
      "\n",
      "AGNMags = np.zeros((NumOfAGN,NumOfObs,6))\n",
      "for i in xrange(NumOfObs):\n",
      "    for j in xrange(NumOfAGN):\n",
      "        for k in xrange(NumOfAGN):\n",
      "            if AGNData[i][k]['AGNID'] == AGNIDList[j]:\n",
      "                #AGNMags[j,i,0] = AGNData[i][k]['AGNID']\n",
      "                AGNMags[j,i,0] = AGNData[i][k]['uAgn']\n",
      "                AGNMags[j,i,1] = AGNData[i][k]['gAgn']\n",
      "                AGNMags[j,i,2] = AGNData[i][k]['rAgn']\n",
      "                AGNMags[j,i,3] = AGNData[i][k]['iAgn']\n",
      "                AGNMags[j,i,4] = AGNData[i][k]['zAgn']\n",
      "                AGNMags[j,i,5] = AGNData[i][k]['yAgn']"
     ],
     "language": "python",
     "metadata": {},
     "outputs": [],
     "prompt_number": 9
    },
    {
     "cell_type": "heading",
     "level": 3,
     "metadata": {},
     "source": [
      "Plotting and Exporting the Light-Curves"
     ]
    },
    {
     "cell_type": "markdown",
     "metadata": {},
     "source": [
      "The following code outputs all of the time-series data for the AGNs as light-curve plots into designated directories within the primary storage directory defined earlier. The plots are seperated by filter and stored as high resolution .eps files."
     ]
    },
    {
     "cell_type": "code",
     "collapsed": false,
     "input": [
      "import matplotlib.pyplot as plt\n",
      "matplotlib.rcParams.update({'font.size': 15})\n",
      "plt.ioff()\n",
      "\n",
      "filterNames = ['u', 'g', 'r', 'i', 'z', 'y']\n",
      "\n",
      "for i in xrange(NumOfAGN):\n",
      "    for j in xrange(6):\n",
      "        fig1 = plt.figure(figsize=(15,15))\n",
      "        ax1 = fig1.add_axes([0.1, 0.1, 0.8, 0.8])\n",
      "        ax1.plot(MJDArray, AGNMags[i,:,j], color='blue')\n",
      "        ax1.set_xlabel('MJD', fontsize=20)\n",
      "        ax1.set_ylabel('Magnitude', fontsize=20)\n",
      "        title = 'AGN %d Light Curve (Z = %f) | %s-Band' %(AGNIDList[i], AGNData[0]['redshift'][i], filterNames[j])\n",
      "        ax1.set_title(title, fontsize=25)\n",
      "        ax1.set_xlim([min(MJDArray),max(MJDArray)])\n",
      "        ax1.set_ylim(20,35)\n",
      "        imagedir = 'AGN%d' %(AGNIDList[i])\n",
      "        if not os.path.exists(primarydir+'/'+imagedir):\n",
      "            os.makedirs(primarydir+'/'+imagedir)\n",
      "        filename = 'AGN%d_%s.eps' %(AGNIDList[i], filterNames[j])\n",
      "        if not os.path.isfile(primarydir+'/'+imagedir+'/'+filename):\n",
      "            plt.savefig(primarydir+'/'+imagedir+'/'+filename, format='eps', dpi=1000)\n",
      "        plt.close()"
     ],
     "language": "python",
     "metadata": {},
     "outputs": [],
     "prompt_number": 10
    },
    {
     "cell_type": "code",
     "collapsed": false,
     "input": [],
     "language": "python",
     "metadata": {},
     "outputs": []
    }
   ],
   "metadata": {}
  }
 ]
}