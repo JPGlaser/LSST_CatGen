{
 "metadata": {
  "name": "",
  "signature": "sha256:e5a354e70426f030c811a60522796188bea3709f8679f70a2a77c59a4e4d5364"
 },
 "nbformat": 3,
 "nbformat_minor": 0,
 "worksheets": [
  {
   "cells": [
    {
     "cell_type": "heading",
     "level": 1,
     "metadata": {},
     "source": [
      "Generating Light Curves from Simulated Observations of Variable AGNs"
     ]
    },
    {
     "cell_type": "heading",
     "level": 2,
     "metadata": {},
     "source": [
      "Set-Up"
     ]
    },
    {
     "cell_type": "markdown",
     "metadata": {},
     "source": [
      "Before running this code, please make sure you have run the following commands within your working directory:"
     ]
    },
    {
     "cell_type": "raw",
     "metadata": {},
     "source": [
      "source ~/lsst/loadLSST.bash\n",
      "setup lsst_sims\n",
      "setup sims_catUtils\n",
      "setup sims_maf -t sims"
     ]
    },
    {
     "cell_type": "markdown",
     "metadata": {},
     "source": [
      "To make things easier, we will go ahead and initialize some basic python commands here."
     ]
    },
    {
     "cell_type": "code",
     "collapsed": false,
     "input": [
      "import numpy as np"
     ],
     "language": "python",
     "metadata": {},
     "outputs": [],
     "prompt_number": 1
    },
    {
     "cell_type": "heading",
     "level": 2,
     "metadata": {},
     "source": [
      "Creating the Observations"
     ]
    },
    {
     "cell_type": "markdown",
     "metadata": {},
     "source": [
      "In order to generate our catalogs, we first have to have a set of LSST observation meta-data (basically information about the observation, such as its MJD, RA, Dec, Airmass, etc). We can do this in a variety of ways within the LSST_Sims package. I have included a few variations within this document."
     ]
    },
    {
     "cell_type": "heading",
     "level": 3,
     "metadata": {},
     "source": [
      "Observation Shared Parameters"
     ]
    },
    {
     "cell_type": "code",
     "collapsed": false,
     "input": [
      "radius = 0.05\n",
      "\n",
      "MJDStart = 57207  #July 4th, 2015\n",
      "MJDEnd = 57938    #July 4th, 2017"
     ],
     "language": "python",
     "metadata": {},
     "outputs": [],
     "prompt_number": 2
    },
    {
     "cell_type": "heading",
     "level": 3,
     "metadata": {},
     "source": [
      "Consistant Observations"
     ]
    },
    {
     "cell_type": "markdown",
     "metadata": {},
     "source": [
      "The below code will generate a set of physically identical observations made at equally spaced MJD intervals."
     ]
    },
    {
     "cell_type": "code",
     "collapsed": false,
     "input": [
      "from lsst.sims.catalogs.generation.db import ObservationMetaData\n",
      "#print help(ObservationMetaData)\n",
      "\n",
      "MJDArray = np.arange(MJDStart,MJDEnd,dtype=np.float)\n",
      "\n",
      "ConstObData = []\n",
      "for i in xrange(len(MJDArray)):\n",
      "    ConstObData.append(ObservationMetaData(unrefractedRA=55.0, unrefractedDec=-45.0, \n",
      "                                            boundType='circle', boundLength=radius, \n",
      "                                            mjd=MJDArray[i]))\n",
      "for i in xrange(5):\n",
      "    o = ConstObData[i]\n",
      "    print o.unrefractedRA, o.unrefractedDec, o.mjd"
     ],
     "language": "python",
     "metadata": {},
     "outputs": [
      {
       "output_type": "stream",
       "stream": "stdout",
       "text": [
        "55.0 -45.0 57207.0\n",
        "55.0 -45.0 57208.0\n",
        "55.0 -45.0 57209.0\n",
        "55.0 -45.0 57210.0\n",
        "55.0 -45.0 57211.0\n"
       ]
      }
     ],
     "prompt_number": 3
    },
    {
     "cell_type": "heading",
     "level": 3,
     "metadata": {},
     "source": [
      "Random Observations"
     ]
    },
    {
     "cell_type": "markdown",
     "metadata": {},
     "source": [
      "The below code will generate a set of physically identical observations made at random MJD intervals."
     ]
    },
    {
     "cell_type": "code",
     "collapsed": false,
     "input": [
      "from lsst.sims.catalogs.generation.db import ObservationMetaData\n",
      "#print help(ObservationMetaData)\n",
      "\n",
      "MJDArray = np.arange(MJDStart,MJDEnd,dtype=np.float)\n",
      "\n",
      "RandObData = []\n",
      "for i in xrange(len(MJDArray)):\n",
      "    RandObData.append(ObservationMetaData(unrefractedRA=-25.0, unrefractedDec=-45.0, \n",
      "                                            boundType='circle', boundLength=radius, \n",
      "                                            mjd=MJDArray[i]))\n",
      "\n",
      "for i in xrange(400):\n",
      "    removedOb = random.choice(RandObData, 1)\n",
      "    RandObData.remove(removedOb[0])\n",
      "\n",
      "print len(RandObData)\n",
      "\n",
      "for i in xrange(5):\n",
      "    o = RandObData[i]\n",
      "    print o.unrefractedRA, o.unrefractedDec, o.mjd"
     ],
     "language": "python",
     "metadata": {},
     "outputs": [
      {
       "output_type": "stream",
       "stream": "stdout",
       "text": [
        "331\n",
        "-25.0 -45.0 57207.0\n",
        "-25.0 -45.0 57208.0\n",
        "-25.0 -45.0 57210.0\n",
        "-25.0 -45.0 57216.0\n",
        "-25.0 -45.0 57219.0\n"
       ]
      }
     ],
     "prompt_number": 4
    },
    {
     "cell_type": "heading",
     "level": 3,
     "metadata": {},
     "source": [
      "ObSim-Generated Observations"
     ]
    },
    {
     "cell_type": "markdown",
     "metadata": {},
     "source": [
      "The below code will generated a set of observations pulled from an ObSim database subject to specific constraints. We have set these constraints such that each pointing will be within a specific section of the night sky and within a range of airmasses."
     ]
    },
    {
     "cell_type": "code",
     "collapsed": false,
     "input": [
      "import eups\n",
      "import os\n",
      "from lsst.sims.catUtils.utils import ObservationMetaDataGenerator\n",
      "from lsst.sims.catalogs.generation.db import ObservationMetaData\n",
      "#help(ObservationMetaDataGenerator)\n",
      "#print obsMDresults[0].__dict__\n",
      "\n",
      "opsimdb = os.path.join(eups.productDir('sims_data'),'OpSimData','opsimblitz1_1133_sqlite.db')\n",
      "gen = ObservationMetaDataGenerator()\n",
      "SimObData = gen.getObservationMetaData(boundType='circle', boundLength=radius,\n",
      "                                          fieldRA=(50.0,60.0), fieldDec=(-50.0, -40.0), airmass = (1, 2.1))\n",
      "\n",
      "#for o in SimObData:\n",
      "#    print o.unrefractedRA, o.unrefractedDec, o.phoSimMetaData['airmass'][0], o.mjd"
     ],
     "language": "python",
     "metadata": {},
     "outputs": [],
     "prompt_number": 5
    },
    {
     "cell_type": "heading",
     "level": 3,
     "metadata": {},
     "source": [
      "Select which Set of Observations to Use"
     ]
    },
    {
     "cell_type": "code",
     "collapsed": false,
     "input": [
      "#ObDataList = list(ConstObData)\n",
      "ObDataList = list(RandObData)\n",
      "#ObDataList = list(SimObData)\n",
      "\n",
      "ObMJDList = []\n",
      "for o in ObDataList:\n",
      "    ObMJDList.append(o.mjd)"
     ],
     "language": "python",
     "metadata": {},
     "outputs": [],
     "prompt_number": 6
    },
    {
     "cell_type": "heading",
     "level": 2,
     "metadata": {},
     "source": [
      "Creating a Set of Catalogs for Multiple Observations"
     ]
    },
    {
     "cell_type": "markdown",
     "metadata": {},
     "source": [
      "To generated catalogs, we first need to define the database we wish to pull from. To do this, we connect to the Fatboy server located at Washington University. For information on how to connect to the database, see the documentation located here: https://confluence.lsstcorp.org/display/SIM/Accessing+the+UW+CATSIM+Database\n",
      "\n",
      "We are most interested in AGNs, so we define our source database to be that of GalaxyTileObj, which is handled by the baseCatalogModels package in catUtils."
     ]
    },
    {
     "cell_type": "code",
     "collapsed": false,
     "input": [
      "from lsst.sims.catUtils.baseCatalogModels import GalaxyTileObj\n",
      "galaxyDB = GalaxyTileObj()"
     ],
     "language": "python",
     "metadata": {},
     "outputs": [
      {
       "output_type": "stream",
       "stream": "stderr",
       "text": [
        "/Users/jglaser/lsst/DarwinX86/anaconda/master-g68783b1848/lib/python2.7/site-packages/sqlalchemy/dialects/mssql/base.py:1294: SAWarning: Did not recognize type 'geography' of column 'geopoint'\n",
        "  return fn(*arg, **kw)\n"
       ]
      }
     ],
     "prompt_number": 7
    },
    {
     "cell_type": "markdown",
     "metadata": {},
     "source": [
      "Now, we create a daughter of the Instance Catalog class which will pull visible sources from the database and store the information requested by column_outputs variable in RAM. We utilize a small cheat to quicken the catalog generation time by letting the catalog class think that the galaxies don't have disks or bulges (as they are not needed in our catalog) so it doesn't unload the AGN SED with each new object (this SED is the same for all AGN in GalaxyTileObj)."
     ]
    },
    {
     "cell_type": "code",
     "collapsed": false,
     "input": [
      "import scipy\n",
      "from lsst.sims.catalogs.measures.instance import InstanceCatalog, compound\n",
      "from lsst.sims.photUtils import PhotometryGalaxies, VariabilityGalaxies\n",
      "\n",
      "class variableAgnCatalogCheat(InstanceCatalog, PhotometryGalaxies, VariabilityGalaxies):\n",
      "    \n",
      "    cannot_be_null = ['uAgn'] #again, we only want AGN\n",
      "    \n",
      "    column_outputs = ['AGNID', 'redshift', \n",
      "                      'raJ2000', 'decJ2000', \n",
      "                      'uAgn', 'gAgn', 'rAgn',  'iAgn', 'zAgn', 'yAgn']\n",
      "    \n",
      "    transformations = {'raJ2000':numpy.degrees, 'decJ2000':numpy.degrees}\n",
      "    \n",
      "    @compound('sedFilenameBulge', 'sedFilenameDisk')\n",
      "    def get_nonsenseSED(self):\n",
      "        ra = self.column_by_name('raJ2000') #so we know how many objects are in the column\n",
      "        names = []\n",
      "        for r in ra:\n",
      "            names.append('None') #trick the catalog into thinking these galaxies don't have bulges or disks\n",
      "        return numpy.array([names, names])"
     ],
     "language": "python",
     "metadata": {},
     "outputs": [],
     "prompt_number": 8
    },
    {
     "cell_type": "markdown",
     "metadata": {},
     "source": [
      "With our daughter of the InstanceCatalog class created, we can now run it for the various observations created earlier. Each time the catalog is generated, we write it out to a text file so it can be read back in at a later time."
     ]
    },
    {
     "cell_type": "code",
     "collapsed": false,
     "input": [
      "primarydir = 'TestCats/2YearSurvey_c0.05_RandObData'\n",
      "catdir = 'Catalogs'\n",
      "\n",
      "for i in xrange(len(ObDataList)):\n",
      "    o = ObDataList[i]\n",
      "    if not os.path.exists(primarydir+'/'+catdir):\n",
      "        os.makedirs(primarydir+'/'+catdir)\n",
      "    catFileName = 'AGNTestCatalog_%d.txt' %o.mjd\n",
      "    if os.path.isfile(primarydir+'/'+catdir+'/'+catFileName) == False:\n",
      "        variableAgn = (variableAgnCatalogCheat(galaxyDB, obs_metadata=o))\n",
      "        variableAgn.write_catalog(primarydir+'/'+catdir+'/'+catFileName)"
     ],
     "language": "python",
     "metadata": {},
     "outputs": [],
     "prompt_number": 9
    },
    {
     "cell_type": "heading",
     "level": 2,
     "metadata": {},
     "source": [
      "Creating Light Curves from Catalogs"
     ]
    },
    {
     "cell_type": "heading",
     "level": 3,
     "metadata": {},
     "source": [
      "Generating the Time-Series Data from Catalogs"
     ]
    },
    {
     "cell_type": "markdown",
     "metadata": {},
     "source": [
      "To create light curves from our collection of catalogs, we have to read them into python and store them in a list. We will then create seperate time-series arrays for the various magnitudes for each of the AGNs in our field of view. To do ensure that we cleanly seperate the data, we will utilize the AGNID coloumn.\n",
      "\n",
      "First, lets read in all our data and store it in a python list:"
     ]
    },
    {
     "cell_type": "code",
     "collapsed": false,
     "input": [
      "primarydir = 'TestCats/2YearSurvey_c0.05_RandObData'\n",
      "catdir = 'Catalogs'\n",
      "\n",
      "dtype = numpy.dtype([('AGNID', int), ('redshift', float), \\\n",
      "                     ('raJ2000', float), ('decJ2000', float), \\\n",
      "                     ('uAgn',float), ('gAgn',float), \\\n",
      "                     ('rAgn',float), ('iAgn',float), \\\n",
      "                     ('zAgn',float), ('yAgn',float), \\\n",
      "                    ])\n",
      "AGNData = []\n",
      "for i in xrange(len(ObDataList)):\n",
      "    o = ObDataList[i]\n",
      "    catFileName = (primarydir+'/'+catdir+'/AGNTestCatalog_%d.txt' %o.mjd)\n",
      "    catalog = numpy.loadtxt(catFileName, delimiter=',', dtype=dtype)\n",
      "    AGNData.append(catalog)"
     ],
     "language": "python",
     "metadata": {},
     "outputs": [],
     "prompt_number": 10
    },
    {
     "cell_type": "markdown",
     "metadata": {},
     "source": [
      "Now, lets create a list of the AGNIDs found in our first observation:"
     ]
    },
    {
     "cell_type": "code",
     "collapsed": false,
     "input": [
      "AGNIDList = AGNData[0]['AGNID']\n",
      "print AGNIDList"
     ],
     "language": "python",
     "metadata": {},
     "outputs": [
      {
       "output_type": "stream",
       "stream": "stdout",
       "text": [
        "[373215 610737 654904 407953 621399 285126  33617 688096 340238 309192\n",
        " 608239 892861 771048  27625 609022 358483 701707 526602   1341 353311\n",
        " 801665 141375 500143 388135 251169 294328 547150 480103 767419 119354\n",
        " 813030  22184 141083 538257 678814 624261 737714 554677 238677 674750\n",
        " 299170 659701 211414 356965 610091 661558 268731 832302 307706 594214\n",
        "  44713 413814 594244 398108   2314  32942 130887 497398 320485 336513\n",
        " 245281 554741 552039  75372 612938 336572 461227 257245 494748]\n"
       ]
      }
     ],
     "prompt_number": 11
    },
    {
     "cell_type": "markdown",
     "metadata": {},
     "source": [
      "Now we will output a numpy array which will house the magnitudes for each of the AGNs found. The first index represents the AGN, the second represents the observation, and the third represents the filter."
     ]
    },
    {
     "cell_type": "code",
     "collapsed": false,
     "input": [
      "NumOfObs = len(AGNData)\n",
      "NumOfAGN = len(AGNIDList)\n",
      "\n",
      "AGNMags = np.zeros((NumOfAGN,NumOfObs,6))\n",
      "for i in xrange(NumOfObs):\n",
      "    for j in xrange(NumOfAGN):\n",
      "        for k in xrange(NumOfAGN):\n",
      "            if AGNData[i][k]['AGNID'] == AGNIDList[j]:\n",
      "                #AGNMags[j,i,0] = AGNData[i][k]['AGNID']\n",
      "                AGNMags[j,i,0] = AGNData[i][k]['uAgn']\n",
      "                AGNMags[j,i,1] = AGNData[i][k]['gAgn']\n",
      "                AGNMags[j,i,2] = AGNData[i][k]['rAgn']\n",
      "                AGNMags[j,i,3] = AGNData[i][k]['iAgn']\n",
      "                AGNMags[j,i,4] = AGNData[i][k]['zAgn']\n",
      "                AGNMags[j,i,5] = AGNData[i][k]['yAgn']"
     ],
     "language": "python",
     "metadata": {},
     "outputs": [],
     "prompt_number": 12
    },
    {
     "cell_type": "heading",
     "level": 3,
     "metadata": {},
     "source": [
      "Plotting and Exporting the Light-Curves"
     ]
    },
    {
     "cell_type": "markdown",
     "metadata": {},
     "source": [
      "The following code outputs all of the time-series data for the AGNs as light-curve plots into designated directories within the primary storage directory defined earlier. The plots are seperated by filter and stored as high resolution .eps files."
     ]
    },
    {
     "cell_type": "code",
     "collapsed": false,
     "input": [
      "import matplotlib.pyplot as plt\n",
      "matplotlib.rcParams.update({'font.size': 15})\n",
      "plt.ioff()\n",
      "\n",
      "filterNames = ['u', 'g', 'r', 'i', 'z', 'y']\n",
      "MJDAsDays = ObMJDList-ObMJDList[0]\n",
      "\n",
      "for i in xrange(NumOfAGN):\n",
      "    for j in xrange(6):\n",
      "        fig1 = plt.figure(figsize=(15,15))\n",
      "        ax1 = fig1.add_axes([0.1, 0.1, 0.8, 0.8])\n",
      "        ax1.plot(MJDAsDays, AGNMags[i,:,j], color='blue', marker='.')\n",
      "        ax1.set_xlabel('Days since MJD$_{obs}}$ = %d' %(MJDArray[0]), fontsize=20)\n",
      "        ax1.set_ylabel('Magnitude', fontsize=20)\n",
      "        title = 'AGN %d Light Curve (Z = %f) | %s-Band' %(AGNIDList[i], AGNData[0]['redshift'][i], filterNames[j])\n",
      "        ax1.set_title(title, fontsize=25)\n",
      "        ax1.set_xlim(0,max(MJDAsDays))\n",
      "        ax1.set_ylim(20,35)\n",
      "        imagedir = 'AGN%d' %(AGNIDList[i])\n",
      "        if not os.path.exists(primarydir+'/'+imagedir):\n",
      "            os.makedirs(primarydir+'/'+imagedir)\n",
      "        filename = 'AGN%d_ObFrame_%s.eps' %(AGNIDList[i], filterNames[j])\n",
      "        if not os.path.isfile(primarydir+'/'+imagedir+'/'+filename):\n",
      "            plt.savefig(primarydir+'/'+imagedir+'/'+filename, format='eps', dpi=1000)\n",
      "        plt.close()"
     ],
     "language": "python",
     "metadata": {},
     "outputs": [],
     "prompt_number": 14
    },
    {
     "cell_type": "heading",
     "level": 3,
     "metadata": {},
     "source": [
      "Transforming Plots to the Rest Frame of the AGN"
     ]
    },
    {
     "cell_type": "markdown",
     "metadata": {},
     "source": [
      "It is easy to notice that some of the AGNs at high redshift seem to vary less often (aka: the light curve looks blockier) than AGNs at low redshifts. This is an artifact of how we ploted our observed magnitudes and not a physical mechanism. \n",
      "\n",
      "Since the Universe is expanding, the signal we measure is not at the same sampling rate as it is produced in the rest frame of the AGN. However, we can correct for this very simply. For details regarding this correction, see the article at the following link: http://burro.astr.cwru.edu/Academics/Astr328/Notes/Redshift/redshift.html"
     ]
    },
    {
     "cell_type": "code",
     "collapsed": false,
     "input": [
      "import matplotlib.pyplot as plt\n",
      "matplotlib.rcParams.update({'font.size': 15})\n",
      "plt.ioff()\n",
      "\n",
      "filterNames = ['u', 'g', 'r', 'i', 'z', 'y']\n",
      "MJDAsDays = ObMJDList-ObMJDList[0]\n",
      "\n",
      "for i in xrange(NumOfAGN):\n",
      "    RestFrameDays = MJDAsDays/(1.+AGNData[0]['redshift'][i])\n",
      "    for j in xrange(6):\n",
      "        fig1 = plt.figure(figsize=(15,15))\n",
      "        ax1 = fig1.add_axes([0.1, 0.1, 0.8, 0.8])\n",
      "        ax1.plot(RestFrameDays, AGNMags[i,:,j], color='blue')\n",
      "        ax1.set_xlabel('Days in the Rest Frame since MJD$_{obs}$ = %d' %(MJDArray[0]), fontsize=20)\n",
      "        ax1.set_ylabel('Magnitude', fontsize=20)\n",
      "        title = 'AGN %d Rest Frame Light Curve | %s-Band' %(AGNIDList[i], filterNames[j])\n",
      "        ax1.set_title(title, fontsize=25)\n",
      "        ax1.set_xlim(0,max(MJDAsDays))\n",
      "        ax1.set_ylim(20,35)\n",
      "        imagedir = 'AGN%d' %(AGNIDList[i])\n",
      "        if not os.path.exists(primarydir+'/'+imagedir):\n",
      "            os.makedirs(primarydir+'/'+imagedir)\n",
      "        filename = 'AGN%d_RestFrame_%s.eps' %(AGNIDList[i], filterNames[j])\n",
      "        if not os.path.isfile(primarydir+'/'+imagedir+'/'+filename):\n",
      "            plt.savefig(primarydir+'/'+imagedir+'/'+filename, format='eps', dpi=1000)\n",
      "        plt.close()"
     ],
     "language": "python",
     "metadata": {},
     "outputs": [],
     "prompt_number": 15
    },
    {
     "cell_type": "heading",
     "level": 3,
     "metadata": {},
     "source": [
      "Exporting the Observed Time-Series Data"
     ]
    },
    {
     "cell_type": "markdown",
     "metadata": {},
     "source": [
      "With the graphs made and exported, we should also export the numerical results of our simulation so that they can be imported later for convience. The format that these text files (File Name: AGN{AGNID}_z{RedShift}.txt) will have (one generated for each AGN on file and placed in the same directory as the light-curves) will be a comma-seperated list with coloumns: \n",
      "\n",
      "MJD, u-Filter Mag., g-Filter Mag., r-Filter Mag., i-Filter Mag., z-Filter Mag., y-Filter Mag."
     ]
    },
    {
     "cell_type": "code",
     "collapsed": false,
     "input": [
      "for i in xrange(NumOfAGN):\n",
      "    imagedir = 'AGN%d' %(AGNIDList[i])\n",
      "    if not os.path.exists(primarydir+'/'+imagedir):\n",
      "        os.makedirs(primarydir+'/'+imagedir)\n",
      "    filename = 'AGN%d_z%f.txt' %(AGNIDList[i], AGNData[0]['redshift'][i])\n",
      "    if os.path.isfile(primarydir+'/'+imagedir+'/'+filename) == False:\n",
      "        target = open(primarydir+'/'+imagedir+'/'+filename, 'w')\n",
      "        target.write('MJD, u, g, r, i, z, y \\n')\n",
      "        for j in xrange(NumOfObs):\n",
      "            target.write(str(MJDArray[j]))\n",
      "            target.write(', ')\n",
      "            target.write(', '.join(['%.5f' % num for num in AGNMags[i,j]]))\n",
      "            target.write('\\n')\n",
      "        target.close()"
     ],
     "language": "python",
     "metadata": {},
     "outputs": [],
     "prompt_number": 16
    },
    {
     "cell_type": "code",
     "collapsed": false,
     "input": [],
     "language": "python",
     "metadata": {},
     "outputs": []
    }
   ],
   "metadata": {}
  }
 ]
}